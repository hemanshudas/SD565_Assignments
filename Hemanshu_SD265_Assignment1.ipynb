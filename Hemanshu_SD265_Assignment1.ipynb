{
  "nbformat": 4,
  "nbformat_minor": 0,
  "metadata": {
    "kernelspec": {
      "display_name": "Python 3",
      "language": "python",
      "name": "python3"
    },
    "language_info": {
      "codemirror_mode": {
        "name": "ipython",
        "version": 3
      },
      "file_extension": ".py",
      "mimetype": "text/x-python",
      "name": "python",
      "nbconvert_exporter": "python",
      "pygments_lexer": "ipython3",
      "version": "3.8.5"
    },
    "colab": {
      "name": "Hemanshu_SD265_Assignment1.ipynb",
      "provenance": [],
      "collapsed_sections": [
        "UG-MRFLfl0t5",
        "UhQaruJSl0uQ",
        "YHb25f-_l0uR",
        "UEDurIAZl0uR",
        "J9fS_8Uwl0uR",
        "XXqw7n2sl0uS",
        "TO5CujEGl0uT",
        "Rx0hROFUl0uT",
        "oME665fcl0uU",
        "QG9Nz3jbl0uU",
        "nRfrljrSl0uV",
        "24a0D-iKl0uW",
        "OMNoHJ7il0uX"
      ],
      "include_colab_link": true
    }
  },
  "cells": [
    {
      "cell_type": "markdown",
      "metadata": {
        "id": "view-in-github",
        "colab_type": "text"
      },
      "source": [
        "<a href=\"https://colab.research.google.com/github/hemanshudas/SD565_Assignments/blob/main/Hemanshu_SD265_Assignment1.ipynb\" target=\"_parent\"><img src=\"https://colab.research.google.com/assets/colab-badge.svg\" alt=\"Open In Colab\"/></a>"
      ]
    },
    {
      "cell_type": "markdown",
      "metadata": {
        "id": "5ElpXRk1l0tS"
      },
      "source": [
        "## Introductory Machine Learning: Assignment 1\n",
        "\n",
        "**Deadline:**\n",
        "\n",
        "Assignment 1 is due Thursday, September 23 at 11:59pm. Late work will not be accepted as per the course policies (see the Syllabus and Course policies on [Canvas](https://canvas.yale.edu)).\n",
        "\n",
        "Directly sharing answers is not okay, but discussing problems with the course staff or with other students is encouraged.\n",
        "\n",
        "You should start early so that you have time to get help if you're stuck. The drop-in office hours schedule can be found on [Canvas](https://canvas.yale.edu).  You can also post questions or start discussions on [Ed Discussion](https://edstem.org/us/courses/9209/discussion/). The assignment may look long at first glance, but the problems are broken up into steps that should help you to make steady progress.\n",
        "\n",
        "**Submission:**\n",
        "\n",
        "Submit your assignment as a .pdf on Gradescope. You can access Gradescope through Canvas on the left-side of the class home page. The problems in each homework assignment are numbered. Note: When submitting on Gradescope, please select the correct pages of your pdf that correspond to each problem. This will allow graders to more easily find your complete solution to each problem.\n",
        "\n",
        "To produce the .pdf, please do the following in order to preserve the cell structure of the notebook:  \n",
        "1.  Go to \"File\" at the top-left of your Jupyter Notebook\n",
        "2.  Under \"Download as\", select \"HTML (.html)\"\n",
        "3.  After the .html has downloaded, open it and then select \"File\" and \"Print\" (note you will not actually be printing)\n",
        "4.  From the print window, select the option to save as a .pdf\n",
        "\n",
        "**Topics**\n",
        "1. Linear regression\n",
        "2. k-nearest-neighbor classification\n",
        "\n",
        "This assignment will also help you to learn the essentials of Python, Pandas, and Jupyter notebooks. "
      ]
    },
    {
      "cell_type": "markdown",
      "metadata": {
        "id": "WqnkQ_Npl0td"
      },
      "source": [
        "## Problem 1: Linear Regression with Covid Data"
      ]
    },
    {
      "cell_type": "markdown",
      "metadata": {
        "id": "D_F1RU6Al0te"
      },
      "source": [
        "The New York Times Covid-19 Database is \n",
        "a county-level database of confirmed cases and deaths, \n",
        "compiled from state and local governments and health departments across the United States.\n",
        "The initial release of the database was on Thursday, March 26, 2020, and it is updated daily. \n",
        "\n",
        "The data are publically available via GitHub: [https://github.com/nytimes/covid-19-data](https://www.nytimes.com/interactive/2020/us/coronavirus-us-cases.html).  In this problem we will only use the data aggregated across states."
      ]
    },
    {
      "cell_type": "code",
      "metadata": {
        "id": "ILb1u9PJl0tf",
        "colab": {
          "base_uri": "https://localhost:8080/",
          "height": 0
        },
        "outputId": "37c2af80-d1b1-4ff9-a85a-7665036a24e8"
      },
      "source": [
        "import pandas as pd\n",
        "import numpy as np\n",
        "import matplotlib.pyplot as plt\n",
        "import plotly.graph_objects as go\n",
        "import statsmodels.api as sm\n"
      ],
      "execution_count": 1,
      "outputs": [
        {
          "output_type": "stream",
          "name": "stderr",
          "text": [
            "/usr/local/lib/python3.7/dist-packages/statsmodels/tools/_testing.py:19: FutureWarning:\n",
            "\n",
            "pandas.util.testing is deprecated. Use the functions in the public API at pandas.testing instead.\n",
            "\n"
          ]
        }
      ]
    },
    {
      "cell_type": "markdown",
      "metadata": {
        "id": "fhQE07qul0tj"
      },
      "source": [
        "### Load the data\n",
        "\n",
        "First, read the whole dataset including the accumulated cases and deaths for each state for each day."
      ]
    },
    {
      "cell_type": "code",
      "metadata": {
        "colab": {
          "base_uri": "https://localhost:8080/",
          "height": 359
        },
        "id": "j8IN9Bb3l0to",
        "outputId": "da3df827-b2b6-4cc5-826c-5074dcc89668"
      },
      "source": [
        "covid_table = pd.read_csv(\"https://raw.githubusercontent.com/nytimes/covid-19-data/master/us-states.csv\")\n",
        "covid_table = covid_table.drop('fips', axis=1)\n",
        "covid_table.tail(10)"
      ],
      "execution_count": 2,
      "outputs": [
        {
          "output_type": "execute_result",
          "data": {
            "text/html": [
              "<div>\n",
              "<style scoped>\n",
              "    .dataframe tbody tr th:only-of-type {\n",
              "        vertical-align: middle;\n",
              "    }\n",
              "\n",
              "    .dataframe tbody tr th {\n",
              "        vertical-align: top;\n",
              "    }\n",
              "\n",
              "    .dataframe thead th {\n",
              "        text-align: right;\n",
              "    }\n",
              "</style>\n",
              "<table border=\"1\" class=\"dataframe\">\n",
              "  <thead>\n",
              "    <tr style=\"text-align: right;\">\n",
              "      <th></th>\n",
              "      <th>date</th>\n",
              "      <th>state</th>\n",
              "      <th>cases</th>\n",
              "      <th>deaths</th>\n",
              "    </tr>\n",
              "  </thead>\n",
              "  <tbody>\n",
              "    <tr>\n",
              "      <th>31134</th>\n",
              "      <td>2021-09-19</td>\n",
              "      <td>Tennessee</td>\n",
              "      <td>1151186</td>\n",
              "      <td>14225</td>\n",
              "    </tr>\n",
              "    <tr>\n",
              "      <th>31135</th>\n",
              "      <td>2021-09-19</td>\n",
              "      <td>Texas</td>\n",
              "      <td>3926755</td>\n",
              "      <td>62323</td>\n",
              "    </tr>\n",
              "    <tr>\n",
              "      <th>31136</th>\n",
              "      <td>2021-09-19</td>\n",
              "      <td>Utah</td>\n",
              "      <td>491073</td>\n",
              "      <td>2787</td>\n",
              "    </tr>\n",
              "    <tr>\n",
              "      <th>31137</th>\n",
              "      <td>2021-09-19</td>\n",
              "      <td>Vermont</td>\n",
              "      <td>31634</td>\n",
              "      <td>298</td>\n",
              "    </tr>\n",
              "    <tr>\n",
              "      <th>31138</th>\n",
              "      <td>2021-09-19</td>\n",
              "      <td>Virgin Islands</td>\n",
              "      <td>6439</td>\n",
              "      <td>67</td>\n",
              "    </tr>\n",
              "    <tr>\n",
              "      <th>31139</th>\n",
              "      <td>2021-09-19</td>\n",
              "      <td>Virginia</td>\n",
              "      <td>827197</td>\n",
              "      <td>12242</td>\n",
              "    </tr>\n",
              "    <tr>\n",
              "      <th>31140</th>\n",
              "      <td>2021-09-19</td>\n",
              "      <td>Washington</td>\n",
              "      <td>623254</td>\n",
              "      <td>7256</td>\n",
              "    </tr>\n",
              "    <tr>\n",
              "      <th>31141</th>\n",
              "      <td>2021-09-19</td>\n",
              "      <td>West Virginia</td>\n",
              "      <td>223117</td>\n",
              "      <td>3370</td>\n",
              "    </tr>\n",
              "    <tr>\n",
              "      <th>31142</th>\n",
              "      <td>2021-09-19</td>\n",
              "      <td>Wisconsin</td>\n",
              "      <td>772089</td>\n",
              "      <td>8703</td>\n",
              "    </tr>\n",
              "    <tr>\n",
              "      <th>31143</th>\n",
              "      <td>2021-09-19</td>\n",
              "      <td>Wyoming</td>\n",
              "      <td>83958</td>\n",
              "      <td>918</td>\n",
              "    </tr>\n",
              "  </tbody>\n",
              "</table>\n",
              "</div>"
            ],
            "text/plain": [
              "             date           state    cases  deaths\n",
              "31134  2021-09-19       Tennessee  1151186   14225\n",
              "31135  2021-09-19           Texas  3926755   62323\n",
              "31136  2021-09-19            Utah   491073    2787\n",
              "31137  2021-09-19         Vermont    31634     298\n",
              "31138  2021-09-19  Virgin Islands     6439      67\n",
              "31139  2021-09-19        Virginia   827197   12242\n",
              "31140  2021-09-19      Washington   623254    7256\n",
              "31141  2021-09-19   West Virginia   223117    3370\n",
              "31142  2021-09-19       Wisconsin   772089    8703\n",
              "31143  2021-09-19         Wyoming    83958     918"
            ]
          },
          "metadata": {},
          "execution_count": 2
        }
      ]
    },
    {
      "cell_type": "markdown",
      "metadata": {
        "id": "NlSsx5wJl0tq"
      },
      "source": [
        "### Aggregate data across states\n",
        "\n",
        "We can merge data from different states to get the total number of cases and deaths for the country. Here we also show an example of visualizing the data."
      ]
    },
    {
      "cell_type": "code",
      "metadata": {
        "colab": {
          "base_uri": "https://localhost:8080/",
          "height": 390
        },
        "id": "kOg04fz9l0ts",
        "outputId": "3c47670b-951b-485f-d53f-59aee6b628a6"
      },
      "source": [
        "merged_data = covid_table.drop('state', axis=1)\n",
        "merged_data = merged_data.groupby('date').sum()\n",
        "merged_data.tail(10)"
      ],
      "execution_count": 3,
      "outputs": [
        {
          "output_type": "execute_result",
          "data": {
            "text/html": [
              "<div>\n",
              "<style scoped>\n",
              "    .dataframe tbody tr th:only-of-type {\n",
              "        vertical-align: middle;\n",
              "    }\n",
              "\n",
              "    .dataframe tbody tr th {\n",
              "        vertical-align: top;\n",
              "    }\n",
              "\n",
              "    .dataframe thead th {\n",
              "        text-align: right;\n",
              "    }\n",
              "</style>\n",
              "<table border=\"1\" class=\"dataframe\">\n",
              "  <thead>\n",
              "    <tr style=\"text-align: right;\">\n",
              "      <th></th>\n",
              "      <th>cases</th>\n",
              "      <th>deaths</th>\n",
              "    </tr>\n",
              "    <tr>\n",
              "      <th>date</th>\n",
              "      <th></th>\n",
              "      <th></th>\n",
              "    </tr>\n",
              "  </thead>\n",
              "  <tbody>\n",
              "    <tr>\n",
              "      <th>2021-09-10</th>\n",
              "      <td>40914456</td>\n",
              "      <td>658865</td>\n",
              "    </tr>\n",
              "    <tr>\n",
              "      <th>2021-09-11</th>\n",
              "      <td>40988382</td>\n",
              "      <td>659556</td>\n",
              "    </tr>\n",
              "    <tr>\n",
              "      <th>2021-09-12</th>\n",
              "      <td>41027940</td>\n",
              "      <td>659854</td>\n",
              "    </tr>\n",
              "    <tr>\n",
              "      <th>2021-09-13</th>\n",
              "      <td>41312998</td>\n",
              "      <td>661579</td>\n",
              "    </tr>\n",
              "    <tr>\n",
              "      <th>2021-09-14</th>\n",
              "      <td>41465694</td>\n",
              "      <td>664232</td>\n",
              "    </tr>\n",
              "    <tr>\n",
              "      <th>2021-09-15</th>\n",
              "      <td>41635803</td>\n",
              "      <td>666816</td>\n",
              "    </tr>\n",
              "    <tr>\n",
              "      <th>2021-09-16</th>\n",
              "      <td>41790700</td>\n",
              "      <td>670231</td>\n",
              "    </tr>\n",
              "    <tr>\n",
              "      <th>2021-09-17</th>\n",
              "      <td>41956165</td>\n",
              "      <td>672810</td>\n",
              "    </tr>\n",
              "    <tr>\n",
              "      <th>2021-09-18</th>\n",
              "      <td>42026148</td>\n",
              "      <td>673637</td>\n",
              "    </tr>\n",
              "    <tr>\n",
              "      <th>2021-09-19</th>\n",
              "      <td>42065351</td>\n",
              "      <td>673929</td>\n",
              "    </tr>\n",
              "  </tbody>\n",
              "</table>\n",
              "</div>"
            ],
            "text/plain": [
              "               cases  deaths\n",
              "date                        \n",
              "2021-09-10  40914456  658865\n",
              "2021-09-11  40988382  659556\n",
              "2021-09-12  41027940  659854\n",
              "2021-09-13  41312998  661579\n",
              "2021-09-14  41465694  664232\n",
              "2021-09-15  41635803  666816\n",
              "2021-09-16  41790700  670231\n",
              "2021-09-17  41956165  672810\n",
              "2021-09-18  42026148  673637\n",
              "2021-09-19  42065351  673929"
            ]
          },
          "metadata": {},
          "execution_count": 3
        }
      ]
    },
    {
      "cell_type": "code",
      "metadata": {
        "colab": {
          "base_uri": "https://localhost:8080/",
          "height": 384
        },
        "id": "JwNhXGG4l0tt",
        "outputId": "3158c3d9-61dd-4369-8c98-8cceef0ce3c4"
      },
      "source": [
        "new_cases = np.diff(merged_data['cases'])\n",
        "dates = np.array(merged_data['cases'].index)\n",
        "plt.figure(figsize=(8,5))\n",
        "plt.plot(dates, merged_data['cases'])\n",
        "plt.xticks(dates[[0, 100, 200, 300, 400, 500, len(dates)-1]], rotation=90)\n",
        "_ = plt.title('Cumulative cases in the US')"
      ],
      "execution_count": 4,
      "outputs": [
        {
          "output_type": "display_data",
          "data": {
            "image/png": "[encoded data removed]",
            "text/plain": [
              "<Figure size 576x360 with 1 Axes>"
            ]
          },
          "metadata": {
            "needs_background": "light"
          }
        }
      ]
    },
    {
      "cell_type": "markdown",
      "metadata": {
        "id": "By-Q4ffjl0tv"
      },
      "source": [
        "### Problem 1.1\n",
        "\n",
        "Let's call April 1, 2021 to May 1, 2021 Period 1. The following code extracts the cumulative cases, deaths, and days during this period\n",
        "\n"
      ]
    },
    {
      "cell_type": "code",
      "metadata": {
        "colab": {
          "base_uri": "https://localhost:8080/",
          "height": 390
        },
        "id": "XpXrdh7bl0tv",
        "outputId": "3ffdd6ff-4b12-4e07-8d63-463c419f95ed"
      },
      "source": [
        "first_date = '2021-04-01'\n",
        "last_date = '2021-05-01'\n",
        "merged_data_period1 = merged_data[(merged_data['cases'].index >= first_date) & (merged_data['cases'].index <= last_date)]\n",
        "merged_data_period1.insert(2,\"days\",np.arange(len(merged_data_period1))+1)\n",
        "merged_data_period1.head(10)\n"
      ],
      "execution_count": 5,
      "outputs": [
        {
          "output_type": "execute_result",
          "data": {
            "text/html": [
              "<div>\n",
              "<style scoped>\n",
              "    .dataframe tbody tr th:only-of-type {\n",
              "        vertical-align: middle;\n",
              "    }\n",
              "\n",
              "    .dataframe tbody tr th {\n",
              "        vertical-align: top;\n",
              "    }\n",
              "\n",
              "    .dataframe thead th {\n",
              "        text-align: right;\n",
              "    }\n",
              "</style>\n",
              "<table border=\"1\" class=\"dataframe\">\n",
              "  <thead>\n",
              "    <tr style=\"text-align: right;\">\n",
              "      <th></th>\n",
              "      <th>cases</th>\n",
              "      <th>deaths</th>\n",
              "      <th>days</th>\n",
              "    </tr>\n",
              "    <tr>\n",
              "      <th>date</th>\n",
              "      <th></th>\n",
              "      <th></th>\n",
              "      <th></th>\n",
              "    </tr>\n",
              "  </thead>\n",
              "  <tbody>\n",
              "    <tr>\n",
              "      <th>2021-04-01</th>\n",
              "      <td>30556079</td>\n",
              "      <td>552615</td>\n",
              "      <td>1</td>\n",
              "    </tr>\n",
              "    <tr>\n",
              "      <th>2021-04-02</th>\n",
              "      <td>30624668</td>\n",
              "      <td>553571</td>\n",
              "      <td>2</td>\n",
              "    </tr>\n",
              "    <tr>\n",
              "      <th>2021-04-03</th>\n",
              "      <td>30688804</td>\n",
              "      <td>554324</td>\n",
              "      <td>3</td>\n",
              "    </tr>\n",
              "    <tr>\n",
              "      <th>2021-04-04</th>\n",
              "      <td>30725627</td>\n",
              "      <td>554596</td>\n",
              "      <td>4</td>\n",
              "    </tr>\n",
              "    <tr>\n",
              "      <th>2021-04-05</th>\n",
              "      <td>30802221</td>\n",
              "      <td>555126</td>\n",
              "      <td>5</td>\n",
              "    </tr>\n",
              "    <tr>\n",
              "      <th>2021-04-06</th>\n",
              "      <td>30864193</td>\n",
              "      <td>556035</td>\n",
              "      <td>6</td>\n",
              "    </tr>\n",
              "    <tr>\n",
              "      <th>2021-04-07</th>\n",
              "      <td>30937283</td>\n",
              "      <td>558606</td>\n",
              "      <td>7</td>\n",
              "    </tr>\n",
              "    <tr>\n",
              "      <th>2021-04-08</th>\n",
              "      <td>31017741</td>\n",
              "      <td>559608</td>\n",
              "      <td>8</td>\n",
              "    </tr>\n",
              "    <tr>\n",
              "      <th>2021-04-09</th>\n",
              "      <td>31099323</td>\n",
              "      <td>560554</td>\n",
              "      <td>9</td>\n",
              "    </tr>\n",
              "    <tr>\n",
              "      <th>2021-04-10</th>\n",
              "      <td>31164081</td>\n",
              "      <td>561258</td>\n",
              "      <td>10</td>\n",
              "    </tr>\n",
              "  </tbody>\n",
              "</table>\n",
              "</div>"
            ],
            "text/plain": [
              "               cases  deaths  days\n",
              "date                              \n",
              "2021-04-01  30556079  552615     1\n",
              "2021-04-02  30624668  553571     2\n",
              "2021-04-03  30688804  554324     3\n",
              "2021-04-04  30725627  554596     4\n",
              "2021-04-05  30802221  555126     5\n",
              "2021-04-06  30864193  556035     6\n",
              "2021-04-07  30937283  558606     7\n",
              "2021-04-08  31017741  559608     8\n",
              "2021-04-09  31099323  560554     9\n",
              "2021-04-10  31164081  561258    10"
            ]
          },
          "metadata": {},
          "execution_count": 5
        }
      ]
    },
    {
      "cell_type": "markdown",
      "metadata": {
        "id": "Ar4pYjQml0tw"
      },
      "source": [
        "#### Problem 1.1.a\n",
        "\n",
        "Visualize the accumulated cases in period 1. You can use any graph you like, such as line plot, scatter plot, and bar plot. The x-axis should be `days`.\n",
        "\n"
      ]
    },
    {
      "cell_type": "code",
      "metadata": {
        "colab": {
          "base_uri": "https://localhost:8080/",
          "height": 417
        },
        "id": "z9Utk_3Yl0tx",
        "outputId": "eb48cd9a-2d64-41de-d553-d8ae5dfa628c"
      },
      "source": [
        "## -- please write code for visualization here. -- ## \n",
        "\n",
        "fig = go.Figure()\n",
        "fig.add_trace(go.Scatter(x=merged_data_period1.index, y=merged_data_period1['cases'],mode='markers'))\n",
        "fig.update_layout(title='Cumulative Cases in April 2021',xaxis_title='Date',yaxis_title='Cumulative Cases', height= 400, width = 600)\n",
        "fig.show(renderer=\"colab\")"
      ],
      "execution_count": 6,
      "outputs": [
        {
          "output_type": "display_data",
          "data": {
            "text/html": [
              "<html>\n",
              "<head><meta charset=\"utf-8\" /></head>\n",
              "<body>\n",
              "    <div>\n",
              "            <script src=\"https://cdnjs.cloudflare.com/ajax/libs/mathjax/2.7.5/MathJax.js?config=TeX-AMS-MML_SVG\"></script><script type=\"text/javascript\">if (window.MathJax) {MathJax.Hub.Config({SVG: {font: \"STIX-Web\"}});}</script>\n",
              "                <script type=\"text/javascript\">window.PlotlyConfig = {MathJaxConfig: 'local'};</script>\n",
              "        <script src=\"https://cdn.plot.ly/plotly-latest.min.js\"></script>    \n",
              "            <div id=\"1ec6074f-21c8-4aff-8941-a53b98d8f265\" class=\"plotly-graph-div\" style=\"height:400px; width:600px;\"></div>\n",
              "            <script type=\"text/javascript\">\n",
              "                \n",
              "                    window.PLOTLYENV=window.PLOTLYENV || {};\n",
              "                    \n",
              "                if (document.getElementById(\"1ec6074f-21c8-4aff-8941-a53b98d8f265\")) {\n",
              "                    Plotly.newPlot(\n",
              "                        '1ec6074f-21c8-4aff-8941-a53b98d8f265',\n",
              "                        [{\"mode\": \"markers\", \"type\": \"scatter\", \"x\": [\"2021-04-01\", \"2021-04-02\", \"2021-04-03\", \"2021-04-04\", \"2021-04-05\", \"2021-04-06\", \"2021-04-07\", \"2021-04-08\", \"2021-04-09\", \"2021-04-10\", \"2021-04-11\", \"2021-04-12\", \"2021-04-13\", \"2021-04-14\", \"2021-04-15\", \"2021-04-16\", \"2021-04-17\", \"2021-04-18\", \"2021-04-19\", \"2021-04-20\", \"2021-04-21\", \"2021-04-22\", \"2021-04-23\", \"2021-04-24\", \"2021-04-25\", \"2021-04-26\", \"2021-04-27\", \"2021-04-28\", \"2021-04-29\", \"2021-04-30\", \"2021-05-01\"], \"y\": [30556079, 30624668, 30688804, 30725627, 30802221, 30864193, 30937283, 31017741, 31099323, 31164081, 31212058, 31283990, 31361311, 31437061, 31510755, 31589109, 31642983, 31684382, 31754642, 31815666, 31878161, 31944402, 32008186, 32058654, 32092245, 32139580, 32191457, 32246275, 32303857, 32362374, 32407133]}],\n",
              "                        {\"height\": 400, \"template\": {\"data\": {\"bar\": [{\"error_x\": {\"color\": \"#2a3f5f\"}, \"error_y\": {\"color\": \"#2a3f5f\"}, \"marker\": {\"line\": {\"color\": \"#E5ECF6\", \"width\": 0.5}}, \"type\": \"bar\"}], \"barpolar\": [{\"marker\": {\"line\": {\"color\": \"#E5ECF6\", \"width\": 0.5}}, \"type\": \"barpolar\"}], \"carpet\": [{\"aaxis\": {\"endlinecolor\": \"#2a3f5f\", \"gridcolor\": \"white\", \"linecolor\": \"white\", \"minorgridcolor\": \"white\", \"startlinecolor\": \"#2a3f5f\"}, \"baxis\": {\"endlinecolor\": \"#2a3f5f\", \"gridcolor\": \"white\", \"linecolor\": \"white\", \"minorgridcolor\": \"white\", \"startlinecolor\": \"#2a3f5f\"}, \"type\": \"carpet\"}], \"choropleth\": [{\"colorbar\": {\"outlinewidth\": 0, \"ticks\": \"\"}, \"type\": \"choropleth\"}], \"contour\": [{\"colorbar\": {\"outlinewidth\": 0, \"ticks\": \"\"}, \"colorscale\": [[0.0, \"#0d0887\"], [0.1111111111111111, \"#46039f\"], [0.2222222222222222, \"#7201a8\"], [0.3333333333333333, \"#9c179e\"], [0.4444444444444444, \"#bd3786\"], [0.5555555555555556, \"#d8576b\"], [0.6666666666666666, \"#ed7953\"], [0.7777777777777778, \"#fb9f3a\"], [0.8888888888888888, \"#fdca26\"], [1.0, \"#f0f921\"]], \"type\": \"contour\"}], \"contourcarpet\": [{\"colorbar\": {\"outlinewidth\": 0, \"ticks\": \"\"}, \"type\": \"contourcarpet\"}], \"heatmap\": [{\"colorbar\": {\"outlinewidth\": 0, \"ticks\": \"\"}, \"colorscale\": [[0.0, \"#0d0887\"], [0.1111111111111111, \"#46039f\"], [0.2222222222222222, \"#7201a8\"], [0.3333333333333333, \"#9c179e\"], [0.4444444444444444, \"#bd3786\"], [0.5555555555555556, \"#d8576b\"], [0.6666666666666666, \"#ed7953\"], [0.7777777777777778, \"#fb9f3a\"], [0.8888888888888888, \"#fdca26\"], [1.0, \"#f0f921\"]], \"type\": \"heatmap\"}], \"heatmapgl\": [{\"colorbar\": {\"outlinewidth\": 0, \"ticks\": \"\"}, \"colorscale\": [[0.0, \"#0d0887\"], [0.1111111111111111, \"#46039f\"], [0.2222222222222222, \"#7201a8\"], [0.3333333333333333, \"#9c179e\"], [0.4444444444444444, \"#bd3786\"], [0.5555555555555556, \"#d8576b\"], [0.6666666666666666, \"#ed7953\"], [0.7777777777777778, \"#fb9f3a\"], [0.8888888888888888, \"#fdca26\"], [1.0, \"#f0f921\"]], \"type\": \"heatmapgl\"}], \"histogram\": [{\"marker\": {\"colorbar\": {\"outlinewidth\": 0, \"ticks\": \"\"}}, \"type\": \"histogram\"}], \"histogram2d\": [{\"colorbar\": {\"outlinewidth\": 0, \"ticks\": \"\"}, \"colorscale\": [[0.0, \"#0d0887\"], [0.1111111111111111, \"#46039f\"], [0.2222222222222222, \"#7201a8\"], [0.3333333333333333, \"#9c179e\"], [0.4444444444444444, \"#bd3786\"], [0.5555555555555556, \"#d8576b\"], [0.6666666666666666, \"#ed7953\"], [0.7777777777777778, \"#fb9f3a\"], [0.8888888888888888, \"#fdca26\"], [1.0, \"#f0f921\"]], \"type\": \"histogram2d\"}], \"histogram2dcontour\": [{\"colorbar\": {\"outlinewidth\": 0, \"ticks\": \"\"}, \"colorscale\": [[0.0, \"#0d0887\"], [0.1111111111111111, \"#46039f\"], [0.2222222222222222, \"#7201a8\"], [0.3333333333333333, \"#9c179e\"], [0.4444444444444444, \"#bd3786\"], [0.5555555555555556, \"#d8576b\"], [0.6666666666666666, \"#ed7953\"], [0.7777777777777778, \"#fb9f3a\"], [0.8888888888888888, \"#fdca26\"], [1.0, \"#f0f921\"]], \"type\": \"histogram2dcontour\"}], \"mesh3d\": [{\"colorbar\": {\"outlinewidth\": 0, \"ticks\": \"\"}, \"type\": \"mesh3d\"}], \"parcoords\": [{\"line\": {\"colorbar\": {\"outlinewidth\": 0, \"ticks\": \"\"}}, \"type\": \"parcoords\"}], \"pie\": [{\"automargin\": true, \"type\": \"pie\"}], \"scatter\": [{\"marker\": {\"colorbar\": {\"outlinewidth\": 0, \"ticks\": \"\"}}, \"type\": \"scatter\"}], \"scatter3d\": [{\"line\": {\"colorbar\": {\"outlinewidth\": 0, \"ticks\": \"\"}}, \"marker\": {\"colorbar\": {\"outlinewidth\": 0, \"ticks\": \"\"}}, \"type\": \"scatter3d\"}], \"scattercarpet\": [{\"marker\": {\"colorbar\": {\"outlinewidth\": 0, \"ticks\": \"\"}}, \"type\": \"scattercarpet\"}], \"scattergeo\": [{\"marker\": {\"colorbar\": {\"outlinewidth\": 0, \"ticks\": \"\"}}, \"type\": \"scattergeo\"}], \"scattergl\": [{\"marker\": {\"colorbar\": {\"outlinewidth\": 0, \"ticks\": \"\"}}, \"type\": \"scattergl\"}], \"scattermapbox\": [{\"marker\": {\"colorbar\": {\"outlinewidth\": 0, \"ticks\": \"\"}}, \"type\": \"scattermapbox\"}], \"scatterpolar\": [{\"marker\": {\"colorbar\": {\"outlinewidth\": 0, \"ticks\": \"\"}}, \"type\": \"scatterpolar\"}], \"scatterpolargl\": [{\"marker\": {\"colorbar\": {\"outlinewidth\": 0, \"ticks\": \"\"}}, \"type\": \"scatterpolargl\"}], \"scatterternary\": [{\"marker\": {\"colorbar\": {\"outlinewidth\": 0, \"ticks\": \"\"}}, \"type\": \"scatterternary\"}], \"surface\": [{\"colorbar\": {\"outlinewidth\": 0, \"ticks\": \"\"}, \"colorscale\": [[0.0, \"#0d0887\"], [0.1111111111111111, \"#46039f\"], [0.2222222222222222, \"#7201a8\"], [0.3333333333333333, \"#9c179e\"], [0.4444444444444444, \"#bd3786\"], [0.5555555555555556, \"#d8576b\"], [0.6666666666666666, \"#ed7953\"], [0.7777777777777778, \"#fb9f3a\"], [0.8888888888888888, \"#fdca26\"], [1.0, \"#f0f921\"]], \"type\": \"surface\"}], \"table\": [{\"cells\": {\"fill\": {\"color\": \"#EBF0F8\"}, \"line\": {\"color\": \"white\"}}, \"header\": {\"fill\": {\"color\": \"#C8D4E3\"}, \"line\": {\"color\": \"white\"}}, \"type\": \"table\"}]}, \"layout\": {\"annotationdefaults\": {\"arrowcolor\": \"#2a3f5f\", \"arrowhead\": 0, \"arrowwidth\": 1}, \"coloraxis\": {\"colorbar\": {\"outlinewidth\": 0, \"ticks\": \"\"}}, \"colorscale\": {\"diverging\": [[0, \"#8e0152\"], [0.1, \"#c51b7d\"], [0.2, \"#de77ae\"], [0.3, \"#f1b6da\"], [0.4, \"#fde0ef\"], [0.5, \"#f7f7f7\"], [0.6, \"#e6f5d0\"], [0.7, \"#b8e186\"], [0.8, \"#7fbc41\"], [0.9, \"#4d9221\"], [1, \"#276419\"]], \"sequential\": [[0.0, \"#0d0887\"], [0.1111111111111111, \"#46039f\"], [0.2222222222222222, \"#7201a8\"], [0.3333333333333333, \"#9c179e\"], [0.4444444444444444, \"#bd3786\"], [0.5555555555555556, \"#d8576b\"], [0.6666666666666666, \"#ed7953\"], [0.7777777777777778, \"#fb9f3a\"], [0.8888888888888888, \"#fdca26\"], [1.0, \"#f0f921\"]], \"sequentialminus\": [[0.0, \"#0d0887\"], [0.1111111111111111, \"#46039f\"], [0.2222222222222222, \"#7201a8\"], [0.3333333333333333, \"#9c179e\"], [0.4444444444444444, \"#bd3786\"], [0.5555555555555556, \"#d8576b\"], [0.6666666666666666, \"#ed7953\"], [0.7777777777777778, \"#fb9f3a\"], [0.8888888888888888, \"#fdca26\"], [1.0, \"#f0f921\"]]}, \"colorway\": [\"#636efa\", \"#EF553B\", \"#00cc96\", \"#ab63fa\", \"#FFA15A\", \"#19d3f3\", \"#FF6692\", \"#B6E880\", \"#FF97FF\", \"#FECB52\"], \"font\": {\"color\": \"#2a3f5f\"}, \"geo\": {\"bgcolor\": \"white\", \"lakecolor\": \"white\", \"landcolor\": \"#E5ECF6\", \"showlakes\": true, \"showland\": true, \"subunitcolor\": \"white\"}, \"hoverlabel\": {\"align\": \"left\"}, \"hovermode\": \"closest\", \"mapbox\": {\"style\": \"light\"}, \"paper_bgcolor\": \"white\", \"plot_bgcolor\": \"#E5ECF6\", \"polar\": {\"angularaxis\": {\"gridcolor\": \"white\", \"linecolor\": \"white\", \"ticks\": \"\"}, \"bgcolor\": \"#E5ECF6\", \"radialaxis\": {\"gridcolor\": \"white\", \"linecolor\": \"white\", \"ticks\": \"\"}}, \"scene\": {\"xaxis\": {\"backgroundcolor\": \"#E5ECF6\", \"gridcolor\": \"white\", \"gridwidth\": 2, \"linecolor\": \"white\", \"showbackground\": true, \"ticks\": \"\", \"zerolinecolor\": \"white\"}, \"yaxis\": {\"backgroundcolor\": \"#E5ECF6\", \"gridcolor\": \"white\", \"gridwidth\": 2, \"linecolor\": \"white\", \"showbackground\": true, \"ticks\": \"\", \"zerolinecolor\": \"white\"}, \"zaxis\": {\"backgroundcolor\": \"#E5ECF6\", \"gridcolor\": \"white\", \"gridwidth\": 2, \"linecolor\": \"white\", \"showbackground\": true, \"ticks\": \"\", \"zerolinecolor\": \"white\"}}, \"shapedefaults\": {\"line\": {\"color\": \"#2a3f5f\"}}, \"ternary\": {\"aaxis\": {\"gridcolor\": \"white\", \"linecolor\": \"white\", \"ticks\": \"\"}, \"baxis\": {\"gridcolor\": \"white\", \"linecolor\": \"white\", \"ticks\": \"\"}, \"bgcolor\": \"#E5ECF6\", \"caxis\": {\"gridcolor\": \"white\", \"linecolor\": \"white\", \"ticks\": \"\"}}, \"title\": {\"x\": 0.05}, \"xaxis\": {\"automargin\": true, \"gridcolor\": \"white\", \"linecolor\": \"white\", \"ticks\": \"\", \"title\": {\"standoff\": 15}, \"zerolinecolor\": \"white\", \"zerolinewidth\": 2}, \"yaxis\": {\"automargin\": true, \"gridcolor\": \"white\", \"linecolor\": \"white\", \"ticks\": \"\", \"title\": {\"standoff\": 15}, \"zerolinecolor\": \"white\", \"zerolinewidth\": 2}}}, \"title\": {\"text\": \"Cumulative Cases in April 2021\"}, \"width\": 600, \"xaxis\": {\"title\": {\"text\": \"Date\"}}, \"yaxis\": {\"title\": {\"text\": \"Cumulative Cases\"}}},\n",
              "                        {\"responsive\": true}\n",
              "                    ).then(function(){\n",
              "                            \n",
              "var gd = document.getElementById('1ec6074f-21c8-4aff-8941-a53b98d8f265');\n",
              "var x = new MutationObserver(function (mutations, observer) {{\n",
              "        var display = window.getComputedStyle(gd).display;\n",
              "        if (!display || display === 'none') {{\n",
              "            console.log([gd, 'removed!']);\n",
              "            Plotly.purge(gd);\n",
              "            observer.disconnect();\n",
              "        }}\n",
              "}});\n",
              "\n",
              "// Listen for the removal of the full notebook cells\n",
              "var notebookContainer = gd.closest('#notebook-container');\n",
              "if (notebookContainer) {{\n",
              "    x.observe(notebookContainer, {childList: true});\n",
              "}}\n",
              "\n",
              "// Listen for the clearing of the current output cell\n",
              "var outputEl = gd.closest('.output');\n",
              "if (outputEl) {{\n",
              "    x.observe(outputEl, {childList: true});\n",
              "}}\n",
              "\n",
              "                        })\n",
              "                };\n",
              "                \n",
              "            </script>\n",
              "        </div>\n",
              "</body>\n",
              "</html>"
            ]
          },
          "metadata": {}
        }
      ]
    },
    {
      "cell_type": "markdown",
      "metadata": {
        "id": "IwmL0NlVl0tx"
      },
      "source": [
        "#### Problem 1.1.b\n",
        "\n",
        "Now, calculate the least-squares estimates of the coefficients for the linear model that includes a slope and an intercept: \n",
        "\n",
        "$$\\text{cases}_i = \\beta_0 + \\beta_1 \\text{days}_i + \\epsilon_i$$\n",
        "\n",
        "You may either compute these values with explicit expressions, or use a package such as <code>statsmodels.api.OLS</code>. Use our demo from class as an example, if you wish.\n",
        "\n"
      ]
    },
    {
      "cell_type": "code",
      "metadata": {
        "id": "SOwmvzl0l0ty"
      },
      "source": [
        "## -- please compute linear regression here. -- ## \n",
        "X = sm.add_constant(merged_data_period1['days'])\n",
        "model = sm.OLS(merged_data_period1['cases'], X)\n",
        "result = model.fit()\n",
        "\n",
        "beta = [result.params[0], result.params[1]]"
      ],
      "execution_count": 7,
      "outputs": []
    },
    {
      "cell_type": "markdown",
      "metadata": {
        "id": "gn8SvPgil0tz"
      },
      "source": [
        "#### Problem 1.1.c \n",
        "\n",
        "Now, plot the data together with the linear fit, shown as a straight line."
      ]
    },
    {
      "cell_type": "code",
      "metadata": {
        "colab": {
          "base_uri": "https://localhost:8080/",
          "height": 417
        },
        "id": "Y2PZb5F9l0t0",
        "outputId": "3a86364d-c6c8-4f73-a203-9e918d4c84f7"
      },
      "source": [
        "## -- please write code for your visualization go here -- ## \n",
        "\n",
        "fig = go.Figure()\n",
        "fig.add_trace(go.Scatter(x=merged_data_period1['days'], y=merged_data_period1['cases'],mode='markers', name = 'Actual Data'))\n",
        "fig.add_trace(go.Scatter(x=merged_data_period1['days'], y=beta[0] + beta[1]*merged_data_period1['days'],mode='lines', name = 'Fitted Line'))\n",
        "fig.update_layout(title='Cumulative Cases in April 2021',xaxis_title='Days',yaxis_title='Cumulative Cases', width = 600, height = 400)\n",
        "fig.show()"
      ],
      "execution_count": 8,
      "outputs": [
        {
          "output_type": "display_data",
          "data": {
            "text/html": [
              "<html>\n",
              "<head><meta charset=\"utf-8\" /></head>\n",
              "<body>\n",
              "    <div>\n",
              "            <script src=\"https://cdnjs.cloudflare.com/ajax/libs/mathjax/2.7.5/MathJax.js?config=TeX-AMS-MML_SVG\"></script><script type=\"text/javascript\">if (window.MathJax) {MathJax.Hub.Config({SVG: {font: \"STIX-Web\"}});}</script>\n",
              "                <script type=\"text/javascript\">window.PlotlyConfig = {MathJaxConfig: 'local'};</script>\n",
              "        <script src=\"https://cdn.plot.ly/plotly-latest.min.js\"></script>    \n",
              "            <div id=\"10da438f-7cf1-41b3-a247-df8eb489c4cf\" class=\"plotly-graph-div\" style=\"height:400px; width:600px;\"></div>\n",
              "            <script type=\"text/javascript\">\n",
              "                \n",
              "                    window.PLOTLYENV=window.PLOTLYENV || {};\n",
              "                    \n",
              "                if (document.getElementById(\"10da438f-7cf1-41b3-a247-df8eb489c4cf\")) {\n",
              "                    Plotly.newPlot(\n",
              "                        '10da438f-7cf1-41b3-a247-df8eb489c4cf',\n",
              "                        [{\"mode\": \"markers\", \"name\": \"Actual Data\", \"type\": \"scatter\", \"x\": [1, 2, 3, 4, 5, 6, 7, 8, 9, 10, 11, 12, 13, 14, 15, 16, 17, 18, 19, 20, 21, 22, 23, 24, 25, 26, 27, 28, 29, 30, 31], \"y\": [30556079, 30624668, 30688804, 30725627, 30802221, 30864193, 30937283, 31017741, 31099323, 31164081, 31212058, 31283990, 31361311, 31437061, 31510755, 31589109, 31642983, 31684382, 31754642, 31815666, 31878161, 31944402, 32008186, 32058654, 32092245, 32139580, 32191457, 32246275, 32303857, 32362374, 32407133]}, {\"mode\": \"lines\", \"name\": \"Fitted Line\", \"type\": \"scatter\", \"x\": [1, 2, 3, 4, 5, 6, 7, 8, 9, 10, 11, 12, 13, 14, 15, 16, 17, 18, 19, 20, 21, 22, 23, 24, 25, 26, 27, 28, 29, 30, 31], \"y\": [30583187.314516127, 30646252.893548388, 30709318.472580645, 30772384.051612902, 30835449.63064516, 30898515.20967742, 30961580.788709678, 31024646.367741935, 31087711.946774192, 31150777.525806453, 31213843.10483871, 31276908.683870967, 31339974.262903225, 31403039.841935486, 31466105.420967743, 31529171.0, 31592236.579032257, 31655302.158064518, 31718367.737096775, 31781433.316129033, 31844498.895161293, 31907564.47419355, 31970630.053225808, 32033695.632258065, 32096761.211290326, 32159826.790322583, 32222892.36935484, 32285957.948387098, 32349023.52741936, 32412089.106451616, 32475154.685483873]}],\n",
              "                        {\"height\": 400, \"template\": {\"data\": {\"bar\": [{\"error_x\": {\"color\": \"#2a3f5f\"}, \"error_y\": {\"color\": \"#2a3f5f\"}, \"marker\": {\"line\": {\"color\": \"#E5ECF6\", \"width\": 0.5}}, \"type\": \"bar\"}], \"barpolar\": [{\"marker\": {\"line\": {\"color\": \"#E5ECF6\", \"width\": 0.5}}, \"type\": \"barpolar\"}], \"carpet\": [{\"aaxis\": {\"endlinecolor\": \"#2a3f5f\", \"gridcolor\": \"white\", \"linecolor\": \"white\", \"minorgridcolor\": \"white\", \"startlinecolor\": \"#2a3f5f\"}, \"baxis\": {\"endlinecolor\": \"#2a3f5f\", \"gridcolor\": \"white\", \"linecolor\": \"white\", \"minorgridcolor\": \"white\", \"startlinecolor\": \"#2a3f5f\"}, \"type\": \"carpet\"}], \"choropleth\": [{\"colorbar\": {\"outlinewidth\": 0, \"ticks\": \"\"}, \"type\": \"choropleth\"}], \"contour\": [{\"colorbar\": {\"outlinewidth\": 0, \"ticks\": \"\"}, \"colorscale\": [[0.0, \"#0d0887\"], [0.1111111111111111, \"#46039f\"], [0.2222222222222222, \"#7201a8\"], [0.3333333333333333, \"#9c179e\"], [0.4444444444444444, \"#bd3786\"], [0.5555555555555556, \"#d8576b\"], [0.6666666666666666, \"#ed7953\"], [0.7777777777777778, \"#fb9f3a\"], [0.8888888888888888, \"#fdca26\"], [1.0, \"#f0f921\"]], \"type\": \"contour\"}], \"contourcarpet\": [{\"colorbar\": {\"outlinewidth\": 0, \"ticks\": \"\"}, \"type\": \"contourcarpet\"}], \"heatmap\": [{\"colorbar\": {\"outlinewidth\": 0, \"ticks\": \"\"}, \"colorscale\": [[0.0, \"#0d0887\"], [0.1111111111111111, \"#46039f\"], [0.2222222222222222, \"#7201a8\"], [0.3333333333333333, \"#9c179e\"], [0.4444444444444444, \"#bd3786\"], [0.5555555555555556, \"#d8576b\"], [0.6666666666666666, \"#ed7953\"], [0.7777777777777778, \"#fb9f3a\"], [0.8888888888888888, \"#fdca26\"], [1.0, \"#f0f921\"]], \"type\": \"heatmap\"}], \"heatmapgl\": [{\"colorbar\": {\"outlinewidth\": 0, \"ticks\": \"\"}, \"colorscale\": [[0.0, \"#0d0887\"], [0.1111111111111111, \"#46039f\"], [0.2222222222222222, \"#7201a8\"], [0.3333333333333333, \"#9c179e\"], [0.4444444444444444, \"#bd3786\"], [0.5555555555555556, \"#d8576b\"], [0.6666666666666666, \"#ed7953\"], [0.7777777777777778, \"#fb9f3a\"], [0.8888888888888888, \"#fdca26\"], [1.0, \"#f0f921\"]], \"type\": \"heatmapgl\"}], \"histogram\": [{\"marker\": {\"colorbar\": {\"outlinewidth\": 0, \"ticks\": \"\"}}, \"type\": \"histogram\"}], \"histogram2d\": [{\"colorbar\": {\"outlinewidth\": 0, \"ticks\": \"\"}, \"colorscale\": [[0.0, \"#0d0887\"], [0.1111111111111111, \"#46039f\"], [0.2222222222222222, \"#7201a8\"], [0.3333333333333333, \"#9c179e\"], [0.4444444444444444, \"#bd3786\"], [0.5555555555555556, \"#d8576b\"], [0.6666666666666666, \"#ed7953\"], [0.7777777777777778, \"#fb9f3a\"], [0.8888888888888888, \"#fdca26\"], [1.0, \"#f0f921\"]], \"type\": \"histogram2d\"}], \"histogram2dcontour\": [{\"colorbar\": {\"outlinewidth\": 0, \"ticks\": \"\"}, \"colorscale\": [[0.0, \"#0d0887\"], [0.1111111111111111, \"#46039f\"], [0.2222222222222222, \"#7201a8\"], [0.3333333333333333, \"#9c179e\"], [0.4444444444444444, \"#bd3786\"], [0.5555555555555556, \"#d8576b\"], [0.6666666666666666, \"#ed7953\"], [0.7777777777777778, \"#fb9f3a\"], [0.8888888888888888, \"#fdca26\"], [1.0, \"#f0f921\"]], \"type\": \"histogram2dcontour\"}], \"mesh3d\": [{\"colorbar\": {\"outlinewidth\": 0, \"ticks\": \"\"}, \"type\": \"mesh3d\"}], \"parcoords\": [{\"line\": {\"colorbar\": {\"outlinewidth\": 0, \"ticks\": \"\"}}, \"type\": \"parcoords\"}], \"pie\": [{\"automargin\": true, \"type\": \"pie\"}], \"scatter\": [{\"marker\": {\"colorbar\": {\"outlinewidth\": 0, \"ticks\": \"\"}}, \"type\": \"scatter\"}], \"scatter3d\": [{\"line\": {\"colorbar\": {\"outlinewidth\": 0, \"ticks\": \"\"}}, \"marker\": {\"colorbar\": {\"outlinewidth\": 0, \"ticks\": \"\"}}, \"type\": \"scatter3d\"}], \"scattercarpet\": [{\"marker\": {\"colorbar\": {\"outlinewidth\": 0, \"ticks\": \"\"}}, \"type\": \"scattercarpet\"}], \"scattergeo\": [{\"marker\": {\"colorbar\": {\"outlinewidth\": 0, \"ticks\": \"\"}}, \"type\": \"scattergeo\"}], \"scattergl\": [{\"marker\": {\"colorbar\": {\"outlinewidth\": 0, \"ticks\": \"\"}}, \"type\": \"scattergl\"}], \"scattermapbox\": [{\"marker\": {\"colorbar\": {\"outlinewidth\": 0, \"ticks\": \"\"}}, \"type\": \"scattermapbox\"}], \"scatterpolar\": [{\"marker\": {\"colorbar\": {\"outlinewidth\": 0, \"ticks\": \"\"}}, \"type\": \"scatterpolar\"}], \"scatterpolargl\": [{\"marker\": {\"colorbar\": {\"outlinewidth\": 0, \"ticks\": \"\"}}, \"type\": \"scatterpolargl\"}], \"scatterternary\": [{\"marker\": {\"colorbar\": {\"outlinewidth\": 0, \"ticks\": \"\"}}, \"type\": \"scatterternary\"}], \"surface\": [{\"colorbar\": {\"outlinewidth\": 0, \"ticks\": \"\"}, \"colorscale\": [[0.0, \"#0d0887\"], [0.1111111111111111, \"#46039f\"], [0.2222222222222222, \"#7201a8\"], [0.3333333333333333, \"#9c179e\"], [0.4444444444444444, \"#bd3786\"], [0.5555555555555556, \"#d8576b\"], [0.6666666666666666, \"#ed7953\"], [0.7777777777777778, \"#fb9f3a\"], [0.8888888888888888, \"#fdca26\"], [1.0, \"#f0f921\"]], \"type\": \"surface\"}], \"table\": [{\"cells\": {\"fill\": {\"color\": \"#EBF0F8\"}, \"line\": {\"color\": \"white\"}}, \"header\": {\"fill\": {\"color\": \"#C8D4E3\"}, \"line\": {\"color\": \"white\"}}, \"type\": \"table\"}]}, \"layout\": {\"annotationdefaults\": {\"arrowcolor\": \"#2a3f5f\", \"arrowhead\": 0, \"arrowwidth\": 1}, \"coloraxis\": {\"colorbar\": {\"outlinewidth\": 0, \"ticks\": \"\"}}, \"colorscale\": {\"diverging\": [[0, \"#8e0152\"], [0.1, \"#c51b7d\"], [0.2, \"#de77ae\"], [0.3, \"#f1b6da\"], [0.4, \"#fde0ef\"], [0.5, \"#f7f7f7\"], [0.6, \"#e6f5d0\"], [0.7, \"#b8e186\"], [0.8, \"#7fbc41\"], [0.9, \"#4d9221\"], [1, \"#276419\"]], \"sequential\": [[0.0, \"#0d0887\"], [0.1111111111111111, \"#46039f\"], [0.2222222222222222, \"#7201a8\"], [0.3333333333333333, \"#9c179e\"], [0.4444444444444444, \"#bd3786\"], [0.5555555555555556, \"#d8576b\"], [0.6666666666666666, \"#ed7953\"], [0.7777777777777778, \"#fb9f3a\"], [0.8888888888888888, \"#fdca26\"], [1.0, \"#f0f921\"]], \"sequentialminus\": [[0.0, \"#0d0887\"], [0.1111111111111111, \"#46039f\"], [0.2222222222222222, \"#7201a8\"], [0.3333333333333333, \"#9c179e\"], [0.4444444444444444, \"#bd3786\"], [0.5555555555555556, \"#d8576b\"], [0.6666666666666666, \"#ed7953\"], [0.7777777777777778, \"#fb9f3a\"], [0.8888888888888888, \"#fdca26\"], [1.0, \"#f0f921\"]]}, \"colorway\": [\"#636efa\", \"#EF553B\", \"#00cc96\", \"#ab63fa\", \"#FFA15A\", \"#19d3f3\", \"#FF6692\", \"#B6E880\", \"#FF97FF\", \"#FECB52\"], \"font\": {\"color\": \"#2a3f5f\"}, \"geo\": {\"bgcolor\": \"white\", \"lakecolor\": \"white\", \"landcolor\": \"#E5ECF6\", \"showlakes\": true, \"showland\": true, \"subunitcolor\": \"white\"}, \"hoverlabel\": {\"align\": \"left\"}, \"hovermode\": \"closest\", \"mapbox\": {\"style\": \"light\"}, \"paper_bgcolor\": \"white\", \"plot_bgcolor\": \"#E5ECF6\", \"polar\": {\"angularaxis\": {\"gridcolor\": \"white\", \"linecolor\": \"white\", \"ticks\": \"\"}, \"bgcolor\": \"#E5ECF6\", \"radialaxis\": {\"gridcolor\": \"white\", \"linecolor\": \"white\", \"ticks\": \"\"}}, \"scene\": {\"xaxis\": {\"backgroundcolor\": \"#E5ECF6\", \"gridcolor\": \"white\", \"gridwidth\": 2, \"linecolor\": \"white\", \"showbackground\": true, \"ticks\": \"\", \"zerolinecolor\": \"white\"}, \"yaxis\": {\"backgroundcolor\": \"#E5ECF6\", \"gridcolor\": \"white\", \"gridwidth\": 2, \"linecolor\": \"white\", \"showbackground\": true, \"ticks\": \"\", \"zerolinecolor\": \"white\"}, \"zaxis\": {\"backgroundcolor\": \"#E5ECF6\", \"gridcolor\": \"white\", \"gridwidth\": 2, \"linecolor\": \"white\", \"showbackground\": true, \"ticks\": \"\", \"zerolinecolor\": \"white\"}}, \"shapedefaults\": {\"line\": {\"color\": \"#2a3f5f\"}}, \"ternary\": {\"aaxis\": {\"gridcolor\": \"white\", \"linecolor\": \"white\", \"ticks\": \"\"}, \"baxis\": {\"gridcolor\": \"white\", \"linecolor\": \"white\", \"ticks\": \"\"}, \"bgcolor\": \"#E5ECF6\", \"caxis\": {\"gridcolor\": \"white\", \"linecolor\": \"white\", \"ticks\": \"\"}}, \"title\": {\"x\": 0.05}, \"xaxis\": {\"automargin\": true, \"gridcolor\": \"white\", \"linecolor\": \"white\", \"ticks\": \"\", \"title\": {\"standoff\": 15}, \"zerolinecolor\": \"white\", \"zerolinewidth\": 2}, \"yaxis\": {\"automargin\": true, \"gridcolor\": \"white\", \"linecolor\": \"white\", \"ticks\": \"\", \"title\": {\"standoff\": 15}, \"zerolinecolor\": \"white\", \"zerolinewidth\": 2}}}, \"title\": {\"text\": \"Cumulative Cases in April 2021\"}, \"width\": 600, \"xaxis\": {\"title\": {\"text\": \"Days\"}}, \"yaxis\": {\"title\": {\"text\": \"Cumulative Cases\"}}},\n",
              "                        {\"responsive\": true}\n",
              "                    ).then(function(){\n",
              "                            \n",
              "var gd = document.getElementById('10da438f-7cf1-41b3-a247-df8eb489c4cf');\n",
              "var x = new MutationObserver(function (mutations, observer) {{\n",
              "        var display = window.getComputedStyle(gd).display;\n",
              "        if (!display || display === 'none') {{\n",
              "            console.log([gd, 'removed!']);\n",
              "            Plotly.purge(gd);\n",
              "            observer.disconnect();\n",
              "        }}\n",
              "}});\n",
              "\n",
              "// Listen for the removal of the full notebook cells\n",
              "var notebookContainer = gd.closest('#notebook-container');\n",
              "if (notebookContainer) {{\n",
              "    x.observe(notebookContainer, {childList: true});\n",
              "}}\n",
              "\n",
              "// Listen for the clearing of the current output cell\n",
              "var outputEl = gd.closest('.output');\n",
              "if (outputEl) {{\n",
              "    x.observe(outputEl, {childList: true});\n",
              "}}\n",
              "\n",
              "                        })\n",
              "                };\n",
              "                \n",
              "            </script>\n",
              "        </div>\n",
              "</body>\n",
              "</html>"
            ]
          },
          "metadata": {}
        }
      ]
    },
    {
      "cell_type": "markdown",
      "metadata": {
        "id": "p4swY1_Ml0t2"
      },
      "source": [
        "### Problem 1.2\n",
        "\n",
        "Modify the code in 1.1 to fit and visualize a linear regression model for Period 2, July 1, 2021 to August 1, 2021."
      ]
    },
    {
      "cell_type": "code",
      "metadata": {
        "id": "pOfEqvcYl0t2"
      },
      "source": [
        "## -- please put your code to process the data here -- ##\n",
        "first_date = '2021-07-01'\n",
        "last_date = '2021-08-01'\n",
        "merged_data_period2 = merged_data[(merged_data['cases'].index >= first_date) & (merged_data['cases'].index <= last_date)]\n",
        "merged_data_period2.insert(2,\"days\",np.arange(len(merged_data_period2))+1)\n",
        "#merged_data_period2.head(10)"
      ],
      "execution_count": 9,
      "outputs": []
    },
    {
      "cell_type": "markdown",
      "metadata": {
        "id": "UG-MRFLfl0t5"
      },
      "source": [
        "#### Problem 1.2.a\n",
        "\n",
        "Visualize the data\n"
      ]
    },
    {
      "cell_type": "code",
      "metadata": {
        "colab": {
          "base_uri": "https://localhost:8080/",
          "height": 0
        },
        "id": "qs8yGjTjl0t5",
        "outputId": "1402931d-a8f6-42c1-df74-9f16fbb47d5b"
      },
      "source": [
        "## -- please write code for plotting the data here. --#\n",
        "fig = go.Figure()\n",
        "fig.add_trace(go.Scatter(x=merged_data_period2.index, y=merged_data_period2['cases'],mode='markers'))\n",
        "fig.update_layout(title='Cumulative Cases in July 2021',xaxis_title='Date',yaxis_title='Cumulative Cases')\n",
        "fig.show()"
      ],
      "execution_count": 10,
      "outputs": [
        {
          "output_type": "display_data",
          "data": {
            "text/html": [
              "<html>\n",
              "<head><meta charset=\"utf-8\" /></head>\n",
              "<body>\n",
              "    <div>\n",
              "            <script src=\"https://cdnjs.cloudflare.com/ajax/libs/mathjax/2.7.5/MathJax.js?config=TeX-AMS-MML_SVG\"></script><script type=\"text/javascript\">if (window.MathJax) {MathJax.Hub.Config({SVG: {font: \"STIX-Web\"}});}</script>\n",
              "                <script type=\"text/javascript\">window.PlotlyConfig = {MathJaxConfig: 'local'};</script>\n",
              "        <script src=\"https://cdn.plot.ly/plotly-latest.min.js\"></script>    \n",
              "            <div id=\"4325adff-2708-4a96-a744-3c5ea435b448\" class=\"plotly-graph-div\" style=\"height:525px; width:100%;\"></div>\n",
              "            <script type=\"text/javascript\">\n",
              "                \n",
              "                    window.PLOTLYENV=window.PLOTLYENV || {};\n",
              "                    \n",
              "                if (document.getElementById(\"4325adff-2708-4a96-a744-3c5ea435b448\")) {\n",
              "                    Plotly.newPlot(\n",
              "                        '4325adff-2708-4a96-a744-3c5ea435b448',\n",
              "                        [{\"mode\": \"markers\", \"type\": \"scatter\", \"x\": [\"2021-07-01\", \"2021-07-02\", \"2021-07-03\", \"2021-07-04\", \"2021-07-05\", \"2021-07-06\", \"2021-07-07\", \"2021-07-08\", \"2021-07-09\", \"2021-07-10\", \"2021-07-11\", \"2021-07-12\", \"2021-07-13\", \"2021-07-14\", \"2021-07-15\", \"2021-07-16\", \"2021-07-17\", \"2021-07-18\", \"2021-07-19\", \"2021-07-20\", \"2021-07-21\", \"2021-07-22\", \"2021-07-23\", \"2021-07-24\", \"2021-07-25\", \"2021-07-26\", \"2021-07-27\", \"2021-07-28\", \"2021-07-29\", \"2021-07-30\", \"2021-07-31\", \"2021-08-01\"], \"y\": [33704723, 33725159, 33729152, 33732074, 33736665, 33763742, 33793961, 33843194, 33878529, 33886287, 33891830, 33927213, 33970195, 34008250, 34044268, 34096492, 34108937, 34117964, 34177146, 34239257, 34299048, 34364548, 34447610, 34469200, 34483033, 34576119, 34682937, 34767898, 34866192, 34988866, 35018564, 35041458]}],\n",
              "                        {\"template\": {\"data\": {\"bar\": [{\"error_x\": {\"color\": \"#2a3f5f\"}, \"error_y\": {\"color\": \"#2a3f5f\"}, \"marker\": {\"line\": {\"color\": \"#E5ECF6\", \"width\": 0.5}}, \"type\": \"bar\"}], \"barpolar\": [{\"marker\": {\"line\": {\"color\": \"#E5ECF6\", \"width\": 0.5}}, \"type\": \"barpolar\"}], \"carpet\": [{\"aaxis\": {\"endlinecolor\": \"#2a3f5f\", \"gridcolor\": \"white\", \"linecolor\": \"white\", \"minorgridcolor\": \"white\", \"startlinecolor\": \"#2a3f5f\"}, \"baxis\": {\"endlinecolor\": \"#2a3f5f\", \"gridcolor\": \"white\", \"linecolor\": \"white\", \"minorgridcolor\": \"white\", \"startlinecolor\": \"#2a3f5f\"}, \"type\": \"carpet\"}], \"choropleth\": [{\"colorbar\": {\"outlinewidth\": 0, \"ticks\": \"\"}, \"type\": \"choropleth\"}], \"contour\": [{\"colorbar\": {\"outlinewidth\": 0, \"ticks\": \"\"}, \"colorscale\": [[0.0, \"#0d0887\"], [0.1111111111111111, \"#46039f\"], [0.2222222222222222, \"#7201a8\"], [0.3333333333333333, \"#9c179e\"], [0.4444444444444444, \"#bd3786\"], [0.5555555555555556, \"#d8576b\"], [0.6666666666666666, \"#ed7953\"], [0.7777777777777778, \"#fb9f3a\"], [0.8888888888888888, \"#fdca26\"], [1.0, \"#f0f921\"]], \"type\": \"contour\"}], \"contourcarpet\": [{\"colorbar\": {\"outlinewidth\": 0, \"ticks\": \"\"}, \"type\": \"contourcarpet\"}], \"heatmap\": [{\"colorbar\": {\"outlinewidth\": 0, \"ticks\": \"\"}, \"colorscale\": [[0.0, \"#0d0887\"], [0.1111111111111111, \"#46039f\"], [0.2222222222222222, \"#7201a8\"], [0.3333333333333333, \"#9c179e\"], [0.4444444444444444, \"#bd3786\"], [0.5555555555555556, \"#d8576b\"], [0.6666666666666666, \"#ed7953\"], [0.7777777777777778, \"#fb9f3a\"], [0.8888888888888888, \"#fdca26\"], [1.0, \"#f0f921\"]], \"type\": \"heatmap\"}], \"heatmapgl\": [{\"colorbar\": {\"outlinewidth\": 0, \"ticks\": \"\"}, \"colorscale\": [[0.0, \"#0d0887\"], [0.1111111111111111, \"#46039f\"], [0.2222222222222222, \"#7201a8\"], [0.3333333333333333, \"#9c179e\"], [0.4444444444444444, \"#bd3786\"], [0.5555555555555556, \"#d8576b\"], [0.6666666666666666, \"#ed7953\"], [0.7777777777777778, \"#fb9f3a\"], [0.8888888888888888, \"#fdca26\"], [1.0, \"#f0f921\"]], \"type\": \"heatmapgl\"}], \"histogram\": [{\"marker\": {\"colorbar\": {\"outlinewidth\": 0, \"ticks\": \"\"}}, \"type\": \"histogram\"}], \"histogram2d\": [{\"colorbar\": {\"outlinewidth\": 0, \"ticks\": \"\"}, \"colorscale\": [[0.0, \"#0d0887\"], [0.1111111111111111, \"#46039f\"], [0.2222222222222222, \"#7201a8\"], [0.3333333333333333, \"#9c179e\"], [0.4444444444444444, \"#bd3786\"], [0.5555555555555556, \"#d8576b\"], [0.6666666666666666, \"#ed7953\"], [0.7777777777777778, \"#fb9f3a\"], [0.8888888888888888, \"#fdca26\"], [1.0, \"#f0f921\"]], \"type\": \"histogram2d\"}], \"histogram2dcontour\": [{\"colorbar\": {\"outlinewidth\": 0, \"ticks\": \"\"}, \"colorscale\": [[0.0, \"#0d0887\"], [0.1111111111111111, \"#46039f\"], [0.2222222222222222, \"#7201a8\"], [0.3333333333333333, \"#9c179e\"], [0.4444444444444444, \"#bd3786\"], [0.5555555555555556, \"#d8576b\"], [0.6666666666666666, \"#ed7953\"], [0.7777777777777778, \"#fb9f3a\"], [0.8888888888888888, \"#fdca26\"], [1.0, \"#f0f921\"]], \"type\": \"histogram2dcontour\"}], \"mesh3d\": [{\"colorbar\": {\"outlinewidth\": 0, \"ticks\": \"\"}, \"type\": \"mesh3d\"}], \"parcoords\": [{\"line\": {\"colorbar\": {\"outlinewidth\": 0, \"ticks\": \"\"}}, \"type\": \"parcoords\"}], \"pie\": [{\"automargin\": true, \"type\": \"pie\"}], \"scatter\": [{\"marker\": {\"colorbar\": {\"outlinewidth\": 0, \"ticks\": \"\"}}, \"type\": \"scatter\"}], \"scatter3d\": [{\"line\": {\"colorbar\": {\"outlinewidth\": 0, \"ticks\": \"\"}}, \"marker\": {\"colorbar\": {\"outlinewidth\": 0, \"ticks\": \"\"}}, \"type\": \"scatter3d\"}], \"scattercarpet\": [{\"marker\": {\"colorbar\": {\"outlinewidth\": 0, \"ticks\": \"\"}}, \"type\": \"scattercarpet\"}], \"scattergeo\": [{\"marker\": {\"colorbar\": {\"outlinewidth\": 0, \"ticks\": \"\"}}, \"type\": \"scattergeo\"}], \"scattergl\": [{\"marker\": {\"colorbar\": {\"outlinewidth\": 0, \"ticks\": \"\"}}, \"type\": \"scattergl\"}], \"scattermapbox\": [{\"marker\": {\"colorbar\": {\"outlinewidth\": 0, \"ticks\": \"\"}}, \"type\": \"scattermapbox\"}], \"scatterpolar\": [{\"marker\": {\"colorbar\": {\"outlinewidth\": 0, \"ticks\": \"\"}}, \"type\": \"scatterpolar\"}], \"scatterpolargl\": [{\"marker\": {\"colorbar\": {\"outlinewidth\": 0, \"ticks\": \"\"}}, \"type\": \"scatterpolargl\"}], \"scatterternary\": [{\"marker\": {\"colorbar\": {\"outlinewidth\": 0, \"ticks\": \"\"}}, \"type\": \"scatterternary\"}], \"surface\": [{\"colorbar\": {\"outlinewidth\": 0, \"ticks\": \"\"}, \"colorscale\": [[0.0, \"#0d0887\"], [0.1111111111111111, \"#46039f\"], [0.2222222222222222, \"#7201a8\"], [0.3333333333333333, \"#9c179e\"], [0.4444444444444444, \"#bd3786\"], [0.5555555555555556, \"#d8576b\"], [0.6666666666666666, \"#ed7953\"], [0.7777777777777778, \"#fb9f3a\"], [0.8888888888888888, \"#fdca26\"], [1.0, \"#f0f921\"]], \"type\": \"surface\"}], \"table\": [{\"cells\": {\"fill\": {\"color\": \"#EBF0F8\"}, \"line\": {\"color\": \"white\"}}, \"header\": {\"fill\": {\"color\": \"#C8D4E3\"}, \"line\": {\"color\": \"white\"}}, \"type\": \"table\"}]}, \"layout\": {\"annotationdefaults\": {\"arrowcolor\": \"#2a3f5f\", \"arrowhead\": 0, \"arrowwidth\": 1}, \"coloraxis\": {\"colorbar\": {\"outlinewidth\": 0, \"ticks\": \"\"}}, \"colorscale\": {\"diverging\": [[0, \"#8e0152\"], [0.1, \"#c51b7d\"], [0.2, \"#de77ae\"], [0.3, \"#f1b6da\"], [0.4, \"#fde0ef\"], [0.5, \"#f7f7f7\"], [0.6, \"#e6f5d0\"], [0.7, \"#b8e186\"], [0.8, \"#7fbc41\"], [0.9, \"#4d9221\"], [1, \"#276419\"]], \"sequential\": [[0.0, \"#0d0887\"], [0.1111111111111111, \"#46039f\"], [0.2222222222222222, \"#7201a8\"], [0.3333333333333333, \"#9c179e\"], [0.4444444444444444, \"#bd3786\"], [0.5555555555555556, \"#d8576b\"], [0.6666666666666666, \"#ed7953\"], [0.7777777777777778, \"#fb9f3a\"], [0.8888888888888888, \"#fdca26\"], [1.0, \"#f0f921\"]], \"sequentialminus\": [[0.0, \"#0d0887\"], [0.1111111111111111, \"#46039f\"], [0.2222222222222222, \"#7201a8\"], [0.3333333333333333, \"#9c179e\"], [0.4444444444444444, \"#bd3786\"], [0.5555555555555556, \"#d8576b\"], [0.6666666666666666, \"#ed7953\"], [0.7777777777777778, \"#fb9f3a\"], [0.8888888888888888, \"#fdca26\"], [1.0, \"#f0f921\"]]}, \"colorway\": [\"#636efa\", \"#EF553B\", \"#00cc96\", \"#ab63fa\", \"#FFA15A\", \"#19d3f3\", \"#FF6692\", \"#B6E880\", \"#FF97FF\", \"#FECB52\"], \"font\": {\"color\": \"#2a3f5f\"}, \"geo\": {\"bgcolor\": \"white\", \"lakecolor\": \"white\", \"landcolor\": \"#E5ECF6\", \"showlakes\": true, \"showland\": true, \"subunitcolor\": \"white\"}, \"hoverlabel\": {\"align\": \"left\"}, \"hovermode\": \"closest\", \"mapbox\": {\"style\": \"light\"}, \"paper_bgcolor\": \"white\", \"plot_bgcolor\": \"#E5ECF6\", \"polar\": {\"angularaxis\": {\"gridcolor\": \"white\", \"linecolor\": \"white\", \"ticks\": \"\"}, \"bgcolor\": \"#E5ECF6\", \"radialaxis\": {\"gridcolor\": \"white\", \"linecolor\": \"white\", \"ticks\": \"\"}}, \"scene\": {\"xaxis\": {\"backgroundcolor\": \"#E5ECF6\", \"gridcolor\": \"white\", \"gridwidth\": 2, \"linecolor\": \"white\", \"showbackground\": true, \"ticks\": \"\", \"zerolinecolor\": \"white\"}, \"yaxis\": {\"backgroundcolor\": \"#E5ECF6\", \"gridcolor\": \"white\", \"gridwidth\": 2, \"linecolor\": \"white\", \"showbackground\": true, \"ticks\": \"\", \"zerolinecolor\": \"white\"}, \"zaxis\": {\"backgroundcolor\": \"#E5ECF6\", \"gridcolor\": \"white\", \"gridwidth\": 2, \"linecolor\": \"white\", \"showbackground\": true, \"ticks\": \"\", \"zerolinecolor\": \"white\"}}, \"shapedefaults\": {\"line\": {\"color\": \"#2a3f5f\"}}, \"ternary\": {\"aaxis\": {\"gridcolor\": \"white\", \"linecolor\": \"white\", \"ticks\": \"\"}, \"baxis\": {\"gridcolor\": \"white\", \"linecolor\": \"white\", \"ticks\": \"\"}, \"bgcolor\": \"#E5ECF6\", \"caxis\": {\"gridcolor\": \"white\", \"linecolor\": \"white\", \"ticks\": \"\"}}, \"title\": {\"x\": 0.05}, \"xaxis\": {\"automargin\": true, \"gridcolor\": \"white\", \"linecolor\": \"white\", \"ticks\": \"\", \"title\": {\"standoff\": 15}, \"zerolinecolor\": \"white\", \"zerolinewidth\": 2}, \"yaxis\": {\"automargin\": true, \"gridcolor\": \"white\", \"linecolor\": \"white\", \"ticks\": \"\", \"title\": {\"standoff\": 15}, \"zerolinecolor\": \"white\", \"zerolinewidth\": 2}}}, \"title\": {\"text\": \"Cumulative Cases in July 2021\"}, \"xaxis\": {\"title\": {\"text\": \"Date\"}}, \"yaxis\": {\"title\": {\"text\": \"Cumulative Cases\"}}},\n",
              "                        {\"responsive\": true}\n",
              "                    ).then(function(){\n",
              "                            \n",
              "var gd = document.getElementById('4325adff-2708-4a96-a744-3c5ea435b448');\n",
              "var x = new MutationObserver(function (mutations, observer) {{\n",
              "        var display = window.getComputedStyle(gd).display;\n",
              "        if (!display || display === 'none') {{\n",
              "            console.log([gd, 'removed!']);\n",
              "            Plotly.purge(gd);\n",
              "            observer.disconnect();\n",
              "        }}\n",
              "}});\n",
              "\n",
              "// Listen for the removal of the full notebook cells\n",
              "var notebookContainer = gd.closest('#notebook-container');\n",
              "if (notebookContainer) {{\n",
              "    x.observe(notebookContainer, {childList: true});\n",
              "}}\n",
              "\n",
              "// Listen for the clearing of the current output cell\n",
              "var outputEl = gd.closest('.output');\n",
              "if (outputEl) {{\n",
              "    x.observe(outputEl, {childList: true});\n",
              "}}\n",
              "\n",
              "                        })\n",
              "                };\n",
              "                \n",
              "            </script>\n",
              "        </div>\n",
              "</body>\n",
              "</html>"
            ]
          },
          "metadata": {}
        }
      ]
    },
    {
      "cell_type": "markdown",
      "metadata": {
        "id": "UkL6c5E0l0t6"
      },
      "source": [
        "#### Problem 1.2.b\n",
        "\n",
        "Compute a linear regression"
      ]
    },
    {
      "cell_type": "code",
      "metadata": {
        "id": "kVH0IM4Xl0t6"
      },
      "source": [
        "## -- please write code for the linear regression and visualization here. -- ## \n",
        "X2 = sm.add_constant(merged_data_period2['days'])\n",
        "model2 = sm.OLS(merged_data_period2['cases'], X2)\n",
        "result2 = model2.fit()\n",
        "\n",
        "beta2 = [result2.params[0], result2.params[1]]"
      ],
      "execution_count": 11,
      "outputs": []
    },
    {
      "cell_type": "markdown",
      "metadata": {
        "id": "9ngzKnQGl0t8"
      },
      "source": [
        "#### Problem 1.2.c\n",
        "\n",
        "Plot the data together with the linear regression here\n"
      ]
    },
    {
      "cell_type": "code",
      "metadata": {
        "colab": {
          "base_uri": "https://localhost:8080/",
          "height": 417
        },
        "id": "2PpEADJHl0t9",
        "outputId": "6b71215e-b277-4655-96c6-12e197a71b5a"
      },
      "source": [
        "## -- please write the code for your plot here -- ##\n",
        "fig = go.Figure()\n",
        "fig.add_trace(go.Scatter(x=merged_data_period2['days'], y=merged_data_period2['cases'],mode='markers', name = 'Actual Data'))\n",
        "fig.add_trace(go.Scatter(x=merged_data_period2['days'], y=beta2[0] + beta2[1]*merged_data_period2['days'],mode='lines', name = 'Fitted Line'))\n",
        "fig.update_layout(title='Cumulative Cases in July 2021', xaxis_title='Days',yaxis_title='Cumulative Cases', width = 600, height = 400)\n",
        "fig.show()"
      ],
      "execution_count": 12,
      "outputs": [
        {
          "output_type": "display_data",
          "data": {
            "text/html": [
              "<html>\n",
              "<head><meta charset=\"utf-8\" /></head>\n",
              "<body>\n",
              "    <div>\n",
              "            <script src=\"https://cdnjs.cloudflare.com/ajax/libs/mathjax/2.7.5/MathJax.js?config=TeX-AMS-MML_SVG\"></script><script type=\"text/javascript\">if (window.MathJax) {MathJax.Hub.Config({SVG: {font: \"STIX-Web\"}});}</script>\n",
              "                <script type=\"text/javascript\">window.PlotlyConfig = {MathJaxConfig: 'local'};</script>\n",
              "        <script src=\"https://cdn.plot.ly/plotly-latest.min.js\"></script>    \n",
              "            <div id=\"452a005d-b357-4c2b-942a-5d25a93b66aa\" class=\"plotly-graph-div\" style=\"height:400px; width:600px;\"></div>\n",
              "            <script type=\"text/javascript\">\n",
              "                \n",
              "                    window.PLOTLYENV=window.PLOTLYENV || {};\n",
              "                    \n",
              "                if (document.getElementById(\"452a005d-b357-4c2b-942a-5d25a93b66aa\")) {\n",
              "                    Plotly.newPlot(\n",
              "                        '452a005d-b357-4c2b-942a-5d25a93b66aa',\n",
              "                        [{\"mode\": \"markers\", \"name\": \"Actual Data\", \"type\": \"scatter\", \"x\": [1, 2, 3, 4, 5, 6, 7, 8, 9, 10, 11, 12, 13, 14, 15, 16, 17, 18, 19, 20, 21, 22, 23, 24, 25, 26, 27, 28, 29, 30, 31, 32], \"y\": [33704723, 33725159, 33729152, 33732074, 33736665, 33763742, 33793961, 33843194, 33878529, 33886287, 33891830, 33927213, 33970195, 34008250, 34044268, 34096492, 34108937, 34117964, 34177146, 34239257, 34299048, 34364548, 34447610, 34469200, 34483033, 34576119, 34682937, 34767898, 34866192, 34988866, 35018564, 35041458]}, {\"mode\": \"lines\", \"name\": \"Fitted Line\", \"type\": \"scatter\", \"x\": [1, 2, 3, 4, 5, 6, 7, 8, 9, 10, 11, 12, 13, 14, 15, 16, 17, 18, 19, 20, 21, 22, 23, 24, 25, 26, 27, 28, 29, 30, 31, 32], \"y\": [33524000.056818184, 33567573.66403959, 33611147.271261, 33654720.87848241, 33698294.48570381, 33741868.09292522, 33785441.70014663, 33829015.30736804, 33872588.91458944, 33916162.52181085, 33959736.12903226, 34003309.736253664, 34046883.34347507, 34090456.95069648, 34134030.557917885, 34177604.165139295, 34221177.772360705, 34264751.37958211, 34308324.98680352, 34351898.59402493, 34395472.20124633, 34439045.80846774, 34482619.41568915, 34526193.02291055, 34569766.63013196, 34613340.23735337, 34656913.84457478, 34700487.45179618, 34744061.05901759, 34787634.666239, 34831208.2734604, 34874781.88068181]}],\n",
              "                        {\"height\": 400, \"template\": {\"data\": {\"bar\": [{\"error_x\": {\"color\": \"#2a3f5f\"}, \"error_y\": {\"color\": \"#2a3f5f\"}, \"marker\": {\"line\": {\"color\": \"#E5ECF6\", \"width\": 0.5}}, \"type\": \"bar\"}], \"barpolar\": [{\"marker\": {\"line\": {\"color\": \"#E5ECF6\", \"width\": 0.5}}, \"type\": \"barpolar\"}], \"carpet\": [{\"aaxis\": {\"endlinecolor\": \"#2a3f5f\", \"gridcolor\": \"white\", \"linecolor\": \"white\", \"minorgridcolor\": \"white\", \"startlinecolor\": \"#2a3f5f\"}, \"baxis\": {\"endlinecolor\": \"#2a3f5f\", \"gridcolor\": \"white\", \"linecolor\": \"white\", \"minorgridcolor\": \"white\", \"startlinecolor\": \"#2a3f5f\"}, \"type\": \"carpet\"}], \"choropleth\": [{\"colorbar\": {\"outlinewidth\": 0, \"ticks\": \"\"}, \"type\": \"choropleth\"}], \"contour\": [{\"colorbar\": {\"outlinewidth\": 0, \"ticks\": \"\"}, \"colorscale\": [[0.0, \"#0d0887\"], [0.1111111111111111, \"#46039f\"], [0.2222222222222222, \"#7201a8\"], [0.3333333333333333, \"#9c179e\"], [0.4444444444444444, \"#bd3786\"], [0.5555555555555556, \"#d8576b\"], [0.6666666666666666, \"#ed7953\"], [0.7777777777777778, \"#fb9f3a\"], [0.8888888888888888, \"#fdca26\"], [1.0, \"#f0f921\"]], \"type\": \"contour\"}], \"contourcarpet\": [{\"colorbar\": {\"outlinewidth\": 0, \"ticks\": \"\"}, \"type\": \"contourcarpet\"}], \"heatmap\": [{\"colorbar\": {\"outlinewidth\": 0, \"ticks\": \"\"}, \"colorscale\": [[0.0, \"#0d0887\"], [0.1111111111111111, \"#46039f\"], [0.2222222222222222, \"#7201a8\"], [0.3333333333333333, \"#9c179e\"], [0.4444444444444444, \"#bd3786\"], [0.5555555555555556, \"#d8576b\"], [0.6666666666666666, \"#ed7953\"], [0.7777777777777778, \"#fb9f3a\"], [0.8888888888888888, \"#fdca26\"], [1.0, \"#f0f921\"]], \"type\": \"heatmap\"}], \"heatmapgl\": [{\"colorbar\": {\"outlinewidth\": 0, \"ticks\": \"\"}, \"colorscale\": [[0.0, \"#0d0887\"], [0.1111111111111111, \"#46039f\"], [0.2222222222222222, \"#7201a8\"], [0.3333333333333333, \"#9c179e\"], [0.4444444444444444, \"#bd3786\"], [0.5555555555555556, \"#d8576b\"], [0.6666666666666666, \"#ed7953\"], [0.7777777777777778, \"#fb9f3a\"], [0.8888888888888888, \"#fdca26\"], [1.0, \"#f0f921\"]], \"type\": \"heatmapgl\"}], \"histogram\": [{\"marker\": {\"colorbar\": {\"outlinewidth\": 0, \"ticks\": \"\"}}, \"type\": \"histogram\"}], \"histogram2d\": [{\"colorbar\": {\"outlinewidth\": 0, \"ticks\": \"\"}, \"colorscale\": [[0.0, \"#0d0887\"], [0.1111111111111111, \"#46039f\"], [0.2222222222222222, \"#7201a8\"], [0.3333333333333333, \"#9c179e\"], [0.4444444444444444, \"#bd3786\"], [0.5555555555555556, \"#d8576b\"], [0.6666666666666666, \"#ed7953\"], [0.7777777777777778, \"#fb9f3a\"], [0.8888888888888888, \"#fdca26\"], [1.0, \"#f0f921\"]], \"type\": \"histogram2d\"}], \"histogram2dcontour\": [{\"colorbar\": {\"outlinewidth\": 0, \"ticks\": \"\"}, \"colorscale\": [[0.0, \"#0d0887\"], [0.1111111111111111, \"#46039f\"], [0.2222222222222222, \"#7201a8\"], [0.3333333333333333, \"#9c179e\"], [0.4444444444444444, \"#bd3786\"], [0.5555555555555556, \"#d8576b\"], [0.6666666666666666, \"#ed7953\"], [0.7777777777777778, \"#fb9f3a\"], [0.8888888888888888, \"#fdca26\"], [1.0, \"#f0f921\"]], \"type\": \"histogram2dcontour\"}], \"mesh3d\": [{\"colorbar\": {\"outlinewidth\": 0, \"ticks\": \"\"}, \"type\": \"mesh3d\"}], \"parcoords\": [{\"line\": {\"colorbar\": {\"outlinewidth\": 0, \"ticks\": \"\"}}, \"type\": \"parcoords\"}], \"pie\": [{\"automargin\": true, \"type\": \"pie\"}], \"scatter\": [{\"marker\": {\"colorbar\": {\"outlinewidth\": 0, \"ticks\": \"\"}}, \"type\": \"scatter\"}], \"scatter3d\": [{\"line\": {\"colorbar\": {\"outlinewidth\": 0, \"ticks\": \"\"}}, \"marker\": {\"colorbar\": {\"outlinewidth\": 0, \"ticks\": \"\"}}, \"type\": \"scatter3d\"}], \"scattercarpet\": [{\"marker\": {\"colorbar\": {\"outlinewidth\": 0, \"ticks\": \"\"}}, \"type\": \"scattercarpet\"}], \"scattergeo\": [{\"marker\": {\"colorbar\": {\"outlinewidth\": 0, \"ticks\": \"\"}}, \"type\": \"scattergeo\"}], \"scattergl\": [{\"marker\": {\"colorbar\": {\"outlinewidth\": 0, \"ticks\": \"\"}}, \"type\": \"scattergl\"}], \"scattermapbox\": [{\"marker\": {\"colorbar\": {\"outlinewidth\": 0, \"ticks\": \"\"}}, \"type\": \"scattermapbox\"}], \"scatterpolar\": [{\"marker\": {\"colorbar\": {\"outlinewidth\": 0, \"ticks\": \"\"}}, \"type\": \"scatterpolar\"}], \"scatterpolargl\": [{\"marker\": {\"colorbar\": {\"outlinewidth\": 0, \"ticks\": \"\"}}, \"type\": \"scatterpolargl\"}], \"scatterternary\": [{\"marker\": {\"colorbar\": {\"outlinewidth\": 0, \"ticks\": \"\"}}, \"type\": \"scatterternary\"}], \"surface\": [{\"colorbar\": {\"outlinewidth\": 0, \"ticks\": \"\"}, \"colorscale\": [[0.0, \"#0d0887\"], [0.1111111111111111, \"#46039f\"], [0.2222222222222222, \"#7201a8\"], [0.3333333333333333, \"#9c179e\"], [0.4444444444444444, \"#bd3786\"], [0.5555555555555556, \"#d8576b\"], [0.6666666666666666, \"#ed7953\"], [0.7777777777777778, \"#fb9f3a\"], [0.8888888888888888, \"#fdca26\"], [1.0, \"#f0f921\"]], \"type\": \"surface\"}], \"table\": [{\"cells\": {\"fill\": {\"color\": \"#EBF0F8\"}, \"line\": {\"color\": \"white\"}}, \"header\": {\"fill\": {\"color\": \"#C8D4E3\"}, \"line\": {\"color\": \"white\"}}, \"type\": \"table\"}]}, \"layout\": {\"annotationdefaults\": {\"arrowcolor\": \"#2a3f5f\", \"arrowhead\": 0, \"arrowwidth\": 1}, \"coloraxis\": {\"colorbar\": {\"outlinewidth\": 0, \"ticks\": \"\"}}, \"colorscale\": {\"diverging\": [[0, \"#8e0152\"], [0.1, \"#c51b7d\"], [0.2, \"#de77ae\"], [0.3, \"#f1b6da\"], [0.4, \"#fde0ef\"], [0.5, \"#f7f7f7\"], [0.6, \"#e6f5d0\"], [0.7, \"#b8e186\"], [0.8, \"#7fbc41\"], [0.9, \"#4d9221\"], [1, \"#276419\"]], \"sequential\": [[0.0, \"#0d0887\"], [0.1111111111111111, \"#46039f\"], [0.2222222222222222, \"#7201a8\"], [0.3333333333333333, \"#9c179e\"], [0.4444444444444444, \"#bd3786\"], [0.5555555555555556, \"#d8576b\"], [0.6666666666666666, \"#ed7953\"], [0.7777777777777778, \"#fb9f3a\"], [0.8888888888888888, \"#fdca26\"], [1.0, \"#f0f921\"]], \"sequentialminus\": [[0.0, \"#0d0887\"], [0.1111111111111111, \"#46039f\"], [0.2222222222222222, \"#7201a8\"], [0.3333333333333333, \"#9c179e\"], [0.4444444444444444, \"#bd3786\"], [0.5555555555555556, \"#d8576b\"], [0.6666666666666666, \"#ed7953\"], [0.7777777777777778, \"#fb9f3a\"], [0.8888888888888888, \"#fdca26\"], [1.0, \"#f0f921\"]]}, \"colorway\": [\"#636efa\", \"#EF553B\", \"#00cc96\", \"#ab63fa\", \"#FFA15A\", \"#19d3f3\", \"#FF6692\", \"#B6E880\", \"#FF97FF\", \"#FECB52\"], \"font\": {\"color\": \"#2a3f5f\"}, \"geo\": {\"bgcolor\": \"white\", \"lakecolor\": \"white\", \"landcolor\": \"#E5ECF6\", \"showlakes\": true, \"showland\": true, \"subunitcolor\": \"white\"}, \"hoverlabel\": {\"align\": \"left\"}, \"hovermode\": \"closest\", \"mapbox\": {\"style\": \"light\"}, \"paper_bgcolor\": \"white\", \"plot_bgcolor\": \"#E5ECF6\", \"polar\": {\"angularaxis\": {\"gridcolor\": \"white\", \"linecolor\": \"white\", \"ticks\": \"\"}, \"bgcolor\": \"#E5ECF6\", \"radialaxis\": {\"gridcolor\": \"white\", \"linecolor\": \"white\", \"ticks\": \"\"}}, \"scene\": {\"xaxis\": {\"backgroundcolor\": \"#E5ECF6\", \"gridcolor\": \"white\", \"gridwidth\": 2, \"linecolor\": \"white\", \"showbackground\": true, \"ticks\": \"\", \"zerolinecolor\": \"white\"}, \"yaxis\": {\"backgroundcolor\": \"#E5ECF6\", \"gridcolor\": \"white\", \"gridwidth\": 2, \"linecolor\": \"white\", \"showbackground\": true, \"ticks\": \"\", \"zerolinecolor\": \"white\"}, \"zaxis\": {\"backgroundcolor\": \"#E5ECF6\", \"gridcolor\": \"white\", \"gridwidth\": 2, \"linecolor\": \"white\", \"showbackground\": true, \"ticks\": \"\", \"zerolinecolor\": \"white\"}}, \"shapedefaults\": {\"line\": {\"color\": \"#2a3f5f\"}}, \"ternary\": {\"aaxis\": {\"gridcolor\": \"white\", \"linecolor\": \"white\", \"ticks\": \"\"}, \"baxis\": {\"gridcolor\": \"white\", \"linecolor\": \"white\", \"ticks\": \"\"}, \"bgcolor\": \"#E5ECF6\", \"caxis\": {\"gridcolor\": \"white\", \"linecolor\": \"white\", \"ticks\": \"\"}}, \"title\": {\"x\": 0.05}, \"xaxis\": {\"automargin\": true, \"gridcolor\": \"white\", \"linecolor\": \"white\", \"ticks\": \"\", \"title\": {\"standoff\": 15}, \"zerolinecolor\": \"white\", \"zerolinewidth\": 2}, \"yaxis\": {\"automargin\": true, \"gridcolor\": \"white\", \"linecolor\": \"white\", \"ticks\": \"\", \"title\": {\"standoff\": 15}, \"zerolinecolor\": \"white\", \"zerolinewidth\": 2}}}, \"title\": {\"text\": \"Cumulative Cases in July 2021\"}, \"width\": 600, \"xaxis\": {\"title\": {\"text\": \"Days\"}}, \"yaxis\": {\"title\": {\"text\": \"Cumulative Cases\"}}},\n",
              "                        {\"responsive\": true}\n",
              "                    ).then(function(){\n",
              "                            \n",
              "var gd = document.getElementById('452a005d-b357-4c2b-942a-5d25a93b66aa');\n",
              "var x = new MutationObserver(function (mutations, observer) {{\n",
              "        var display = window.getComputedStyle(gd).display;\n",
              "        if (!display || display === 'none') {{\n",
              "            console.log([gd, 'removed!']);\n",
              "            Plotly.purge(gd);\n",
              "            observer.disconnect();\n",
              "        }}\n",
              "}});\n",
              "\n",
              "// Listen for the removal of the full notebook cells\n",
              "var notebookContainer = gd.closest('#notebook-container');\n",
              "if (notebookContainer) {{\n",
              "    x.observe(notebookContainer, {childList: true});\n",
              "}}\n",
              "\n",
              "// Listen for the clearing of the current output cell\n",
              "var outputEl = gd.closest('.output');\n",
              "if (outputEl) {{\n",
              "    x.observe(outputEl, {childList: true});\n",
              "}}\n",
              "\n",
              "                        })\n",
              "                };\n",
              "                \n",
              "            </script>\n",
              "        </div>\n",
              "</body>\n",
              "</html>"
            ]
          },
          "metadata": {}
        }
      ]
    },
    {
      "cell_type": "markdown",
      "metadata": {
        "id": "Gog53-qAl0t9"
      },
      "source": [
        "### Problem 1.3\n",
        "\n",
        "Compare the linear regression results for 1.1 and 1.2. In which case does the model better fit the data? Please verify your answer *quantitatively*."
      ]
    },
    {
      "cell_type": "code",
      "metadata": {
        "colab": {
          "base_uri": "https://localhost:8080/",
          "height": 0
        },
        "id": "V1LihoaCl0t9",
        "outputId": "a6d77614-5bbc-4679-ffa7-6242d146adba"
      },
      "source": [
        "## -- please write your answer here. -- ## \n",
        "str_april = 'R-squared for the regression model using April 2021 data:' + str(np.round(result.rsquared_adj, 4))\n",
        "str_july = 'R-squared for the regression model using July 2021 data:' + str(np.round(result2.rsquared_adj, 4))\n",
        "\n",
        "print(str_april + ' and ' + str_july)\n",
        "\n",
        "if result.rsquared_adj > result2.rsquared_adj:\n",
        "  print('The model fit using data from April 2021 fits better')\n",
        "else:\n",
        "  print('The model fit using data from July 2021 fits better')"
      ],
      "execution_count": 13,
      "outputs": [
        {
          "output_type": "stream",
          "name": "stdout",
          "text": [
            "R-squared for the regression model using April 2021 data:0.9961 and R-squared for the regression model using July 2021 data:0.9374\n",
            "The model fit using data from April 2021 fits better\n"
          ]
        }
      ]
    },
    {
      "cell_type": "markdown",
      "metadata": {
        "id": "AlcR43ALl0t9"
      },
      "source": [
        "### Problem 1.4 (Extra credit: 5 points)\n",
        "\n",
        "Repeat problems 1.1, 1.2, and 1.3 but this time using *multiple regression*, regressing the \n",
        "cumulative cases onto the number of days and the cumulative deaths on that day. Thus, each of your regressions should have three parameters: an intercept, a coefficient for days, and a coefficient for deaths. When you visualize the results, plot the predicted number of cases versus days, but use the number of deaths to compute your predicted values."
      ]
    },
    {
      "cell_type": "code",
      "metadata": {
        "colab": {
          "base_uri": "https://localhost:8080/",
          "height": 417
        },
        "id": "QafLRQEzl0t9",
        "outputId": "8ddc7de1-5da5-443b-85dc-e7fd0813724d"
      },
      "source": [
        "## -- please write your answer here. -- ## \n",
        "'''Creating a model using April 2021 data'''\n",
        "x_data = np.column_stack((merged_data_period1['days'], merged_data_period1['deaths']))\n",
        "X = sm.add_constant(x_data)\n",
        "model = sm.OLS(merged_data_period1['cases'], X)\n",
        "result = model.fit()\n",
        "\n",
        "beta = [result.params[0], result.params[1], result.params[2]]\n",
        "\n",
        "fig = go.Figure()\n",
        "fig.add_trace(go.Scatter(x=merged_data_period1['days'], y=merged_data_period1['cases'],mode='markers', name = 'Actual Data'))\n",
        "fig.add_trace(go.Scatter(x=merged_data_period1['days'], y=beta[0] + beta[1]*merged_data_period1['days'] + beta[2]*merged_data_period1['deaths'],mode='lines', name = 'Fitted Line'))\n",
        "fig.update_layout(title='Cumulative Cases in April 2021',xaxis_title='Days',yaxis_title='Cumulative Cases', width = 600, height = 400)\n",
        "fig.show()"
      ],
      "execution_count": 14,
      "outputs": [
        {
          "output_type": "display_data",
          "data": {
            "text/html": [
              "<html>\n",
              "<head><meta charset=\"utf-8\" /></head>\n",
              "<body>\n",
              "    <div>\n",
              "            <script src=\"https://cdnjs.cloudflare.com/ajax/libs/mathjax/2.7.5/MathJax.js?config=TeX-AMS-MML_SVG\"></script><script type=\"text/javascript\">if (window.MathJax) {MathJax.Hub.Config({SVG: {font: \"STIX-Web\"}});}</script>\n",
              "                <script type=\"text/javascript\">window.PlotlyConfig = {MathJaxConfig: 'local'};</script>\n",
              "        <script src=\"https://cdn.plot.ly/plotly-latest.min.js\"></script>    \n",
              "            <div id=\"59c3c050-ac69-465d-9fb8-c080f6050eae\" class=\"plotly-graph-div\" style=\"height:400px; width:600px;\"></div>\n",
              "            <script type=\"text/javascript\">\n",
              "                \n",
              "                    window.PLOTLYENV=window.PLOTLYENV || {};\n",
              "                    \n",
              "                if (document.getElementById(\"59c3c050-ac69-465d-9fb8-c080f6050eae\")) {\n",
              "                    Plotly.newPlot(\n",
              "                        '59c3c050-ac69-465d-9fb8-c080f6050eae',\n",
              "                        [{\"mode\": \"markers\", \"name\": \"Actual Data\", \"type\": \"scatter\", \"x\": [1, 2, 3, 4, 5, 6, 7, 8, 9, 10, 11, 12, 13, 14, 15, 16, 17, 18, 19, 20, 21, 22, 23, 24, 25, 26, 27, 28, 29, 30, 31], \"y\": [30556079, 30624668, 30688804, 30725627, 30802221, 30864193, 30937283, 31017741, 31099323, 31164081, 31212058, 31283990, 31361311, 31437061, 31510755, 31589109, 31642983, 31684382, 31754642, 31815666, 31878161, 31944402, 32008186, 32058654, 32092245, 32139580, 32191457, 32246275, 32303857, 32362374, 32407133]}, {\"mode\": \"lines\", \"name\": \"Fitted Line\", \"type\": \"scatter\", \"x\": [1, 2, 3, 4, 5, 6, 7, 8, 9, 10, 11, 12, 13, 14, 15, 16, 17, 18, 19, 20, 21, 22, 23, 24, 25, 26, 27, 28, 29, 30, 31], \"y\": [30558230.708243974, 30627934.263641804, 30689882.982286252, 30733456.939953476, 30786886.798519086, 30854794.89910209, 30986193.338030517, 31057654.147076894, 31126975.69081199, 31187052.552309074, 31231734.34379821, 31282681.126556084, 31353416.11344328, 31422317.44434938, 31490531.154262565, 31559432.485168666, 31618477.915176384, 31665337.173143066, 31717047.9792264, 31782014.590006396, 31847286.81011658, 31915271.31303213, 31981804.171629317, 32042683.257618126, 32086639.226948082, 32138120.826033775, 32198541.49802731, 32267404.62776714, 32333975.687530596, 32400011.930966232, 32460509.00529231]}],\n",
              "                        {\"height\": 400, \"template\": {\"data\": {\"bar\": [{\"error_x\": {\"color\": \"#2a3f5f\"}, \"error_y\": {\"color\": \"#2a3f5f\"}, \"marker\": {\"line\": {\"color\": \"#E5ECF6\", \"width\": 0.5}}, \"type\": \"bar\"}], \"barpolar\": [{\"marker\": {\"line\": {\"color\": \"#E5ECF6\", \"width\": 0.5}}, \"type\": \"barpolar\"}], \"carpet\": [{\"aaxis\": {\"endlinecolor\": \"#2a3f5f\", \"gridcolor\": \"white\", \"linecolor\": \"white\", \"minorgridcolor\": \"white\", \"startlinecolor\": \"#2a3f5f\"}, \"baxis\": {\"endlinecolor\": \"#2a3f5f\", \"gridcolor\": \"white\", \"linecolor\": \"white\", \"minorgridcolor\": \"white\", \"startlinecolor\": \"#2a3f5f\"}, \"type\": \"carpet\"}], \"choropleth\": [{\"colorbar\": {\"outlinewidth\": 0, \"ticks\": \"\"}, \"type\": \"choropleth\"}], \"contour\": [{\"colorbar\": {\"outlinewidth\": 0, \"ticks\": \"\"}, \"colorscale\": [[0.0, \"#0d0887\"], [0.1111111111111111, \"#46039f\"], [0.2222222222222222, \"#7201a8\"], [0.3333333333333333, \"#9c179e\"], [0.4444444444444444, \"#bd3786\"], [0.5555555555555556, \"#d8576b\"], [0.6666666666666666, \"#ed7953\"], [0.7777777777777778, \"#fb9f3a\"], [0.8888888888888888, \"#fdca26\"], [1.0, \"#f0f921\"]], \"type\": \"contour\"}], \"contourcarpet\": [{\"colorbar\": {\"outlinewidth\": 0, \"ticks\": \"\"}, \"type\": \"contourcarpet\"}], \"heatmap\": [{\"colorbar\": {\"outlinewidth\": 0, \"ticks\": \"\"}, \"colorscale\": [[0.0, \"#0d0887\"], [0.1111111111111111, \"#46039f\"], [0.2222222222222222, \"#7201a8\"], [0.3333333333333333, \"#9c179e\"], [0.4444444444444444, \"#bd3786\"], [0.5555555555555556, \"#d8576b\"], [0.6666666666666666, \"#ed7953\"], [0.7777777777777778, \"#fb9f3a\"], [0.8888888888888888, \"#fdca26\"], [1.0, \"#f0f921\"]], \"type\": \"heatmap\"}], \"heatmapgl\": [{\"colorbar\": {\"outlinewidth\": 0, \"ticks\": \"\"}, \"colorscale\": [[0.0, \"#0d0887\"], [0.1111111111111111, \"#46039f\"], [0.2222222222222222, \"#7201a8\"], [0.3333333333333333, \"#9c179e\"], [0.4444444444444444, \"#bd3786\"], [0.5555555555555556, \"#d8576b\"], [0.6666666666666666, \"#ed7953\"], [0.7777777777777778, \"#fb9f3a\"], [0.8888888888888888, \"#fdca26\"], [1.0, \"#f0f921\"]], \"type\": \"heatmapgl\"}], \"histogram\": [{\"marker\": {\"colorbar\": {\"outlinewidth\": 0, \"ticks\": \"\"}}, \"type\": \"histogram\"}], \"histogram2d\": [{\"colorbar\": {\"outlinewidth\": 0, \"ticks\": \"\"}, \"colorscale\": [[0.0, \"#0d0887\"], [0.1111111111111111, \"#46039f\"], [0.2222222222222222, \"#7201a8\"], [0.3333333333333333, \"#9c179e\"], [0.4444444444444444, \"#bd3786\"], [0.5555555555555556, \"#d8576b\"], [0.6666666666666666, \"#ed7953\"], [0.7777777777777778, \"#fb9f3a\"], [0.8888888888888888, \"#fdca26\"], [1.0, \"#f0f921\"]], \"type\": \"histogram2d\"}], \"histogram2dcontour\": [{\"colorbar\": {\"outlinewidth\": 0, \"ticks\": \"\"}, \"colorscale\": [[0.0, \"#0d0887\"], [0.1111111111111111, \"#46039f\"], [0.2222222222222222, \"#7201a8\"], [0.3333333333333333, \"#9c179e\"], [0.4444444444444444, \"#bd3786\"], [0.5555555555555556, \"#d8576b\"], [0.6666666666666666, \"#ed7953\"], [0.7777777777777778, \"#fb9f3a\"], [0.8888888888888888, \"#fdca26\"], [1.0, \"#f0f921\"]], \"type\": \"histogram2dcontour\"}], \"mesh3d\": [{\"colorbar\": {\"outlinewidth\": 0, \"ticks\": \"\"}, \"type\": \"mesh3d\"}], \"parcoords\": [{\"line\": {\"colorbar\": {\"outlinewidth\": 0, \"ticks\": \"\"}}, \"type\": \"parcoords\"}], \"pie\": [{\"automargin\": true, \"type\": \"pie\"}], \"scatter\": [{\"marker\": {\"colorbar\": {\"outlinewidth\": 0, \"ticks\": \"\"}}, \"type\": \"scatter\"}], \"scatter3d\": [{\"line\": {\"colorbar\": {\"outlinewidth\": 0, \"ticks\": \"\"}}, \"marker\": {\"colorbar\": {\"outlinewidth\": 0, \"ticks\": \"\"}}, \"type\": \"scatter3d\"}], \"scattercarpet\": [{\"marker\": {\"colorbar\": {\"outlinewidth\": 0, \"ticks\": \"\"}}, \"type\": \"scattercarpet\"}], \"scattergeo\": [{\"marker\": {\"colorbar\": {\"outlinewidth\": 0, \"ticks\": \"\"}}, \"type\": \"scattergeo\"}], \"scattergl\": [{\"marker\": {\"colorbar\": {\"outlinewidth\": 0, \"ticks\": \"\"}}, \"type\": \"scattergl\"}], \"scattermapbox\": [{\"marker\": {\"colorbar\": {\"outlinewidth\": 0, \"ticks\": \"\"}}, \"type\": \"scattermapbox\"}], \"scatterpolar\": [{\"marker\": {\"colorbar\": {\"outlinewidth\": 0, \"ticks\": \"\"}}, \"type\": \"scatterpolar\"}], \"scatterpolargl\": [{\"marker\": {\"colorbar\": {\"outlinewidth\": 0, \"ticks\": \"\"}}, \"type\": \"scatterpolargl\"}], \"scatterternary\": [{\"marker\": {\"colorbar\": {\"outlinewidth\": 0, \"ticks\": \"\"}}, \"type\": \"scatterternary\"}], \"surface\": [{\"colorbar\": {\"outlinewidth\": 0, \"ticks\": \"\"}, \"colorscale\": [[0.0, \"#0d0887\"], [0.1111111111111111, \"#46039f\"], [0.2222222222222222, \"#7201a8\"], [0.3333333333333333, \"#9c179e\"], [0.4444444444444444, \"#bd3786\"], [0.5555555555555556, \"#d8576b\"], [0.6666666666666666, \"#ed7953\"], [0.7777777777777778, \"#fb9f3a\"], [0.8888888888888888, \"#fdca26\"], [1.0, \"#f0f921\"]], \"type\": \"surface\"}], \"table\": [{\"cells\": {\"fill\": {\"color\": \"#EBF0F8\"}, \"line\": {\"color\": \"white\"}}, \"header\": {\"fill\": {\"color\": \"#C8D4E3\"}, \"line\": {\"color\": \"white\"}}, \"type\": \"table\"}]}, \"layout\": {\"annotationdefaults\": {\"arrowcolor\": \"#2a3f5f\", \"arrowhead\": 0, \"arrowwidth\": 1}, \"coloraxis\": {\"colorbar\": {\"outlinewidth\": 0, \"ticks\": \"\"}}, \"colorscale\": {\"diverging\": [[0, \"#8e0152\"], [0.1, \"#c51b7d\"], [0.2, \"#de77ae\"], [0.3, \"#f1b6da\"], [0.4, \"#fde0ef\"], [0.5, \"#f7f7f7\"], [0.6, \"#e6f5d0\"], [0.7, \"#b8e186\"], [0.8, \"#7fbc41\"], [0.9, \"#4d9221\"], [1, \"#276419\"]], \"sequential\": [[0.0, \"#0d0887\"], [0.1111111111111111, \"#46039f\"], [0.2222222222222222, \"#7201a8\"], [0.3333333333333333, \"#9c179e\"], [0.4444444444444444, \"#bd3786\"], [0.5555555555555556, \"#d8576b\"], [0.6666666666666666, \"#ed7953\"], [0.7777777777777778, \"#fb9f3a\"], [0.8888888888888888, \"#fdca26\"], [1.0, \"#f0f921\"]], \"sequentialminus\": [[0.0, \"#0d0887\"], [0.1111111111111111, \"#46039f\"], [0.2222222222222222, \"#7201a8\"], [0.3333333333333333, \"#9c179e\"], [0.4444444444444444, \"#bd3786\"], [0.5555555555555556, \"#d8576b\"], [0.6666666666666666, \"#ed7953\"], [0.7777777777777778, \"#fb9f3a\"], [0.8888888888888888, \"#fdca26\"], [1.0, \"#f0f921\"]]}, \"colorway\": [\"#636efa\", \"#EF553B\", \"#00cc96\", \"#ab63fa\", \"#FFA15A\", \"#19d3f3\", \"#FF6692\", \"#B6E880\", \"#FF97FF\", \"#FECB52\"], \"font\": {\"color\": \"#2a3f5f\"}, \"geo\": {\"bgcolor\": \"white\", \"lakecolor\": \"white\", \"landcolor\": \"#E5ECF6\", \"showlakes\": true, \"showland\": true, \"subunitcolor\": \"white\"}, \"hoverlabel\": {\"align\": \"left\"}, \"hovermode\": \"closest\", \"mapbox\": {\"style\": \"light\"}, \"paper_bgcolor\": \"white\", \"plot_bgcolor\": \"#E5ECF6\", \"polar\": {\"angularaxis\": {\"gridcolor\": \"white\", \"linecolor\": \"white\", \"ticks\": \"\"}, \"bgcolor\": \"#E5ECF6\", \"radialaxis\": {\"gridcolor\": \"white\", \"linecolor\": \"white\", \"ticks\": \"\"}}, \"scene\": {\"xaxis\": {\"backgroundcolor\": \"#E5ECF6\", \"gridcolor\": \"white\", \"gridwidth\": 2, \"linecolor\": \"white\", \"showbackground\": true, \"ticks\": \"\", \"zerolinecolor\": \"white\"}, \"yaxis\": {\"backgroundcolor\": \"#E5ECF6\", \"gridcolor\": \"white\", \"gridwidth\": 2, \"linecolor\": \"white\", \"showbackground\": true, \"ticks\": \"\", \"zerolinecolor\": \"white\"}, \"zaxis\": {\"backgroundcolor\": \"#E5ECF6\", \"gridcolor\": \"white\", \"gridwidth\": 2, \"linecolor\": \"white\", \"showbackground\": true, \"ticks\": \"\", \"zerolinecolor\": \"white\"}}, \"shapedefaults\": {\"line\": {\"color\": \"#2a3f5f\"}}, \"ternary\": {\"aaxis\": {\"gridcolor\": \"white\", \"linecolor\": \"white\", \"ticks\": \"\"}, \"baxis\": {\"gridcolor\": \"white\", \"linecolor\": \"white\", \"ticks\": \"\"}, \"bgcolor\": \"#E5ECF6\", \"caxis\": {\"gridcolor\": \"white\", \"linecolor\": \"white\", \"ticks\": \"\"}}, \"title\": {\"x\": 0.05}, \"xaxis\": {\"automargin\": true, \"gridcolor\": \"white\", \"linecolor\": \"white\", \"ticks\": \"\", \"title\": {\"standoff\": 15}, \"zerolinecolor\": \"white\", \"zerolinewidth\": 2}, \"yaxis\": {\"automargin\": true, \"gridcolor\": \"white\", \"linecolor\": \"white\", \"ticks\": \"\", \"title\": {\"standoff\": 15}, \"zerolinecolor\": \"white\", \"zerolinewidth\": 2}}}, \"title\": {\"text\": \"Cumulative Cases in April 2021\"}, \"width\": 600, \"xaxis\": {\"title\": {\"text\": \"Days\"}}, \"yaxis\": {\"title\": {\"text\": \"Cumulative Cases\"}}},\n",
              "                        {\"responsive\": true}\n",
              "                    ).then(function(){\n",
              "                            \n",
              "var gd = document.getElementById('59c3c050-ac69-465d-9fb8-c080f6050eae');\n",
              "var x = new MutationObserver(function (mutations, observer) {{\n",
              "        var display = window.getComputedStyle(gd).display;\n",
              "        if (!display || display === 'none') {{\n",
              "            console.log([gd, 'removed!']);\n",
              "            Plotly.purge(gd);\n",
              "            observer.disconnect();\n",
              "        }}\n",
              "}});\n",
              "\n",
              "// Listen for the removal of the full notebook cells\n",
              "var notebookContainer = gd.closest('#notebook-container');\n",
              "if (notebookContainer) {{\n",
              "    x.observe(notebookContainer, {childList: true});\n",
              "}}\n",
              "\n",
              "// Listen for the clearing of the current output cell\n",
              "var outputEl = gd.closest('.output');\n",
              "if (outputEl) {{\n",
              "    x.observe(outputEl, {childList: true});\n",
              "}}\n",
              "\n",
              "                        })\n",
              "                };\n",
              "                \n",
              "            </script>\n",
              "        </div>\n",
              "</body>\n",
              "</html>"
            ]
          },
          "metadata": {}
        }
      ]
    },
    {
      "cell_type": "code",
      "metadata": {
        "colab": {
          "base_uri": "https://localhost:8080/",
          "height": 417
        },
        "id": "aUw0culehCkc",
        "outputId": "b0975328-69fa-4cd7-b5bc-81651f725790"
      },
      "source": [
        "'''Creating a model using July 2021 data'''\n",
        "x_data = np.column_stack((merged_data_period2['days'], merged_data_period2['deaths']))\n",
        "X = sm.add_constant(x_data)\n",
        "model2 = sm.OLS(merged_data_period2['cases'], X)\n",
        "result2 = model2.fit()\n",
        "\n",
        "beta2 = [result2.params[0], result2.params[1], result2.params[2]]\n",
        "\n",
        "fig = go.Figure()\n",
        "fig.add_trace(go.Scatter(x=merged_data_period2['days'], y=merged_data_period2['cases'],mode='markers', name = 'Actual Data'))\n",
        "fig.add_trace(go.Scatter(x=merged_data_period2['days'], y=beta2[0] + beta2[1]*merged_data_period2['days'] + beta2[2]*merged_data_period2['deaths'],mode='lines', name = 'Fitted Line'))\n",
        "fig.update_layout(title='Cumulative Cases in July 2021', xaxis_title='Days',yaxis_title='Cumulative Cases', width = 600, height = 400)\n",
        "fig.show(renderer=\"colab\")"
      ],
      "execution_count": 15,
      "outputs": [
        {
          "output_type": "display_data",
          "data": {
            "text/html": [
              "<html>\n",
              "<head><meta charset=\"utf-8\" /></head>\n",
              "<body>\n",
              "    <div>\n",
              "            <script src=\"https://cdnjs.cloudflare.com/ajax/libs/mathjax/2.7.5/MathJax.js?config=TeX-AMS-MML_SVG\"></script><script type=\"text/javascript\">if (window.MathJax) {MathJax.Hub.Config({SVG: {font: \"STIX-Web\"}});}</script>\n",
              "                <script type=\"text/javascript\">window.PlotlyConfig = {MathJaxConfig: 'local'};</script>\n",
              "        <script src=\"https://cdn.plot.ly/plotly-latest.min.js\"></script>    \n",
              "            <div id=\"8e0fa17b-06d5-4cc2-b875-7f64f0da1f6d\" class=\"plotly-graph-div\" style=\"height:400px; width:600px;\"></div>\n",
              "            <script type=\"text/javascript\">\n",
              "                \n",
              "                    window.PLOTLYENV=window.PLOTLYENV || {};\n",
              "                    \n",
              "                if (document.getElementById(\"8e0fa17b-06d5-4cc2-b875-7f64f0da1f6d\")) {\n",
              "                    Plotly.newPlot(\n",
              "                        '8e0fa17b-06d5-4cc2-b875-7f64f0da1f6d',\n",
              "                        [{\"mode\": \"markers\", \"name\": \"Actual Data\", \"type\": \"scatter\", \"x\": [1, 2, 3, 4, 5, 6, 7, 8, 9, 10, 11, 12, 13, 14, 15, 16, 17, 18, 19, 20, 21, 22, 23, 24, 25, 26, 27, 28, 29, 30, 31, 32], \"y\": [33704723, 33725159, 33729152, 33732074, 33736665, 33763742, 33793961, 33843194, 33878529, 33886287, 33891830, 33927213, 33970195, 34008250, 34044268, 34096492, 34108937, 34117964, 34177146, 34239257, 34299048, 34364548, 34447610, 34469200, 34483033, 34576119, 34682937, 34767898, 34866192, 34988866, 35018564, 35041458]}, {\"mode\": \"lines\", \"name\": \"Fitted Line\", \"type\": \"scatter\", \"x\": [1, 2, 3, 4, 5, 6, 7, 8, 9, 10, 11, 12, 13, 14, 15, 16, 17, 18, 19, 20, 21, 22, 23, 24, 25, 26, 27, 28, 29, 30, 31, 32], \"y\": [33684106.001654714, 33725037.596585035, 33706817.99053955, 33672496.11311731, 33639488.70682785, 33697179.80870134, 33756513.99949086, 33830307.37274113, 33917574.07510257, 33900011.70462346, 33863389.502718806, 33906621.42213157, 34002103.56907296, 34084769.622469604, 34149361.697790295, 34220197.51099178, 34200992.05159667, 34166670.17417443, 34196100.14669281, 34248204.74625194, 34332185.27078137, 34404664.17289883, 34503761.11545545, 34490470.776157945, 34460092.31213406, 34503324.23154682, 34615894.5032146, 34732079.57049751, 34818031.80172616, 34992053.59885219, 34992893.82423225, 34967116.009173155]}],\n",
              "                        {\"height\": 400, \"template\": {\"data\": {\"bar\": [{\"error_x\": {\"color\": \"#2a3f5f\"}, \"error_y\": {\"color\": \"#2a3f5f\"}, \"marker\": {\"line\": {\"color\": \"#E5ECF6\", \"width\": 0.5}}, \"type\": \"bar\"}], \"barpolar\": [{\"marker\": {\"line\": {\"color\": \"#E5ECF6\", \"width\": 0.5}}, \"type\": \"barpolar\"}], \"carpet\": [{\"aaxis\": {\"endlinecolor\": \"#2a3f5f\", \"gridcolor\": \"white\", \"linecolor\": \"white\", \"minorgridcolor\": \"white\", \"startlinecolor\": \"#2a3f5f\"}, \"baxis\": {\"endlinecolor\": \"#2a3f5f\", \"gridcolor\": \"white\", \"linecolor\": \"white\", \"minorgridcolor\": \"white\", \"startlinecolor\": \"#2a3f5f\"}, \"type\": \"carpet\"}], \"choropleth\": [{\"colorbar\": {\"outlinewidth\": 0, \"ticks\": \"\"}, \"type\": \"choropleth\"}], \"contour\": [{\"colorbar\": {\"outlinewidth\": 0, \"ticks\": \"\"}, \"colorscale\": [[0.0, \"#0d0887\"], [0.1111111111111111, \"#46039f\"], [0.2222222222222222, \"#7201a8\"], [0.3333333333333333, \"#9c179e\"], [0.4444444444444444, \"#bd3786\"], [0.5555555555555556, \"#d8576b\"], [0.6666666666666666, \"#ed7953\"], [0.7777777777777778, \"#fb9f3a\"], [0.8888888888888888, \"#fdca26\"], [1.0, \"#f0f921\"]], \"type\": \"contour\"}], \"contourcarpet\": [{\"colorbar\": {\"outlinewidth\": 0, \"ticks\": \"\"}, \"type\": \"contourcarpet\"}], \"heatmap\": [{\"colorbar\": {\"outlinewidth\": 0, \"ticks\": \"\"}, \"colorscale\": [[0.0, \"#0d0887\"], [0.1111111111111111, \"#46039f\"], [0.2222222222222222, \"#7201a8\"], [0.3333333333333333, \"#9c179e\"], [0.4444444444444444, \"#bd3786\"], [0.5555555555555556, \"#d8576b\"], [0.6666666666666666, \"#ed7953\"], [0.7777777777777778, \"#fb9f3a\"], [0.8888888888888888, \"#fdca26\"], [1.0, \"#f0f921\"]], \"type\": \"heatmap\"}], \"heatmapgl\": [{\"colorbar\": {\"outlinewidth\": 0, \"ticks\": \"\"}, \"colorscale\": [[0.0, \"#0d0887\"], [0.1111111111111111, \"#46039f\"], [0.2222222222222222, \"#7201a8\"], [0.3333333333333333, \"#9c179e\"], [0.4444444444444444, \"#bd3786\"], [0.5555555555555556, \"#d8576b\"], [0.6666666666666666, \"#ed7953\"], [0.7777777777777778, \"#fb9f3a\"], [0.8888888888888888, \"#fdca26\"], [1.0, \"#f0f921\"]], \"type\": \"heatmapgl\"}], \"histogram\": [{\"marker\": {\"colorbar\": {\"outlinewidth\": 0, \"ticks\": \"\"}}, \"type\": \"histogram\"}], \"histogram2d\": [{\"colorbar\": {\"outlinewidth\": 0, \"ticks\": \"\"}, \"colorscale\": [[0.0, \"#0d0887\"], [0.1111111111111111, \"#46039f\"], [0.2222222222222222, \"#7201a8\"], [0.3333333333333333, \"#9c179e\"], [0.4444444444444444, \"#bd3786\"], [0.5555555555555556, \"#d8576b\"], [0.6666666666666666, \"#ed7953\"], [0.7777777777777778, \"#fb9f3a\"], [0.8888888888888888, \"#fdca26\"], [1.0, \"#f0f921\"]], \"type\": \"histogram2d\"}], \"histogram2dcontour\": [{\"colorbar\": {\"outlinewidth\": 0, \"ticks\": \"\"}, \"colorscale\": [[0.0, \"#0d0887\"], [0.1111111111111111, \"#46039f\"], [0.2222222222222222, \"#7201a8\"], [0.3333333333333333, \"#9c179e\"], [0.4444444444444444, \"#bd3786\"], [0.5555555555555556, \"#d8576b\"], [0.6666666666666666, \"#ed7953\"], [0.7777777777777778, \"#fb9f3a\"], [0.8888888888888888, \"#fdca26\"], [1.0, \"#f0f921\"]], \"type\": \"histogram2dcontour\"}], \"mesh3d\": [{\"colorbar\": {\"outlinewidth\": 0, \"ticks\": \"\"}, \"type\": \"mesh3d\"}], \"parcoords\": [{\"line\": {\"colorbar\": {\"outlinewidth\": 0, \"ticks\": \"\"}}, \"type\": \"parcoords\"}], \"pie\": [{\"automargin\": true, \"type\": \"pie\"}], \"scatter\": [{\"marker\": {\"colorbar\": {\"outlinewidth\": 0, \"ticks\": \"\"}}, \"type\": \"scatter\"}], \"scatter3d\": [{\"line\": {\"colorbar\": {\"outlinewidth\": 0, \"ticks\": \"\"}}, \"marker\": {\"colorbar\": {\"outlinewidth\": 0, \"ticks\": \"\"}}, \"type\": \"scatter3d\"}], \"scattercarpet\": [{\"marker\": {\"colorbar\": {\"outlinewidth\": 0, \"ticks\": \"\"}}, \"type\": \"scattercarpet\"}], \"scattergeo\": [{\"marker\": {\"colorbar\": {\"outlinewidth\": 0, \"ticks\": \"\"}}, \"type\": \"scattergeo\"}], \"scattergl\": [{\"marker\": {\"colorbar\": {\"outlinewidth\": 0, \"ticks\": \"\"}}, \"type\": \"scattergl\"}], \"scattermapbox\": [{\"marker\": {\"colorbar\": {\"outlinewidth\": 0, \"ticks\": \"\"}}, \"type\": \"scattermapbox\"}], \"scatterpolar\": [{\"marker\": {\"colorbar\": {\"outlinewidth\": 0, \"ticks\": \"\"}}, \"type\": \"scatterpolar\"}], \"scatterpolargl\": [{\"marker\": {\"colorbar\": {\"outlinewidth\": 0, \"ticks\": \"\"}}, \"type\": \"scatterpolargl\"}], \"scatterternary\": [{\"marker\": {\"colorbar\": {\"outlinewidth\": 0, \"ticks\": \"\"}}, \"type\": \"scatterternary\"}], \"surface\": [{\"colorbar\": {\"outlinewidth\": 0, \"ticks\": \"\"}, \"colorscale\": [[0.0, \"#0d0887\"], [0.1111111111111111, \"#46039f\"], [0.2222222222222222, \"#7201a8\"], [0.3333333333333333, \"#9c179e\"], [0.4444444444444444, \"#bd3786\"], [0.5555555555555556, \"#d8576b\"], [0.6666666666666666, \"#ed7953\"], [0.7777777777777778, \"#fb9f3a\"], [0.8888888888888888, \"#fdca26\"], [1.0, \"#f0f921\"]], \"type\": \"surface\"}], \"table\": [{\"cells\": {\"fill\": {\"color\": \"#EBF0F8\"}, \"line\": {\"color\": \"white\"}}, \"header\": {\"fill\": {\"color\": \"#C8D4E3\"}, \"line\": {\"color\": \"white\"}}, \"type\": \"table\"}]}, \"layout\": {\"annotationdefaults\": {\"arrowcolor\": \"#2a3f5f\", \"arrowhead\": 0, \"arrowwidth\": 1}, \"coloraxis\": {\"colorbar\": {\"outlinewidth\": 0, \"ticks\": \"\"}}, \"colorscale\": {\"diverging\": [[0, \"#8e0152\"], [0.1, \"#c51b7d\"], [0.2, \"#de77ae\"], [0.3, \"#f1b6da\"], [0.4, \"#fde0ef\"], [0.5, \"#f7f7f7\"], [0.6, \"#e6f5d0\"], [0.7, \"#b8e186\"], [0.8, \"#7fbc41\"], [0.9, \"#4d9221\"], [1, \"#276419\"]], \"sequential\": [[0.0, \"#0d0887\"], [0.1111111111111111, \"#46039f\"], [0.2222222222222222, \"#7201a8\"], [0.3333333333333333, \"#9c179e\"], [0.4444444444444444, \"#bd3786\"], [0.5555555555555556, \"#d8576b\"], [0.6666666666666666, \"#ed7953\"], [0.7777777777777778, \"#fb9f3a\"], [0.8888888888888888, \"#fdca26\"], [1.0, \"#f0f921\"]], \"sequentialminus\": [[0.0, \"#0d0887\"], [0.1111111111111111, \"#46039f\"], [0.2222222222222222, \"#7201a8\"], [0.3333333333333333, \"#9c179e\"], [0.4444444444444444, \"#bd3786\"], [0.5555555555555556, \"#d8576b\"], [0.6666666666666666, \"#ed7953\"], [0.7777777777777778, \"#fb9f3a\"], [0.8888888888888888, \"#fdca26\"], [1.0, \"#f0f921\"]]}, \"colorway\": [\"#636efa\", \"#EF553B\", \"#00cc96\", \"#ab63fa\", \"#FFA15A\", \"#19d3f3\", \"#FF6692\", \"#B6E880\", \"#FF97FF\", \"#FECB52\"], \"font\": {\"color\": \"#2a3f5f\"}, \"geo\": {\"bgcolor\": \"white\", \"lakecolor\": \"white\", \"landcolor\": \"#E5ECF6\", \"showlakes\": true, \"showland\": true, \"subunitcolor\": \"white\"}, \"hoverlabel\": {\"align\": \"left\"}, \"hovermode\": \"closest\", \"mapbox\": {\"style\": \"light\"}, \"paper_bgcolor\": \"white\", \"plot_bgcolor\": \"#E5ECF6\", \"polar\": {\"angularaxis\": {\"gridcolor\": \"white\", \"linecolor\": \"white\", \"ticks\": \"\"}, \"bgcolor\": \"#E5ECF6\", \"radialaxis\": {\"gridcolor\": \"white\", \"linecolor\": \"white\", \"ticks\": \"\"}}, \"scene\": {\"xaxis\": {\"backgroundcolor\": \"#E5ECF6\", \"gridcolor\": \"white\", \"gridwidth\": 2, \"linecolor\": \"white\", \"showbackground\": true, \"ticks\": \"\", \"zerolinecolor\": \"white\"}, \"yaxis\": {\"backgroundcolor\": \"#E5ECF6\", \"gridcolor\": \"white\", \"gridwidth\": 2, \"linecolor\": \"white\", \"showbackground\": true, \"ticks\": \"\", \"zerolinecolor\": \"white\"}, \"zaxis\": {\"backgroundcolor\": \"#E5ECF6\", \"gridcolor\": \"white\", \"gridwidth\": 2, \"linecolor\": \"white\", \"showbackground\": true, \"ticks\": \"\", \"zerolinecolor\": \"white\"}}, \"shapedefaults\": {\"line\": {\"color\": \"#2a3f5f\"}}, \"ternary\": {\"aaxis\": {\"gridcolor\": \"white\", \"linecolor\": \"white\", \"ticks\": \"\"}, \"baxis\": {\"gridcolor\": \"white\", \"linecolor\": \"white\", \"ticks\": \"\"}, \"bgcolor\": \"#E5ECF6\", \"caxis\": {\"gridcolor\": \"white\", \"linecolor\": \"white\", \"ticks\": \"\"}}, \"title\": {\"x\": 0.05}, \"xaxis\": {\"automargin\": true, \"gridcolor\": \"white\", \"linecolor\": \"white\", \"ticks\": \"\", \"title\": {\"standoff\": 15}, \"zerolinecolor\": \"white\", \"zerolinewidth\": 2}, \"yaxis\": {\"automargin\": true, \"gridcolor\": \"white\", \"linecolor\": \"white\", \"ticks\": \"\", \"title\": {\"standoff\": 15}, \"zerolinecolor\": \"white\", \"zerolinewidth\": 2}}}, \"title\": {\"text\": \"Cumulative Cases in July 2021\"}, \"width\": 600, \"xaxis\": {\"title\": {\"text\": \"Days\"}}, \"yaxis\": {\"title\": {\"text\": \"Cumulative Cases\"}}},\n",
              "                        {\"responsive\": true}\n",
              "                    ).then(function(){\n",
              "                            \n",
              "var gd = document.getElementById('8e0fa17b-06d5-4cc2-b875-7f64f0da1f6d');\n",
              "var x = new MutationObserver(function (mutations, observer) {{\n",
              "        var display = window.getComputedStyle(gd).display;\n",
              "        if (!display || display === 'none') {{\n",
              "            console.log([gd, 'removed!']);\n",
              "            Plotly.purge(gd);\n",
              "            observer.disconnect();\n",
              "        }}\n",
              "}});\n",
              "\n",
              "// Listen for the removal of the full notebook cells\n",
              "var notebookContainer = gd.closest('#notebook-container');\n",
              "if (notebookContainer) {{\n",
              "    x.observe(notebookContainer, {childList: true});\n",
              "}}\n",
              "\n",
              "// Listen for the clearing of the current output cell\n",
              "var outputEl = gd.closest('.output');\n",
              "if (outputEl) {{\n",
              "    x.observe(outputEl, {childList: true});\n",
              "}}\n",
              "\n",
              "                        })\n",
              "                };\n",
              "                \n",
              "            </script>\n",
              "        </div>\n",
              "</body>\n",
              "</html>"
            ]
          },
          "metadata": {}
        }
      ]
    },
    {
      "cell_type": "code",
      "metadata": {
        "colab": {
          "base_uri": "https://localhost:8080/",
          "height": 0
        },
        "id": "X8Ek7HPFhkVX",
        "outputId": "e0836f8f-74e5-4fd8-a85a-2d88b12a3deb"
      },
      "source": [
        "'''Comparing regression results'''\n",
        "\n",
        "str_april = 'R-squared for the regression model using April 2021 data:' + str(np.round(result.rsquared_adj, 4))\n",
        "str_july = 'R-squared for the regression model using July 2021 data:' + str(np.round(result2.rsquared_adj, 4))\n",
        "\n",
        "print(str_april + ' and ' + str_july)\n",
        "\n",
        "if result.rsquared_adj > result2.rsquared_adj:\n",
        "  print('The model fit using data from April 2021 fits better')\n",
        "else:\n",
        "  print('The model fit using data from July 2021 fits better')"
      ],
      "execution_count": 16,
      "outputs": [
        {
          "output_type": "stream",
          "name": "stdout",
          "text": [
            "R-squared for the regression model using April 2021 data:0.9979 and R-squared for the regression model using July 2021 data:0.9818\n",
            "The model fit using data from April 2021 fits better\n"
          ]
        }
      ]
    },
    {
      "cell_type": "code",
      "metadata": {
        "id": "lDzfQRO9l0t_"
      },
      "source": [
        ""
      ],
      "execution_count": 16,
      "outputs": []
    },
    {
      "cell_type": "code",
      "metadata": {
        "id": "H9uZzefRl0t_"
      },
      "source": [
        "%matplotlib inline  \n",
        "import pandas as pd\n",
        "import numpy as np\n",
        "import matplotlib.pyplot as plt\n",
        "import dateutil\n",
        "import random\n",
        "import math"
      ],
      "execution_count": 17,
      "outputs": []
    },
    {
      "cell_type": "markdown",
      "metadata": {
        "id": "QwsLPbyrl0t_"
      },
      "source": [
        "## Problem 2: Romance vs. Action (30 points)\n",
        "\n",
        "Credit: Data 8\n",
        "\n",
        "### Part 1. Exploring the dataset\n",
        "\n",
        "In this problem, we will try to predict\n",
        "a movie's genre from the text of its screenplay. We have compiled a list of 5,000 words that occur in conversations between movie characters. For each movie, our dataset tells us the frequency with which each of these words occurs in certain conversations in its screenplay. All words have been converted to lowercase.\n",
        "\n",
        "Run the cell below to read the `movies` table. It may take up a minute or so to load."
      ]
    },
    {
      "cell_type": "code",
      "metadata": {
        "id": "OoxMKAJzl0t_",
        "colab": {
          "base_uri": "https://localhost:8080/",
          "height": 629
        },
        "outputId": "73aa1232-284b-431c-e842-a41bafbea7ee"
      },
      "source": [
        "movies = pd.read_csv('https://raw.githubusercontent.com/YData123/sds265-fa21/main/assignments/assn1/movies.csv')\n",
        "movies.head(10)"
      ],
      "execution_count": 18,
      "outputs": [
        {
          "output_type": "execute_result",
          "data": {
            "text/html": [
              "<div>\n",
              "<style scoped>\n",
              "    .dataframe tbody tr th:only-of-type {\n",
              "        vertical-align: middle;\n",
              "    }\n",
              "\n",
              "    .dataframe tbody tr th {\n",
              "        vertical-align: top;\n",
              "    }\n",
              "\n",
              "    .dataframe thead th {\n",
              "        text-align: right;\n",
              "    }\n",
              "</style>\n",
              "<table border=\"1\" class=\"dataframe\">\n",
              "  <thead>\n",
              "    <tr style=\"text-align: right;\">\n",
              "      <th></th>\n",
              "      <th>Title</th>\n",
              "      <th>Genre</th>\n",
              "      <th>Year</th>\n",
              "      <th>Rating</th>\n",
              "      <th># Votes</th>\n",
              "      <th># Words</th>\n",
              "      <th>i</th>\n",
              "      <th>the</th>\n",
              "      <th>to</th>\n",
              "      <th>a</th>\n",
              "      <th>it</th>\n",
              "      <th>and</th>\n",
              "      <th>that</th>\n",
              "      <th>of</th>\n",
              "      <th>your</th>\n",
              "      <th>what</th>\n",
              "      <th>in</th>\n",
              "      <th>me</th>\n",
              "      <th>is</th>\n",
              "      <th>do</th>\n",
              "      <th>thi</th>\n",
              "      <th>dont</th>\n",
              "      <th>he</th>\n",
              "      <th>for</th>\n",
              "      <th>im</th>\n",
              "      <th>know</th>\n",
              "      <th>have</th>\n",
              "      <th>be</th>\n",
              "      <th>my</th>\n",
              "      <th>we</th>\n",
              "      <th>not</th>\n",
              "      <th>on</th>\n",
              "      <th>go</th>\n",
              "      <th>no</th>\n",
              "      <th>wa</th>\n",
              "      <th>but</th>\n",
              "      <th>with</th>\n",
              "      <th>are</th>\n",
              "      <th>get</th>\n",
              "      <th>just</th>\n",
              "      <th>...</th>\n",
              "      <th>doorway</th>\n",
              "      <th>indict</th>\n",
              "      <th>demolit</th>\n",
              "      <th>guinan</th>\n",
              "      <th>peak</th>\n",
              "      <th>philosoph</th>\n",
              "      <th>divert</th>\n",
              "      <th>cottag</th>\n",
              "      <th>soran</th>\n",
              "      <th>webber</th>\n",
              "      <th>coop</th>\n",
              "      <th>wh</th>\n",
              "      <th>wu</th>\n",
              "      <th>subscrib</th>\n",
              "      <th>yengees</th>\n",
              "      <th>poss</th>\n",
              "      <th>absenc</th>\n",
              "      <th>kitten</th>\n",
              "      <th>octob</th>\n",
              "      <th>wealthi</th>\n",
              "      <th>ironi</th>\n",
              "      <th>argo</th>\n",
              "      <th>blink</th>\n",
              "      <th>delic</th>\n",
              "      <th>deuc</th>\n",
              "      <th>pumpkin</th>\n",
              "      <th>bodega</th>\n",
              "      <th>wheat</th>\n",
              "      <th>pitcher</th>\n",
              "      <th>mamma</th>\n",
              "      <th>foster</th>\n",
              "      <th>pub</th>\n",
              "      <th>vegetarian</th>\n",
              "      <th>garrison</th>\n",
              "      <th>grammoo</th>\n",
              "      <th>chimney</th>\n",
              "      <th>bikini</th>\n",
              "      <th>richter</th>\n",
              "      <th>psychopath</th>\n",
              "      <th>fling</th>\n",
              "    </tr>\n",
              "  </thead>\n",
              "  <tbody>\n",
              "    <tr>\n",
              "      <th>0</th>\n",
              "      <td>the terminator</td>\n",
              "      <td>action</td>\n",
              "      <td>1984</td>\n",
              "      <td>8.1</td>\n",
              "      <td>183538</td>\n",
              "      <td>1849</td>\n",
              "      <td>0.040022</td>\n",
              "      <td>0.043807</td>\n",
              "      <td>0.025419</td>\n",
              "      <td>0.024878</td>\n",
              "      <td>0.034613</td>\n",
              "      <td>0.011357</td>\n",
              "      <td>0.016766</td>\n",
              "      <td>0.008653</td>\n",
              "      <td>0.010276</td>\n",
              "      <td>0.009735</td>\n",
              "      <td>0.012980</td>\n",
              "      <td>0.012980</td>\n",
              "      <td>0.007031</td>\n",
              "      <td>0.005949</td>\n",
              "      <td>0.010276</td>\n",
              "      <td>0.010276</td>\n",
              "      <td>0.007031</td>\n",
              "      <td>0.008653</td>\n",
              "      <td>0.008653</td>\n",
              "      <td>0.006490</td>\n",
              "      <td>0.003245</td>\n",
              "      <td>0.010276</td>\n",
              "      <td>0.004327</td>\n",
              "      <td>0.007031</td>\n",
              "      <td>0.008653</td>\n",
              "      <td>0.007031</td>\n",
              "      <td>0.010276</td>\n",
              "      <td>0.005949</td>\n",
              "      <td>0.008112</td>\n",
              "      <td>0.004867</td>\n",
              "      <td>0.002163</td>\n",
              "      <td>0.005408</td>\n",
              "      <td>0.008112</td>\n",
              "      <td>0.008112</td>\n",
              "      <td>...</td>\n",
              "      <td>0.0</td>\n",
              "      <td>0.0</td>\n",
              "      <td>0.0</td>\n",
              "      <td>0.0</td>\n",
              "      <td>0.0</td>\n",
              "      <td>0.000000</td>\n",
              "      <td>0.0</td>\n",
              "      <td>0.0</td>\n",
              "      <td>0.0</td>\n",
              "      <td>0.0</td>\n",
              "      <td>0.0</td>\n",
              "      <td>0.0</td>\n",
              "      <td>0.000000</td>\n",
              "      <td>0.0</td>\n",
              "      <td>0.0</td>\n",
              "      <td>0.0</td>\n",
              "      <td>0.0</td>\n",
              "      <td>0.00000</td>\n",
              "      <td>0.0</td>\n",
              "      <td>0.000000</td>\n",
              "      <td>0.0</td>\n",
              "      <td>0.000000</td>\n",
              "      <td>0.0</td>\n",
              "      <td>0.0</td>\n",
              "      <td>0.0</td>\n",
              "      <td>0.0</td>\n",
              "      <td>0</td>\n",
              "      <td>0.0</td>\n",
              "      <td>0.0</td>\n",
              "      <td>0.0</td>\n",
              "      <td>0.0</td>\n",
              "      <td>0.0</td>\n",
              "      <td>0.0</td>\n",
              "      <td>0.0</td>\n",
              "      <td>0.0</td>\n",
              "      <td>0.0</td>\n",
              "      <td>0.0</td>\n",
              "      <td>0.0</td>\n",
              "      <td>0.000000</td>\n",
              "      <td>0.0</td>\n",
              "    </tr>\n",
              "    <tr>\n",
              "      <th>1</th>\n",
              "      <td>batman</td>\n",
              "      <td>action</td>\n",
              "      <td>1989</td>\n",
              "      <td>7.6</td>\n",
              "      <td>112731</td>\n",
              "      <td>2836</td>\n",
              "      <td>0.051481</td>\n",
              "      <td>0.033850</td>\n",
              "      <td>0.023977</td>\n",
              "      <td>0.028209</td>\n",
              "      <td>0.024683</td>\n",
              "      <td>0.016573</td>\n",
              "      <td>0.015515</td>\n",
              "      <td>0.009168</td>\n",
              "      <td>0.009168</td>\n",
              "      <td>0.013752</td>\n",
              "      <td>0.009520</td>\n",
              "      <td>0.012341</td>\n",
              "      <td>0.007757</td>\n",
              "      <td>0.011989</td>\n",
              "      <td>0.011989</td>\n",
              "      <td>0.011636</td>\n",
              "      <td>0.010578</td>\n",
              "      <td>0.009520</td>\n",
              "      <td>0.008110</td>\n",
              "      <td>0.009873</td>\n",
              "      <td>0.007052</td>\n",
              "      <td>0.005994</td>\n",
              "      <td>0.004231</td>\n",
              "      <td>0.009873</td>\n",
              "      <td>0.005642</td>\n",
              "      <td>0.007757</td>\n",
              "      <td>0.002468</td>\n",
              "      <td>0.004584</td>\n",
              "      <td>0.006700</td>\n",
              "      <td>0.003526</td>\n",
              "      <td>0.003526</td>\n",
              "      <td>0.006347</td>\n",
              "      <td>0.004937</td>\n",
              "      <td>0.005642</td>\n",
              "      <td>...</td>\n",
              "      <td>0.0</td>\n",
              "      <td>0.0</td>\n",
              "      <td>0.0</td>\n",
              "      <td>0.0</td>\n",
              "      <td>0.0</td>\n",
              "      <td>0.000000</td>\n",
              "      <td>0.0</td>\n",
              "      <td>0.0</td>\n",
              "      <td>0.0</td>\n",
              "      <td>0.0</td>\n",
              "      <td>0.0</td>\n",
              "      <td>0.0</td>\n",
              "      <td>0.000000</td>\n",
              "      <td>0.0</td>\n",
              "      <td>0.0</td>\n",
              "      <td>0.0</td>\n",
              "      <td>0.0</td>\n",
              "      <td>0.00000</td>\n",
              "      <td>0.0</td>\n",
              "      <td>0.000353</td>\n",
              "      <td>0.0</td>\n",
              "      <td>0.000000</td>\n",
              "      <td>0.0</td>\n",
              "      <td>0.0</td>\n",
              "      <td>0.0</td>\n",
              "      <td>0.0</td>\n",
              "      <td>0</td>\n",
              "      <td>0.0</td>\n",
              "      <td>0.0</td>\n",
              "      <td>0.0</td>\n",
              "      <td>0.0</td>\n",
              "      <td>0.0</td>\n",
              "      <td>0.0</td>\n",
              "      <td>0.0</td>\n",
              "      <td>0.0</td>\n",
              "      <td>0.0</td>\n",
              "      <td>0.0</td>\n",
              "      <td>0.0</td>\n",
              "      <td>0.000000</td>\n",
              "      <td>0.0</td>\n",
              "    </tr>\n",
              "    <tr>\n",
              "      <th>2</th>\n",
              "      <td>tomorrow never dies</td>\n",
              "      <td>action</td>\n",
              "      <td>1997</td>\n",
              "      <td>6.4</td>\n",
              "      <td>47198</td>\n",
              "      <td>4215</td>\n",
              "      <td>0.028707</td>\n",
              "      <td>0.054330</td>\n",
              "      <td>0.030368</td>\n",
              "      <td>0.021827</td>\n",
              "      <td>0.016845</td>\n",
              "      <td>0.015658</td>\n",
              "      <td>0.012100</td>\n",
              "      <td>0.016845</td>\n",
              "      <td>0.012574</td>\n",
              "      <td>0.013286</td>\n",
              "      <td>0.015421</td>\n",
              "      <td>0.007117</td>\n",
              "      <td>0.012337</td>\n",
              "      <td>0.009015</td>\n",
              "      <td>0.010676</td>\n",
              "      <td>0.005457</td>\n",
              "      <td>0.007355</td>\n",
              "      <td>0.007829</td>\n",
              "      <td>0.005457</td>\n",
              "      <td>0.004508</td>\n",
              "      <td>0.009490</td>\n",
              "      <td>0.007117</td>\n",
              "      <td>0.008541</td>\n",
              "      <td>0.006643</td>\n",
              "      <td>0.005457</td>\n",
              "      <td>0.006643</td>\n",
              "      <td>0.003796</td>\n",
              "      <td>0.007117</td>\n",
              "      <td>0.005694</td>\n",
              "      <td>0.006406</td>\n",
              "      <td>0.005219</td>\n",
              "      <td>0.005457</td>\n",
              "      <td>0.005694</td>\n",
              "      <td>0.004982</td>\n",
              "      <td>...</td>\n",
              "      <td>0.0</td>\n",
              "      <td>0.0</td>\n",
              "      <td>0.0</td>\n",
              "      <td>0.0</td>\n",
              "      <td>0.0</td>\n",
              "      <td>0.000000</td>\n",
              "      <td>0.0</td>\n",
              "      <td>0.0</td>\n",
              "      <td>0.0</td>\n",
              "      <td>0.0</td>\n",
              "      <td>0.0</td>\n",
              "      <td>0.0</td>\n",
              "      <td>0.000237</td>\n",
              "      <td>0.0</td>\n",
              "      <td>0.0</td>\n",
              "      <td>0.0</td>\n",
              "      <td>0.0</td>\n",
              "      <td>0.00000</td>\n",
              "      <td>0.0</td>\n",
              "      <td>0.000000</td>\n",
              "      <td>0.0</td>\n",
              "      <td>0.000000</td>\n",
              "      <td>0.0</td>\n",
              "      <td>0.0</td>\n",
              "      <td>0.0</td>\n",
              "      <td>0.0</td>\n",
              "      <td>0</td>\n",
              "      <td>0.0</td>\n",
              "      <td>0.0</td>\n",
              "      <td>0.0</td>\n",
              "      <td>0.0</td>\n",
              "      <td>0.0</td>\n",
              "      <td>0.0</td>\n",
              "      <td>0.0</td>\n",
              "      <td>0.0</td>\n",
              "      <td>0.0</td>\n",
              "      <td>0.0</td>\n",
              "      <td>0.0</td>\n",
              "      <td>0.000237</td>\n",
              "      <td>0.0</td>\n",
              "    </tr>\n",
              "    <tr>\n",
              "      <th>3</th>\n",
              "      <td>batman forever</td>\n",
              "      <td>action</td>\n",
              "      <td>1995</td>\n",
              "      <td>5.4</td>\n",
              "      <td>77223</td>\n",
              "      <td>3032</td>\n",
              "      <td>0.036609</td>\n",
              "      <td>0.042216</td>\n",
              "      <td>0.020449</td>\n",
              "      <td>0.031003</td>\n",
              "      <td>0.014842</td>\n",
              "      <td>0.015172</td>\n",
              "      <td>0.013522</td>\n",
              "      <td>0.013852</td>\n",
              "      <td>0.012203</td>\n",
              "      <td>0.016491</td>\n",
              "      <td>0.009894</td>\n",
              "      <td>0.019789</td>\n",
              "      <td>0.011544</td>\n",
              "      <td>0.008905</td>\n",
              "      <td>0.007916</td>\n",
              "      <td>0.005937</td>\n",
              "      <td>0.004947</td>\n",
              "      <td>0.007586</td>\n",
              "      <td>0.010884</td>\n",
              "      <td>0.004288</td>\n",
              "      <td>0.004947</td>\n",
              "      <td>0.010884</td>\n",
              "      <td>0.012533</td>\n",
              "      <td>0.007256</td>\n",
              "      <td>0.006266</td>\n",
              "      <td>0.006596</td>\n",
              "      <td>0.005937</td>\n",
              "      <td>0.004947</td>\n",
              "      <td>0.004947</td>\n",
              "      <td>0.007256</td>\n",
              "      <td>0.003958</td>\n",
              "      <td>0.008905</td>\n",
              "      <td>0.004617</td>\n",
              "      <td>0.005937</td>\n",
              "      <td>...</td>\n",
              "      <td>0.0</td>\n",
              "      <td>0.0</td>\n",
              "      <td>0.0</td>\n",
              "      <td>0.0</td>\n",
              "      <td>0.0</td>\n",
              "      <td>0.000000</td>\n",
              "      <td>0.0</td>\n",
              "      <td>0.0</td>\n",
              "      <td>0.0</td>\n",
              "      <td>0.0</td>\n",
              "      <td>0.0</td>\n",
              "      <td>0.0</td>\n",
              "      <td>0.000000</td>\n",
              "      <td>0.0</td>\n",
              "      <td>0.0</td>\n",
              "      <td>0.0</td>\n",
              "      <td>0.0</td>\n",
              "      <td>0.00000</td>\n",
              "      <td>0.0</td>\n",
              "      <td>0.000000</td>\n",
              "      <td>0.0</td>\n",
              "      <td>0.000000</td>\n",
              "      <td>0.0</td>\n",
              "      <td>0.0</td>\n",
              "      <td>0.0</td>\n",
              "      <td>0.0</td>\n",
              "      <td>0</td>\n",
              "      <td>0.0</td>\n",
              "      <td>0.0</td>\n",
              "      <td>0.0</td>\n",
              "      <td>0.0</td>\n",
              "      <td>0.0</td>\n",
              "      <td>0.0</td>\n",
              "      <td>0.0</td>\n",
              "      <td>0.0</td>\n",
              "      <td>0.0</td>\n",
              "      <td>0.0</td>\n",
              "      <td>0.0</td>\n",
              "      <td>0.000000</td>\n",
              "      <td>0.0</td>\n",
              "    </tr>\n",
              "    <tr>\n",
              "      <th>4</th>\n",
              "      <td>supergirl</td>\n",
              "      <td>action</td>\n",
              "      <td>1984</td>\n",
              "      <td>4.1</td>\n",
              "      <td>6576</td>\n",
              "      <td>3842</td>\n",
              "      <td>0.041905</td>\n",
              "      <td>0.032275</td>\n",
              "      <td>0.028891</td>\n",
              "      <td>0.026288</td>\n",
              "      <td>0.030193</td>\n",
              "      <td>0.011973</td>\n",
              "      <td>0.014836</td>\n",
              "      <td>0.017439</td>\n",
              "      <td>0.015096</td>\n",
              "      <td>0.013014</td>\n",
              "      <td>0.011192</td>\n",
              "      <td>0.017699</td>\n",
              "      <td>0.011452</td>\n",
              "      <td>0.009370</td>\n",
              "      <td>0.008329</td>\n",
              "      <td>0.009110</td>\n",
              "      <td>0.003123</td>\n",
              "      <td>0.010151</td>\n",
              "      <td>0.007548</td>\n",
              "      <td>0.006247</td>\n",
              "      <td>0.012493</td>\n",
              "      <td>0.010151</td>\n",
              "      <td>0.008589</td>\n",
              "      <td>0.005986</td>\n",
              "      <td>0.006247</td>\n",
              "      <td>0.005986</td>\n",
              "      <td>0.006767</td>\n",
              "      <td>0.008329</td>\n",
              "      <td>0.005726</td>\n",
              "      <td>0.007028</td>\n",
              "      <td>0.005726</td>\n",
              "      <td>0.005726</td>\n",
              "      <td>0.005986</td>\n",
              "      <td>0.005726</td>\n",
              "      <td>...</td>\n",
              "      <td>0.0</td>\n",
              "      <td>0.0</td>\n",
              "      <td>0.0</td>\n",
              "      <td>0.0</td>\n",
              "      <td>0.0</td>\n",
              "      <td>0.000000</td>\n",
              "      <td>0.0</td>\n",
              "      <td>0.0</td>\n",
              "      <td>0.0</td>\n",
              "      <td>0.0</td>\n",
              "      <td>0.0</td>\n",
              "      <td>0.0</td>\n",
              "      <td>0.000000</td>\n",
              "      <td>0.0</td>\n",
              "      <td>0.0</td>\n",
              "      <td>0.0</td>\n",
              "      <td>0.0</td>\n",
              "      <td>0.00026</td>\n",
              "      <td>0.0</td>\n",
              "      <td>0.000000</td>\n",
              "      <td>0.0</td>\n",
              "      <td>0.002082</td>\n",
              "      <td>0.0</td>\n",
              "      <td>0.0</td>\n",
              "      <td>0.0</td>\n",
              "      <td>0.0</td>\n",
              "      <td>0</td>\n",
              "      <td>0.0</td>\n",
              "      <td>0.0</td>\n",
              "      <td>0.0</td>\n",
              "      <td>0.0</td>\n",
              "      <td>0.0</td>\n",
              "      <td>0.0</td>\n",
              "      <td>0.0</td>\n",
              "      <td>0.0</td>\n",
              "      <td>0.0</td>\n",
              "      <td>0.0</td>\n",
              "      <td>0.0</td>\n",
              "      <td>0.000000</td>\n",
              "      <td>0.0</td>\n",
              "    </tr>\n",
              "    <tr>\n",
              "      <th>5</th>\n",
              "      <td>the avengers</td>\n",
              "      <td>action</td>\n",
              "      <td>1998</td>\n",
              "      <td>3.4</td>\n",
              "      <td>21519</td>\n",
              "      <td>3586</td>\n",
              "      <td>0.036810</td>\n",
              "      <td>0.033463</td>\n",
              "      <td>0.024819</td>\n",
              "      <td>0.029002</td>\n",
              "      <td>0.013107</td>\n",
              "      <td>0.009760</td>\n",
              "      <td>0.011991</td>\n",
              "      <td>0.017289</td>\n",
              "      <td>0.013385</td>\n",
              "      <td>0.007250</td>\n",
              "      <td>0.013664</td>\n",
              "      <td>0.011433</td>\n",
              "      <td>0.007529</td>\n",
              "      <td>0.004183</td>\n",
              "      <td>0.008924</td>\n",
              "      <td>0.005298</td>\n",
              "      <td>0.007529</td>\n",
              "      <td>0.008366</td>\n",
              "      <td>0.005298</td>\n",
              "      <td>0.005020</td>\n",
              "      <td>0.008924</td>\n",
              "      <td>0.010597</td>\n",
              "      <td>0.007529</td>\n",
              "      <td>0.007529</td>\n",
              "      <td>0.006414</td>\n",
              "      <td>0.005577</td>\n",
              "      <td>0.002510</td>\n",
              "      <td>0.006414</td>\n",
              "      <td>0.011433</td>\n",
              "      <td>0.007250</td>\n",
              "      <td>0.003067</td>\n",
              "      <td>0.005856</td>\n",
              "      <td>0.003904</td>\n",
              "      <td>0.002510</td>\n",
              "      <td>...</td>\n",
              "      <td>0.0</td>\n",
              "      <td>0.0</td>\n",
              "      <td>0.0</td>\n",
              "      <td>0.0</td>\n",
              "      <td>0.0</td>\n",
              "      <td>0.000000</td>\n",
              "      <td>0.0</td>\n",
              "      <td>0.0</td>\n",
              "      <td>0.0</td>\n",
              "      <td>0.0</td>\n",
              "      <td>0.0</td>\n",
              "      <td>0.0</td>\n",
              "      <td>0.000000</td>\n",
              "      <td>0.0</td>\n",
              "      <td>0.0</td>\n",
              "      <td>0.0</td>\n",
              "      <td>0.0</td>\n",
              "      <td>0.00000</td>\n",
              "      <td>0.0</td>\n",
              "      <td>0.000000</td>\n",
              "      <td>0.0</td>\n",
              "      <td>0.000000</td>\n",
              "      <td>0.0</td>\n",
              "      <td>0.0</td>\n",
              "      <td>0.0</td>\n",
              "      <td>0.0</td>\n",
              "      <td>0</td>\n",
              "      <td>0.0</td>\n",
              "      <td>0.0</td>\n",
              "      <td>0.0</td>\n",
              "      <td>0.0</td>\n",
              "      <td>0.0</td>\n",
              "      <td>0.0</td>\n",
              "      <td>0.0</td>\n",
              "      <td>0.0</td>\n",
              "      <td>0.0</td>\n",
              "      <td>0.0</td>\n",
              "      <td>0.0</td>\n",
              "      <td>0.000279</td>\n",
              "      <td>0.0</td>\n",
              "    </tr>\n",
              "    <tr>\n",
              "      <th>6</th>\n",
              "      <td>natural born killers</td>\n",
              "      <td>action</td>\n",
              "      <td>1994</td>\n",
              "      <td>7.1</td>\n",
              "      <td>73047</td>\n",
              "      <td>5129</td>\n",
              "      <td>0.028271</td>\n",
              "      <td>0.047378</td>\n",
              "      <td>0.022032</td>\n",
              "      <td>0.027296</td>\n",
              "      <td>0.019887</td>\n",
              "      <td>0.021837</td>\n",
              "      <td>0.018327</td>\n",
              "      <td>0.016572</td>\n",
              "      <td>0.012088</td>\n",
              "      <td>0.012673</td>\n",
              "      <td>0.013063</td>\n",
              "      <td>0.007409</td>\n",
              "      <td>0.009748</td>\n",
              "      <td>0.009554</td>\n",
              "      <td>0.009359</td>\n",
              "      <td>0.005069</td>\n",
              "      <td>0.002730</td>\n",
              "      <td>0.007409</td>\n",
              "      <td>0.007604</td>\n",
              "      <td>0.004289</td>\n",
              "      <td>0.005654</td>\n",
              "      <td>0.006044</td>\n",
              "      <td>0.004874</td>\n",
              "      <td>0.013063</td>\n",
              "      <td>0.005264</td>\n",
              "      <td>0.008969</td>\n",
              "      <td>0.003899</td>\n",
              "      <td>0.005069</td>\n",
              "      <td>0.008189</td>\n",
              "      <td>0.005069</td>\n",
              "      <td>0.007019</td>\n",
              "      <td>0.005264</td>\n",
              "      <td>0.005069</td>\n",
              "      <td>0.004484</td>\n",
              "      <td>...</td>\n",
              "      <td>0.0</td>\n",
              "      <td>0.0</td>\n",
              "      <td>0.0</td>\n",
              "      <td>0.0</td>\n",
              "      <td>0.0</td>\n",
              "      <td>0.000000</td>\n",
              "      <td>0.0</td>\n",
              "      <td>0.0</td>\n",
              "      <td>0.0</td>\n",
              "      <td>0.0</td>\n",
              "      <td>0.0</td>\n",
              "      <td>0.0</td>\n",
              "      <td>0.000000</td>\n",
              "      <td>0.0</td>\n",
              "      <td>0.0</td>\n",
              "      <td>0.0</td>\n",
              "      <td>0.0</td>\n",
              "      <td>0.00000</td>\n",
              "      <td>0.0</td>\n",
              "      <td>0.000000</td>\n",
              "      <td>0.0</td>\n",
              "      <td>0.000000</td>\n",
              "      <td>0.0</td>\n",
              "      <td>0.0</td>\n",
              "      <td>0.0</td>\n",
              "      <td>0.0</td>\n",
              "      <td>0</td>\n",
              "      <td>0.0</td>\n",
              "      <td>0.0</td>\n",
              "      <td>0.0</td>\n",
              "      <td>0.0</td>\n",
              "      <td>0.0</td>\n",
              "      <td>0.0</td>\n",
              "      <td>0.0</td>\n",
              "      <td>0.0</td>\n",
              "      <td>0.0</td>\n",
              "      <td>0.0</td>\n",
              "      <td>0.0</td>\n",
              "      <td>0.000000</td>\n",
              "      <td>0.0</td>\n",
              "    </tr>\n",
              "    <tr>\n",
              "      <th>7</th>\n",
              "      <td>airplane ii: the sequel</td>\n",
              "      <td>romance</td>\n",
              "      <td>1982</td>\n",
              "      <td>5.8</td>\n",
              "      <td>15210</td>\n",
              "      <td>2328</td>\n",
              "      <td>0.027921</td>\n",
              "      <td>0.048969</td>\n",
              "      <td>0.035223</td>\n",
              "      <td>0.025773</td>\n",
              "      <td>0.022337</td>\n",
              "      <td>0.015893</td>\n",
              "      <td>0.021907</td>\n",
              "      <td>0.009880</td>\n",
              "      <td>0.012887</td>\n",
              "      <td>0.012887</td>\n",
              "      <td>0.013316</td>\n",
              "      <td>0.006873</td>\n",
              "      <td>0.009880</td>\n",
              "      <td>0.005155</td>\n",
              "      <td>0.014175</td>\n",
              "      <td>0.007302</td>\n",
              "      <td>0.007732</td>\n",
              "      <td>0.006873</td>\n",
              "      <td>0.009450</td>\n",
              "      <td>0.006014</td>\n",
              "      <td>0.012887</td>\n",
              "      <td>0.009021</td>\n",
              "      <td>0.003436</td>\n",
              "      <td>0.009021</td>\n",
              "      <td>0.006014</td>\n",
              "      <td>0.012027</td>\n",
              "      <td>0.008591</td>\n",
              "      <td>0.006873</td>\n",
              "      <td>0.006014</td>\n",
              "      <td>0.004296</td>\n",
              "      <td>0.007732</td>\n",
              "      <td>0.004725</td>\n",
              "      <td>0.005155</td>\n",
              "      <td>0.008162</td>\n",
              "      <td>...</td>\n",
              "      <td>0.0</td>\n",
              "      <td>0.0</td>\n",
              "      <td>0.0</td>\n",
              "      <td>0.0</td>\n",
              "      <td>0.0</td>\n",
              "      <td>0.000000</td>\n",
              "      <td>0.0</td>\n",
              "      <td>0.0</td>\n",
              "      <td>0.0</td>\n",
              "      <td>0.0</td>\n",
              "      <td>0.0</td>\n",
              "      <td>0.0</td>\n",
              "      <td>0.000000</td>\n",
              "      <td>0.0</td>\n",
              "      <td>0.0</td>\n",
              "      <td>0.0</td>\n",
              "      <td>0.0</td>\n",
              "      <td>0.00000</td>\n",
              "      <td>0.0</td>\n",
              "      <td>0.000000</td>\n",
              "      <td>0.0</td>\n",
              "      <td>0.000000</td>\n",
              "      <td>0.0</td>\n",
              "      <td>0.0</td>\n",
              "      <td>0.0</td>\n",
              "      <td>0.0</td>\n",
              "      <td>0</td>\n",
              "      <td>0.0</td>\n",
              "      <td>0.0</td>\n",
              "      <td>0.0</td>\n",
              "      <td>0.0</td>\n",
              "      <td>0.0</td>\n",
              "      <td>0.0</td>\n",
              "      <td>0.0</td>\n",
              "      <td>0.0</td>\n",
              "      <td>0.0</td>\n",
              "      <td>0.0</td>\n",
              "      <td>0.0</td>\n",
              "      <td>0.000000</td>\n",
              "      <td>0.0</td>\n",
              "    </tr>\n",
              "    <tr>\n",
              "      <th>8</th>\n",
              "      <td>willow</td>\n",
              "      <td>romance</td>\n",
              "      <td>1988</td>\n",
              "      <td>7.1</td>\n",
              "      <td>33506</td>\n",
              "      <td>2006</td>\n",
              "      <td>0.038883</td>\n",
              "      <td>0.028913</td>\n",
              "      <td>0.030409</td>\n",
              "      <td>0.030409</td>\n",
              "      <td>0.016451</td>\n",
              "      <td>0.011466</td>\n",
              "      <td>0.012463</td>\n",
              "      <td>0.018445</td>\n",
              "      <td>0.023430</td>\n",
              "      <td>0.010967</td>\n",
              "      <td>0.009970</td>\n",
              "      <td>0.014457</td>\n",
              "      <td>0.011466</td>\n",
              "      <td>0.009472</td>\n",
              "      <td>0.017946</td>\n",
              "      <td>0.008475</td>\n",
              "      <td>0.002493</td>\n",
              "      <td>0.005484</td>\n",
              "      <td>0.009472</td>\n",
              "      <td>0.006979</td>\n",
              "      <td>0.005982</td>\n",
              "      <td>0.007976</td>\n",
              "      <td>0.007478</td>\n",
              "      <td>0.004487</td>\n",
              "      <td>0.008973</td>\n",
              "      <td>0.007478</td>\n",
              "      <td>0.009970</td>\n",
              "      <td>0.005982</td>\n",
              "      <td>0.003490</td>\n",
              "      <td>0.006481</td>\n",
              "      <td>0.002991</td>\n",
              "      <td>0.009970</td>\n",
              "      <td>0.005982</td>\n",
              "      <td>0.002493</td>\n",
              "      <td>...</td>\n",
              "      <td>0.0</td>\n",
              "      <td>0.0</td>\n",
              "      <td>0.0</td>\n",
              "      <td>0.0</td>\n",
              "      <td>0.0</td>\n",
              "      <td>0.000997</td>\n",
              "      <td>0.0</td>\n",
              "      <td>0.0</td>\n",
              "      <td>0.0</td>\n",
              "      <td>0.0</td>\n",
              "      <td>0.0</td>\n",
              "      <td>0.0</td>\n",
              "      <td>0.000000</td>\n",
              "      <td>0.0</td>\n",
              "      <td>0.0</td>\n",
              "      <td>0.0</td>\n",
              "      <td>0.0</td>\n",
              "      <td>0.00000</td>\n",
              "      <td>0.0</td>\n",
              "      <td>0.000000</td>\n",
              "      <td>0.0</td>\n",
              "      <td>0.000000</td>\n",
              "      <td>0.0</td>\n",
              "      <td>0.0</td>\n",
              "      <td>0.0</td>\n",
              "      <td>0.0</td>\n",
              "      <td>0</td>\n",
              "      <td>0.0</td>\n",
              "      <td>0.0</td>\n",
              "      <td>0.0</td>\n",
              "      <td>0.0</td>\n",
              "      <td>0.0</td>\n",
              "      <td>0.0</td>\n",
              "      <td>0.0</td>\n",
              "      <td>0.0</td>\n",
              "      <td>0.0</td>\n",
              "      <td>0.0</td>\n",
              "      <td>0.0</td>\n",
              "      <td>0.000000</td>\n",
              "      <td>0.0</td>\n",
              "    </tr>\n",
              "    <tr>\n",
              "      <th>9</th>\n",
              "      <td>fast times at ridgemont high</td>\n",
              "      <td>romance</td>\n",
              "      <td>1982</td>\n",
              "      <td>7.2</td>\n",
              "      <td>31710</td>\n",
              "      <td>4703</td>\n",
              "      <td>0.047629</td>\n",
              "      <td>0.027217</td>\n",
              "      <td>0.030619</td>\n",
              "      <td>0.018711</td>\n",
              "      <td>0.027429</td>\n",
              "      <td>0.015309</td>\n",
              "      <td>0.014884</td>\n",
              "      <td>0.010419</td>\n",
              "      <td>0.015947</td>\n",
              "      <td>0.014034</td>\n",
              "      <td>0.009994</td>\n",
              "      <td>0.010206</td>\n",
              "      <td>0.012120</td>\n",
              "      <td>0.016373</td>\n",
              "      <td>0.010206</td>\n",
              "      <td>0.013183</td>\n",
              "      <td>0.009568</td>\n",
              "      <td>0.008718</td>\n",
              "      <td>0.007655</td>\n",
              "      <td>0.011482</td>\n",
              "      <td>0.010206</td>\n",
              "      <td>0.005103</td>\n",
              "      <td>0.009143</td>\n",
              "      <td>0.002977</td>\n",
              "      <td>0.004040</td>\n",
              "      <td>0.006592</td>\n",
              "      <td>0.008930</td>\n",
              "      <td>0.005741</td>\n",
              "      <td>0.003615</td>\n",
              "      <td>0.004040</td>\n",
              "      <td>0.004890</td>\n",
              "      <td>0.007017</td>\n",
              "      <td>0.007442</td>\n",
              "      <td>0.009356</td>\n",
              "      <td>...</td>\n",
              "      <td>0.0</td>\n",
              "      <td>0.0</td>\n",
              "      <td>0.0</td>\n",
              "      <td>0.0</td>\n",
              "      <td>0.0</td>\n",
              "      <td>0.000000</td>\n",
              "      <td>0.0</td>\n",
              "      <td>0.0</td>\n",
              "      <td>0.0</td>\n",
              "      <td>0.0</td>\n",
              "      <td>0.0</td>\n",
              "      <td>0.0</td>\n",
              "      <td>0.000000</td>\n",
              "      <td>0.0</td>\n",
              "      <td>0.0</td>\n",
              "      <td>0.0</td>\n",
              "      <td>0.0</td>\n",
              "      <td>0.00000</td>\n",
              "      <td>0.0</td>\n",
              "      <td>0.000000</td>\n",
              "      <td>0.0</td>\n",
              "      <td>0.000000</td>\n",
              "      <td>0.0</td>\n",
              "      <td>0.0</td>\n",
              "      <td>0.0</td>\n",
              "      <td>0.0</td>\n",
              "      <td>0</td>\n",
              "      <td>0.0</td>\n",
              "      <td>0.0</td>\n",
              "      <td>0.0</td>\n",
              "      <td>0.0</td>\n",
              "      <td>0.0</td>\n",
              "      <td>0.0</td>\n",
              "      <td>0.0</td>\n",
              "      <td>0.0</td>\n",
              "      <td>0.0</td>\n",
              "      <td>0.0</td>\n",
              "      <td>0.0</td>\n",
              "      <td>0.000000</td>\n",
              "      <td>0.0</td>\n",
              "    </tr>\n",
              "  </tbody>\n",
              "</table>\n",
              "<p>10 rows × 5006 columns</p>\n",
              "</div>"
            ],
            "text/plain": [
              "                          Title    Genre  Year  ...  richter  psychopath  fling\n",
              "0                the terminator   action  1984  ...      0.0    0.000000    0.0\n",
              "1                        batman   action  1989  ...      0.0    0.000000    0.0\n",
              "2           tomorrow never dies   action  1997  ...      0.0    0.000237    0.0\n",
              "3                batman forever   action  1995  ...      0.0    0.000000    0.0\n",
              "4                     supergirl   action  1984  ...      0.0    0.000000    0.0\n",
              "5                  the avengers   action  1998  ...      0.0    0.000279    0.0\n",
              "6          natural born killers   action  1994  ...      0.0    0.000000    0.0\n",
              "7       airplane ii: the sequel  romance  1982  ...      0.0    0.000000    0.0\n",
              "8                        willow  romance  1988  ...      0.0    0.000000    0.0\n",
              "9  fast times at ridgemont high  romance  1982  ...      0.0    0.000000    0.0\n",
              "\n",
              "[10 rows x 5006 columns]"
            ]
          },
          "metadata": {},
          "execution_count": 18
        }
      ]
    },
    {
      "cell_type": "code",
      "metadata": {
        "id": "wyCSzZNFl0uA",
        "colab": {
          "base_uri": "https://localhost:8080/",
          "height": 0
        },
        "outputId": "f34ca4c3-2d42-40dd-a4a4-88ed0402f00c"
      },
      "source": [
        "movies.iloc[125,[0, 1, 2, 3, 4, 5, 10, 30, 5005]]"
      ],
      "execution_count": 19,
      "outputs": [
        {
          "output_type": "execute_result",
          "data": {
            "text/plain": [
              "Title      intolerable cruelty\n",
              "Genre                  romance\n",
              "Year                      2003\n",
              "Rating                     6.4\n",
              "# Votes                  36739\n",
              "# Words                   4586\n",
              "it                   0.0165722\n",
              "not                 0.00850414\n",
              "fling                        0\n",
              "Name: 125, dtype: object"
            ]
          },
          "metadata": {},
          "execution_count": 19
        }
      ]
    },
    {
      "cell_type": "markdown",
      "metadata": {
        "id": "SLDoCL7Jl0uB"
      },
      "source": [
        "The above cell prints a few columns of the row for the action movie *The Matrix*.  The movie contains 3792 words. The word \"it\" appears 115 times, as it makes up a fraction $\\frac{115}{3792} \\approx 0.030327$ of the words in the movie. The word \"not\" appears 33 times, as it makes up a fraction $\\frac{33}{3792} \\approx 0.00870253$ of the words. The word \"fling\" doesn't appear at all.\n",
        "\n",
        "This numerical representation of a body of text, one that describes only the frequencies of individual words, is called a bag-of-words representation. A lot of information is discarded in this representation: the order of the words, the context of each word, who said what, the cast of characters and actors, etc. However, a bag-of-words representation is often used for machine learning applications as a reasonable starting point, because a great deal of information is also retained and expressed in a convenient and compact format. We will investigate whether this representation is sufficient to build an accurate genre classifier."
      ]
    },
    {
      "cell_type": "markdown",
      "metadata": {
        "id": "cNQMRO8-l0uB"
      },
      "source": [
        "All movie titles are unique. The `row_for_title` function provides fast access to the one row for each title. "
      ]
    },
    {
      "cell_type": "code",
      "metadata": {
        "id": "1RJIeDCEl0uB"
      },
      "source": [
        "def row_for_title(title):\n",
        "    \"\"\"Return the row for a title\n",
        "    \n",
        "    \"\"\"\n",
        "    return movies[movies[\"Title\"]==title]"
      ],
      "execution_count": 20,
      "outputs": []
    },
    {
      "cell_type": "markdown",
      "metadata": {
        "id": "gvL-w9HZl0uB"
      },
      "source": [
        "For example, the fastest way to find the frequency of \"hey\" in the movie *The Terminator* is to access the `'hey'` item from its row. Check the original table to see if this worked for you!"
      ]
    },
    {
      "cell_type": "code",
      "metadata": {
        "id": "KPGcjOwRl0uB",
        "colab": {
          "base_uri": "https://localhost:8080/",
          "height": 0
        },
        "outputId": "ff854d79-f10a-44df-bd4c-6f0b90a2c5c0"
      },
      "source": [
        "row_for_title('the terminator')[\"hey\"].item()"
      ],
      "execution_count": 21,
      "outputs": [
        {
          "output_type": "execute_result",
          "data": {
            "text/plain": [
              "0.000540833"
            ]
          },
          "metadata": {},
          "execution_count": 21
        }
      ]
    },
    {
      "cell_type": "markdown",
      "metadata": {
        "id": "cpD8SPbyl0uC"
      },
      "source": [
        "This dataset was extracted from [a dataset from Cornell University](http://www.cs.cornell.edu/~cristian/Cornell_Movie-Dialogs_Corpus.html). After transforming the dataset (e.g., converting the words to lowercase, removing profanity, and converting the counts to frequencies), this new dataset was created containing the frequency of 5000 common words in each movie."
      ]
    },
    {
      "cell_type": "code",
      "metadata": {
        "colab": {
          "base_uri": "https://localhost:8080/",
          "height": 0
        },
        "id": "7T5FUYAKaK-E",
        "outputId": "7ffa9216-3d57-4382-8013-e9a2402c6931"
      },
      "source": [
        "np.arange(6)\n"
      ],
      "execution_count": 22,
      "outputs": [
        {
          "output_type": "execute_result",
          "data": {
            "text/plain": [
              "array([0, 1, 2, 3, 4, 5])"
            ]
          },
          "metadata": {},
          "execution_count": 22
        }
      ]
    },
    {
      "cell_type": "code",
      "metadata": {
        "id": "pivF4SADl0uC",
        "colab": {
          "base_uri": "https://localhost:8080/",
          "height": 0
        },
        "outputId": "bd690eae-e05f-4928-ddec-52625170ba3b"
      },
      "source": [
        "print('Words with frequencies:', len(movies.drop(movies.columns[np.arange(6)],axis=1).columns)) \n",
        "print('Movies with genres:', len(movies))"
      ],
      "execution_count": 23,
      "outputs": [
        {
          "output_type": "stream",
          "name": "stdout",
          "text": [
            "Words with frequencies: 5000\n",
            "Movies with genres: 236\n"
          ]
        }
      ]
    },
    {
      "cell_type": "markdown",
      "metadata": {
        "id": "EJk7d9nal0uD"
      },
      "source": [
        "**Word Stemming**\n",
        "\n",
        "The columns other than \"Title\", \"Genre\", \"Year\", \"Rating\", \"# Votes\" and \"# Words\" in the `movies` table are all words that appear in some of the movies in our dataset.  These words have been *stemmed*, or abbreviated heuristically, in an attempt to make different [inflected](https://en.wikipedia.org/wiki/Inflection) forms of the same base word into the same string.  For example, the column \"manag\" is the sum of proportions of the words \"manage\", \"manager\", \"managed\", and \"managerial\" (and perhaps others) in each movie. This is a common technique used in machine learning and natural language processing.\n",
        "\n",
        "Stemming makes it a little tricky to search for the words you want to use, so we have provided another table that will let you see examples of unstemmed versions of each stemmed word.  Run the code below to load it."
      ]
    },
    {
      "cell_type": "code",
      "metadata": {
        "id": "7gWsoZ6Ql0uD",
        "colab": {
          "base_uri": "https://localhost:8080/",
          "height": 359
        },
        "outputId": "ab850559-961f-40c1-853b-22daef2872ee"
      },
      "source": [
        "# Just run this cell.\n",
        "vocab_mapping = pd.read_csv('https://raw.githubusercontent.com/YData123/sds265-fa21/main/assignments/assn1/stem.csv')\n",
        "stemmed = list(movies.drop(movies.columns[np.arange(6)],axis=1).columns)\n",
        "#print(len(stemmed))\n",
        "vocab_table = vocab_mapping[vocab_mapping[\"Stem\"].isin(stemmed)]\n",
        "vocab_table = vocab_table.sort_values('Stem')\n",
        "vocab_table.iloc[np.arange(2000, 2010)]\n"
      ],
      "execution_count": 24,
      "outputs": [
        {
          "output_type": "execute_result",
          "data": {
            "text/html": [
              "<div>\n",
              "<style scoped>\n",
              "    .dataframe tbody tr th:only-of-type {\n",
              "        vertical-align: middle;\n",
              "    }\n",
              "\n",
              "    .dataframe tbody tr th {\n",
              "        vertical-align: top;\n",
              "    }\n",
              "\n",
              "    .dataframe thead th {\n",
              "        text-align: right;\n",
              "    }\n",
              "</style>\n",
              "<table border=\"1\" class=\"dataframe\">\n",
              "  <thead>\n",
              "    <tr style=\"text-align: right;\">\n",
              "      <th></th>\n",
              "      <th>Stem</th>\n",
              "      <th>Word</th>\n",
              "    </tr>\n",
              "  </thead>\n",
              "  <tbody>\n",
              "    <tr>\n",
              "      <th>25957</th>\n",
              "      <td>coloni</td>\n",
              "      <td>colonial</td>\n",
              "    </tr>\n",
              "    <tr>\n",
              "      <th>10851</th>\n",
              "      <td>coloni</td>\n",
              "      <td>colony</td>\n",
              "    </tr>\n",
              "    <tr>\n",
              "      <th>32608</th>\n",
              "      <td>coloni</td>\n",
              "      <td>colonies</td>\n",
              "    </tr>\n",
              "    <tr>\n",
              "      <th>2245</th>\n",
              "      <td>coloni</td>\n",
              "      <td>colonys</td>\n",
              "    </tr>\n",
              "    <tr>\n",
              "      <th>12087</th>\n",
              "      <td>columbia</td>\n",
              "      <td>columbia</td>\n",
              "    </tr>\n",
              "    <tr>\n",
              "      <th>37766</th>\n",
              "      <td>columbia</td>\n",
              "      <td>columbias</td>\n",
              "    </tr>\n",
              "    <tr>\n",
              "      <th>19615</th>\n",
              "      <td>column</td>\n",
              "      <td>column</td>\n",
              "    </tr>\n",
              "    <tr>\n",
              "      <th>1523</th>\n",
              "      <td>column</td>\n",
              "      <td>columns</td>\n",
              "    </tr>\n",
              "    <tr>\n",
              "      <th>12629</th>\n",
              "      <td>com</td>\n",
              "      <td>com</td>\n",
              "    </tr>\n",
              "    <tr>\n",
              "      <th>38458</th>\n",
              "      <td>coma</td>\n",
              "      <td>coma</td>\n",
              "    </tr>\n",
              "  </tbody>\n",
              "</table>\n",
              "</div>"
            ],
            "text/plain": [
              "           Stem       Word\n",
              "25957    coloni   colonial\n",
              "10851    coloni     colony\n",
              "32608    coloni   colonies\n",
              "2245     coloni    colonys\n",
              "12087  columbia   columbia\n",
              "37766  columbia  columbias\n",
              "19615    column     column\n",
              "1523     column    columns\n",
              "12629       com        com\n",
              "38458      coma       coma"
            ]
          },
          "metadata": {},
          "execution_count": 24
        }
      ]
    },
    {
      "cell_type": "markdown",
      "metadata": {
        "id": "nxsexYI4l0uE"
      },
      "source": [
        "### Problem 2.1.a:\n",
        "\n",
        "Assign `stemmed_alternating` to the stemmed version of the word \"alternating\"."
      ]
    },
    {
      "cell_type": "code",
      "metadata": {
        "id": "lSQlJp4al0uE",
        "colab": {
          "base_uri": "https://localhost:8080/",
          "height": 0
        },
        "outputId": "4dec74b7-b33f-40ee-86ec-a2462b9bae3c"
      },
      "source": [
        "# Set stemmed_alternating to the stemmed version of \"alternating\" (which\n",
        "# should be a string).  Use vocab_table.\n",
        "str_req = 'alternating'\n",
        "stemmed_alternating = vocab_table[vocab_table['Word'] == str_req]['Stem']\n",
        "stemmed_alternating"
      ],
      "execution_count": 25,
      "outputs": [
        {
          "output_type": "execute_result",
          "data": {
            "text/plain": [
              "2415    altern\n",
              "Name: Stem, dtype: object"
            ]
          },
          "metadata": {},
          "execution_count": 25
        }
      ]
    },
    {
      "cell_type": "markdown",
      "metadata": {
        "id": "_bPIPLP4l0uF"
      },
      "source": [
        "### Problem 2.1.b:\n",
        "\n",
        "Assign `unstemmed_run` to an array of words in `vocab_table` that have \"run\" as its stemmed form. "
      ]
    },
    {
      "cell_type": "code",
      "metadata": {
        "id": "WOTWRPaql0uF",
        "colab": {
          "base_uri": "https://localhost:8080/",
          "height": 0
        },
        "outputId": "bf127bf4-dd15-48ce-db7f-5338f56abd15"
      },
      "source": [
        "# Set unstemmed_run to the unstemmed versions of \"run\" (which\n",
        "# should be an array of string).\n",
        "str_req = 'run'\n",
        "unstemmed_run = vocab_table[vocab_table['Stem'] == str_req]['Word']\n",
        "unstemmed_run"
      ],
      "execution_count": 26,
      "outputs": [
        {
          "output_type": "execute_result",
          "data": {
            "text/plain": [
              "5448          run\n",
              "2719         runs\n",
              "4571      running\n",
              "37194    runnings\n",
              "19975      runned\n",
              "Name: Word, dtype: object"
            ]
          },
          "metadata": {},
          "execution_count": 26
        }
      ]
    },
    {
      "cell_type": "markdown",
      "metadata": {
        "id": "W5ZEFjB9l0uG"
      },
      "source": [
        "**Splitting the dataset**\n",
        "\n",
        "We're going to use our `movies` dataset for two purposes.\n",
        "\n",
        "1. First, we want to *train* a movie genre classifier.\n",
        "2. Second, we want to *test* the performance of the classifier.\n",
        "\n",
        "So, we need two different datasets: *training* and *test*.\n",
        "\n",
        "The purpose of a classifier is to classify unseen data that is similar to the training data. Therefore, we must ensure that there are no movies that appear in both sets. We do so by splitting the dataset randomly. The dataset has already been permuted randomly, so it's easy to split.  We just take the top for training and the rest for test. \n",
        "\n",
        "Run the code below (without changing it) to separate the datasets into two tables."
      ]
    },
    {
      "cell_type": "code",
      "metadata": {
        "id": "1Gjnc-0el0uG",
        "colab": {
          "base_uri": "https://localhost:8080/",
          "height": 0
        },
        "outputId": "116ca78e-27eb-4560-9af1-fb478e8119eb"
      },
      "source": [
        "# Here we have defined the proportion of our data\n",
        "# that we want to designate for training as 17/20ths\n",
        "# of our total dataset.  3/20ths of the data is\n",
        "# reserved for testing.\n",
        "\n",
        "training_proportion = 17/20\n",
        "\n",
        "num_movies = len(movies) #Number of movies in the dataset\n",
        "num_train = int(num_movies * training_proportion) #Number of movies in the training dataset\n",
        "num_test = num_movies - num_train #Number of movies in the test dataset\n",
        "\n",
        "train_movies = movies.iloc[np.arange(num_train)]\n",
        "test_movies = movies.iloc[np.arange(num_train, num_movies)]\n",
        "\n",
        "print(\"Training: \",   len(train_movies), \";\",\n",
        "      \"Test: \",       len(test_movies))"
      ],
      "execution_count": 27,
      "outputs": [
        {
          "output_type": "stream",
          "name": "stdout",
          "text": [
            "Training:  200 ; Test:  36\n"
          ]
        }
      ]
    },
    {
      "cell_type": "markdown",
      "metadata": {
        "id": "1BpvsYcXl0uG"
      },
      "source": [
        "### Problem 2.1.c:\n",
        "\n",
        "Draw a horizontal bar chart with two bars that show the proportion of Action movies in each dataset.  Complete the function `action_proportion` first; it should help you create the bar chart."
      ]
    },
    {
      "cell_type": "code",
      "metadata": {
        "id": "P1PKi1Fal0uG",
        "colab": {
          "base_uri": "https://localhost:8080/",
          "height": 417
        },
        "outputId": "c356ca59-752b-4994-eeb2-3f99e0763804"
      },
      "source": [
        "def action_proportion(input_df):\n",
        "    \"\"\"Return the proportion of movies in a table that have the Action genre.\"\"\"\n",
        "    n_movies = input_df.shape[0]\n",
        "    n_act_movies = input_df[input_df['Genre'] == 'action'].shape[0]\n",
        "\n",
        "    return n_act_movies/n_movies\n",
        "\n",
        "fig = go.Figure()\n",
        "fig.add_trace(go.Bar(y = ['Train', 'Test'], x = [action_proportion(train_movies), action_proportion(test_movies)], orientation='h'))\n",
        "fig.update_layout(title='Proportion of Action genre movies', xaxis_title='Proportion',yaxis_title='Type of Dataset', width = 600, height = 400)\n",
        "fig.show()"
      ],
      "execution_count": 28,
      "outputs": [
        {
          "output_type": "display_data",
          "data": {
            "text/html": [
              "<html>\n",
              "<head><meta charset=\"utf-8\" /></head>\n",
              "<body>\n",
              "    <div>\n",
              "            <script src=\"https://cdnjs.cloudflare.com/ajax/libs/mathjax/2.7.5/MathJax.js?config=TeX-AMS-MML_SVG\"></script><script type=\"text/javascript\">if (window.MathJax) {MathJax.Hub.Config({SVG: {font: \"STIX-Web\"}});}</script>\n",
              "                <script type=\"text/javascript\">window.PlotlyConfig = {MathJaxConfig: 'local'};</script>\n",
              "        <script src=\"https://cdn.plot.ly/plotly-latest.min.js\"></script>    \n",
              "            <div id=\"a9d984c4-9082-428f-a4ff-ccd78a8f75ec\" class=\"plotly-graph-div\" style=\"height:400px; width:600px;\"></div>\n",
              "            <script type=\"text/javascript\">\n",
              "                \n",
              "                    window.PLOTLYENV=window.PLOTLYENV || {};\n",
              "                    \n",
              "                if (document.getElementById(\"a9d984c4-9082-428f-a4ff-ccd78a8f75ec\")) {\n",
              "                    Plotly.newPlot(\n",
              "                        'a9d984c4-9082-428f-a4ff-ccd78a8f75ec',\n",
              "                        [{\"orientation\": \"h\", \"type\": \"bar\", \"x\": [0.56, 0.5555555555555556], \"y\": [\"Train\", \"Test\"]}],\n",
              "                        {\"height\": 400, \"template\": {\"data\": {\"bar\": [{\"error_x\": {\"color\": \"#2a3f5f\"}, \"error_y\": {\"color\": \"#2a3f5f\"}, \"marker\": {\"line\": {\"color\": \"#E5ECF6\", \"width\": 0.5}}, \"type\": \"bar\"}], \"barpolar\": [{\"marker\": {\"line\": {\"color\": \"#E5ECF6\", \"width\": 0.5}}, \"type\": \"barpolar\"}], \"carpet\": [{\"aaxis\": {\"endlinecolor\": \"#2a3f5f\", \"gridcolor\": \"white\", \"linecolor\": \"white\", \"minorgridcolor\": \"white\", \"startlinecolor\": \"#2a3f5f\"}, \"baxis\": {\"endlinecolor\": \"#2a3f5f\", \"gridcolor\": \"white\", \"linecolor\": \"white\", \"minorgridcolor\": \"white\", \"startlinecolor\": \"#2a3f5f\"}, \"type\": \"carpet\"}], \"choropleth\": [{\"colorbar\": {\"outlinewidth\": 0, \"ticks\": \"\"}, \"type\": \"choropleth\"}], \"contour\": [{\"colorbar\": {\"outlinewidth\": 0, \"ticks\": \"\"}, \"colorscale\": [[0.0, \"#0d0887\"], [0.1111111111111111, \"#46039f\"], [0.2222222222222222, \"#7201a8\"], [0.3333333333333333, \"#9c179e\"], [0.4444444444444444, \"#bd3786\"], [0.5555555555555556, \"#d8576b\"], [0.6666666666666666, \"#ed7953\"], [0.7777777777777778, \"#fb9f3a\"], [0.8888888888888888, \"#fdca26\"], [1.0, \"#f0f921\"]], \"type\": \"contour\"}], \"contourcarpet\": [{\"colorbar\": {\"outlinewidth\": 0, \"ticks\": \"\"}, \"type\": \"contourcarpet\"}], \"heatmap\": [{\"colorbar\": {\"outlinewidth\": 0, \"ticks\": \"\"}, \"colorscale\": [[0.0, \"#0d0887\"], [0.1111111111111111, \"#46039f\"], [0.2222222222222222, \"#7201a8\"], [0.3333333333333333, \"#9c179e\"], [0.4444444444444444, \"#bd3786\"], [0.5555555555555556, \"#d8576b\"], [0.6666666666666666, \"#ed7953\"], [0.7777777777777778, \"#fb9f3a\"], [0.8888888888888888, \"#fdca26\"], [1.0, \"#f0f921\"]], \"type\": \"heatmap\"}], \"heatmapgl\": [{\"colorbar\": {\"outlinewidth\": 0, \"ticks\": \"\"}, \"colorscale\": [[0.0, \"#0d0887\"], [0.1111111111111111, \"#46039f\"], [0.2222222222222222, \"#7201a8\"], [0.3333333333333333, \"#9c179e\"], [0.4444444444444444, \"#bd3786\"], [0.5555555555555556, \"#d8576b\"], [0.6666666666666666, \"#ed7953\"], [0.7777777777777778, \"#fb9f3a\"], [0.8888888888888888, \"#fdca26\"], [1.0, \"#f0f921\"]], \"type\": \"heatmapgl\"}], \"histogram\": [{\"marker\": {\"colorbar\": {\"outlinewidth\": 0, \"ticks\": \"\"}}, \"type\": \"histogram\"}], \"histogram2d\": [{\"colorbar\": {\"outlinewidth\": 0, \"ticks\": \"\"}, \"colorscale\": [[0.0, \"#0d0887\"], [0.1111111111111111, \"#46039f\"], [0.2222222222222222, \"#7201a8\"], [0.3333333333333333, \"#9c179e\"], [0.4444444444444444, \"#bd3786\"], [0.5555555555555556, \"#d8576b\"], [0.6666666666666666, \"#ed7953\"], [0.7777777777777778, \"#fb9f3a\"], [0.8888888888888888, \"#fdca26\"], [1.0, \"#f0f921\"]], \"type\": \"histogram2d\"}], \"histogram2dcontour\": [{\"colorbar\": {\"outlinewidth\": 0, \"ticks\": \"\"}, \"colorscale\": [[0.0, \"#0d0887\"], [0.1111111111111111, \"#46039f\"], [0.2222222222222222, \"#7201a8\"], [0.3333333333333333, \"#9c179e\"], [0.4444444444444444, \"#bd3786\"], [0.5555555555555556, \"#d8576b\"], [0.6666666666666666, \"#ed7953\"], [0.7777777777777778, \"#fb9f3a\"], [0.8888888888888888, \"#fdca26\"], [1.0, \"#f0f921\"]], \"type\": \"histogram2dcontour\"}], \"mesh3d\": [{\"colorbar\": {\"outlinewidth\": 0, \"ticks\": \"\"}, \"type\": \"mesh3d\"}], \"parcoords\": [{\"line\": {\"colorbar\": {\"outlinewidth\": 0, \"ticks\": \"\"}}, \"type\": \"parcoords\"}], \"pie\": [{\"automargin\": true, \"type\": \"pie\"}], \"scatter\": [{\"marker\": {\"colorbar\": {\"outlinewidth\": 0, \"ticks\": \"\"}}, \"type\": \"scatter\"}], \"scatter3d\": [{\"line\": {\"colorbar\": {\"outlinewidth\": 0, \"ticks\": \"\"}}, \"marker\": {\"colorbar\": {\"outlinewidth\": 0, \"ticks\": \"\"}}, \"type\": \"scatter3d\"}], \"scattercarpet\": [{\"marker\": {\"colorbar\": {\"outlinewidth\": 0, \"ticks\": \"\"}}, \"type\": \"scattercarpet\"}], \"scattergeo\": [{\"marker\": {\"colorbar\": {\"outlinewidth\": 0, \"ticks\": \"\"}}, \"type\": \"scattergeo\"}], \"scattergl\": [{\"marker\": {\"colorbar\": {\"outlinewidth\": 0, \"ticks\": \"\"}}, \"type\": \"scattergl\"}], \"scattermapbox\": [{\"marker\": {\"colorbar\": {\"outlinewidth\": 0, \"ticks\": \"\"}}, \"type\": \"scattermapbox\"}], \"scatterpolar\": [{\"marker\": {\"colorbar\": {\"outlinewidth\": 0, \"ticks\": \"\"}}, \"type\": \"scatterpolar\"}], \"scatterpolargl\": [{\"marker\": {\"colorbar\": {\"outlinewidth\": 0, \"ticks\": \"\"}}, \"type\": \"scatterpolargl\"}], \"scatterternary\": [{\"marker\": {\"colorbar\": {\"outlinewidth\": 0, \"ticks\": \"\"}}, \"type\": \"scatterternary\"}], \"surface\": [{\"colorbar\": {\"outlinewidth\": 0, \"ticks\": \"\"}, \"colorscale\": [[0.0, \"#0d0887\"], [0.1111111111111111, \"#46039f\"], [0.2222222222222222, \"#7201a8\"], [0.3333333333333333, \"#9c179e\"], [0.4444444444444444, \"#bd3786\"], [0.5555555555555556, \"#d8576b\"], [0.6666666666666666, \"#ed7953\"], [0.7777777777777778, \"#fb9f3a\"], [0.8888888888888888, \"#fdca26\"], [1.0, \"#f0f921\"]], \"type\": \"surface\"}], \"table\": [{\"cells\": {\"fill\": {\"color\": \"#EBF0F8\"}, \"line\": {\"color\": \"white\"}}, \"header\": {\"fill\": {\"color\": \"#C8D4E3\"}, \"line\": {\"color\": \"white\"}}, \"type\": \"table\"}]}, \"layout\": {\"annotationdefaults\": {\"arrowcolor\": \"#2a3f5f\", \"arrowhead\": 0, \"arrowwidth\": 1}, \"coloraxis\": {\"colorbar\": {\"outlinewidth\": 0, \"ticks\": \"\"}}, \"colorscale\": {\"diverging\": [[0, \"#8e0152\"], [0.1, \"#c51b7d\"], [0.2, \"#de77ae\"], [0.3, \"#f1b6da\"], [0.4, \"#fde0ef\"], [0.5, \"#f7f7f7\"], [0.6, \"#e6f5d0\"], [0.7, \"#b8e186\"], [0.8, \"#7fbc41\"], [0.9, \"#4d9221\"], [1, \"#276419\"]], \"sequential\": [[0.0, \"#0d0887\"], [0.1111111111111111, \"#46039f\"], [0.2222222222222222, \"#7201a8\"], [0.3333333333333333, \"#9c179e\"], [0.4444444444444444, \"#bd3786\"], [0.5555555555555556, \"#d8576b\"], [0.6666666666666666, \"#ed7953\"], [0.7777777777777778, \"#fb9f3a\"], [0.8888888888888888, \"#fdca26\"], [1.0, \"#f0f921\"]], \"sequentialminus\": [[0.0, \"#0d0887\"], [0.1111111111111111, \"#46039f\"], [0.2222222222222222, \"#7201a8\"], [0.3333333333333333, \"#9c179e\"], [0.4444444444444444, \"#bd3786\"], [0.5555555555555556, \"#d8576b\"], [0.6666666666666666, \"#ed7953\"], [0.7777777777777778, \"#fb9f3a\"], [0.8888888888888888, \"#fdca26\"], [1.0, \"#f0f921\"]]}, \"colorway\": [\"#636efa\", \"#EF553B\", \"#00cc96\", \"#ab63fa\", \"#FFA15A\", \"#19d3f3\", \"#FF6692\", \"#B6E880\", \"#FF97FF\", \"#FECB52\"], \"font\": {\"color\": \"#2a3f5f\"}, \"geo\": {\"bgcolor\": \"white\", \"lakecolor\": \"white\", \"landcolor\": \"#E5ECF6\", \"showlakes\": true, \"showland\": true, \"subunitcolor\": \"white\"}, \"hoverlabel\": {\"align\": \"left\"}, \"hovermode\": \"closest\", \"mapbox\": {\"style\": \"light\"}, \"paper_bgcolor\": \"white\", \"plot_bgcolor\": \"#E5ECF6\", \"polar\": {\"angularaxis\": {\"gridcolor\": \"white\", \"linecolor\": \"white\", \"ticks\": \"\"}, \"bgcolor\": \"#E5ECF6\", \"radialaxis\": {\"gridcolor\": \"white\", \"linecolor\": \"white\", \"ticks\": \"\"}}, \"scene\": {\"xaxis\": {\"backgroundcolor\": \"#E5ECF6\", \"gridcolor\": \"white\", \"gridwidth\": 2, \"linecolor\": \"white\", \"showbackground\": true, \"ticks\": \"\", \"zerolinecolor\": \"white\"}, \"yaxis\": {\"backgroundcolor\": \"#E5ECF6\", \"gridcolor\": \"white\", \"gridwidth\": 2, \"linecolor\": \"white\", \"showbackground\": true, \"ticks\": \"\", \"zerolinecolor\": \"white\"}, \"zaxis\": {\"backgroundcolor\": \"#E5ECF6\", \"gridcolor\": \"white\", \"gridwidth\": 2, \"linecolor\": \"white\", \"showbackground\": true, \"ticks\": \"\", \"zerolinecolor\": \"white\"}}, \"shapedefaults\": {\"line\": {\"color\": \"#2a3f5f\"}}, \"ternary\": {\"aaxis\": {\"gridcolor\": \"white\", \"linecolor\": \"white\", \"ticks\": \"\"}, \"baxis\": {\"gridcolor\": \"white\", \"linecolor\": \"white\", \"ticks\": \"\"}, \"bgcolor\": \"#E5ECF6\", \"caxis\": {\"gridcolor\": \"white\", \"linecolor\": \"white\", \"ticks\": \"\"}}, \"title\": {\"x\": 0.05}, \"xaxis\": {\"automargin\": true, \"gridcolor\": \"white\", \"linecolor\": \"white\", \"ticks\": \"\", \"title\": {\"standoff\": 15}, \"zerolinecolor\": \"white\", \"zerolinewidth\": 2}, \"yaxis\": {\"automargin\": true, \"gridcolor\": \"white\", \"linecolor\": \"white\", \"ticks\": \"\", \"title\": {\"standoff\": 15}, \"zerolinecolor\": \"white\", \"zerolinewidth\": 2}}}, \"title\": {\"text\": \"Proportion of Action genre movies\"}, \"width\": 600, \"xaxis\": {\"title\": {\"text\": \"Proportion\"}}, \"yaxis\": {\"title\": {\"text\": \"Type of Dataset\"}}},\n",
              "                        {\"responsive\": true}\n",
              "                    ).then(function(){\n",
              "                            \n",
              "var gd = document.getElementById('a9d984c4-9082-428f-a4ff-ccd78a8f75ec');\n",
              "var x = new MutationObserver(function (mutations, observer) {{\n",
              "        var display = window.getComputedStyle(gd).display;\n",
              "        if (!display || display === 'none') {{\n",
              "            console.log([gd, 'removed!']);\n",
              "            Plotly.purge(gd);\n",
              "            observer.disconnect();\n",
              "        }}\n",
              "}});\n",
              "\n",
              "// Listen for the removal of the full notebook cells\n",
              "var notebookContainer = gd.closest('#notebook-container');\n",
              "if (notebookContainer) {{\n",
              "    x.observe(notebookContainer, {childList: true});\n",
              "}}\n",
              "\n",
              "// Listen for the clearing of the current output cell\n",
              "var outputEl = gd.closest('.output');\n",
              "if (outputEl) {{\n",
              "    x.observe(outputEl, {childList: true});\n",
              "}}\n",
              "\n",
              "                        })\n",
              "                };\n",
              "                \n",
              "            </script>\n",
              "        </div>\n",
              "</body>\n",
              "</html>"
            ]
          },
          "metadata": {}
        }
      ]
    },
    {
      "cell_type": "markdown",
      "metadata": {
        "id": "E_Vhmkr_l0uH"
      },
      "source": [
        "### Part 2. K-Nearest Neighbors: A guided example\n",
        "\n",
        "k-Nearest Neighbors (k-NN) is a classification algorithm.  Given some *attributes* (also called *features*) of an unseen example, it decides whether that example belongs to one or the other of two categories based on its similarity to previously seen examples. Predicting the category of an example is called *labeling*, and the predicted category is also called a *label*.\n",
        "\n",
        "An attribute (feature) we have about each movie is *the proportion of times a particular word appears in the movies*, and the labels are two movie genres: romance and action.  The algorithm requires many previously seen examples for which both the attributes and labels are known: that's the `train_movies` dataframe.\n",
        "\n",
        "To build understanding, we're going to visualize the algorithm instead of just describing it."
      ]
    },
    {
      "cell_type": "markdown",
      "metadata": {
        "id": "nWa1hbGNl0uH"
      },
      "source": [
        "**Classifying a movie**\n",
        "\n",
        "In k-NN, we classify a movie by finding the `k` movies in the *training set* that are most similar according to the features we choose. We call those movies with similar features the *nearest neighbors*.  The k-NN algorithm assigns the movie to the most common category among its `k` nearest neighbors.\n",
        "\n",
        "Let's limit ourselves to just 2 features for now, so we can plot each movie.  The features we will use are the proportions of the words \"money\" and \"feel\" in the movie.  Taking the movie \"Batman Returns\" (in the test set), 0.000502 of its words are \"money\" and 0.004016 are \"feel\". This movie appears in the test set, so let's imagine that we don't yet know its genre.\n",
        "\n",
        "First, we need to make our notion of similarity more precise.  We will say that the *distance* between two movies is the straight-line distance between them when we plot their features in a scatter diagram. This distance is called the Euclidean (\"yoo-KLID-ee-un\") distance, whose formula is $\\sqrt{(x_1 - x_2)^2 + (y_1 - y_2)^2}$.\n",
        "\n",
        "For example, in the movie *Titanic* (in the training set), 0.0009768 of all the words in the movie are \"money\" and 0.0017094 are \"feel\".  Its distance from *Batman Returns* on this 2-word feature set is $$\\sqrt{(0.000502 - 0.0009768)^2 + (0.004016 - 0.0017094)^2} \\approx 0.00235496.$$  (If we included more or different features, the distance could be different.)\n",
        "\n",
        "A third movie, *The Avengers* (in the training set), is 0 \"money\" and 0.001115 \"feel\".\n",
        "\n",
        "The function below creates a plot to display the \"money\" and \"feel\" features of a test movie and some training movies. As you can see in the result, *Batman Returns* is more similar to *Titanic* than to *The Avengers* based on these features. However, we know that *Batman Returns* and *The Avengers* are both action movies, so intuitively we'd expect them to be more similar. Unfortunately, that isn't always the case. We'll discuss this more later."
      ]
    },
    {
      "cell_type": "code",
      "metadata": {
        "id": "JR-C0ZsKl0uK",
        "colab": {
          "base_uri": "https://localhost:8080/",
          "height": 265
        },
        "outputId": "ce6b938a-f968-442d-ed0a-582b79b84c3b"
      },
      "source": [
        "# Just run this cell.\n",
        "def plot_embeddings(M_reduced, word2Ind, words):\n",
        "    \"\"\" \n",
        "        Plot in a scatterplot the embeddings of the words specified in the list \"words\".\n",
        "        Include a label next to each point.\n",
        "    \"\"\"\n",
        "    for word in words:\n",
        "        x, y = M_reduced[word2Ind[word]]\n",
        "        plt.scatter(x, y, marker='x', color='red')\n",
        "        plt.text(x+.03, y+.03, word, fontsize=9)\n",
        "    plt.show()\n",
        "\n",
        "M_reduced_plot_test = np.array([[1, 1], [-1, -1], [1, -1], [-1, 1], [0, 0]])\n",
        "word2Ind_plot_test = {'test1': 0, 'test2': 1, 'test3': 2, 'test4': 3, 'test5': 4}\n",
        "words = ['test1', 'test2', 'test3', 'test4', 'test5']\n",
        "plot_embeddings(M_reduced_plot_test, word2Ind_plot_test, words)"
      ],
      "execution_count": 29,
      "outputs": [
        {
          "output_type": "display_data",
          "data": {
            "image/png": "[encoded data removed]",
            "text/plain": [
              "<Figure size 432x288 with 1 Axes>"
            ]
          },
          "metadata": {
            "needs_background": "light"
          }
        }
      ]
    },
    {
      "cell_type": "code",
      "metadata": {
        "id": "24l68lz2l0uM",
        "colab": {
          "base_uri": "https://localhost:8080/",
          "height": 515
        },
        "outputId": "113d8de2-cee4-477d-92d0-375ff8fa7eee"
      },
      "source": [
        "# Just run this cell.\n",
        "def plot_with_two_features(test_movie, training_movies, x_feature, y_feature):\n",
        "    \"\"\"Plot a test movie and training movies using two features.\"\"\"\n",
        "    test_row = row_for_title(test_movie)\n",
        "    test_x = test_row[x_feature].item()\n",
        "    test_y = test_row[y_feature].item()\n",
        "    plt.scatter(test_x, test_y, s=100)\n",
        "    plt.text(test_x, test_y+.0005, test_movie, fontsize=20)\n",
        "    for movie in training_movies:\n",
        "        row = row_for_title(movie)\n",
        "        train_x = row[x_feature].item()\n",
        "        train_y = row[y_feature].item()\n",
        "        plt.scatter(train_x, train_y, s=100)\n",
        "        plt.text(train_x, train_y+.0005, movie, fontsize=20)\n",
        "    plt.show()\n",
        "    \n",
        "plt.figure(figsize=(12, 8))\n",
        "plt.xlim(-0.0005, 0.002)\n",
        "plt.ylim(-0.001, 0.006)\n",
        "plt.xlabel('money', fontsize=25)\n",
        "plt.ylabel('feel', fontsize=25)\n",
        "\n",
        "training = [\"titanic\", \"the avengers\"]\n",
        "plot_with_two_features(\"batman returns\", training, \"money\", \"feel\")"
      ],
      "execution_count": 30,
      "outputs": [
        {
          "output_type": "display_data",
          "data": {
            "image/png": "[encoded data removed]",
            "text/plain": [
              "<Figure size 864x576 with 1 Axes>"
            ]
          },
          "metadata": {
            "needs_background": "light"
          }
        }
      ]
    },
    {
      "cell_type": "markdown",
      "metadata": {
        "id": "R0rWZYpPl0uN"
      },
      "source": [
        "### Problem 2.2.a:\n",
        "\n",
        "Compute the distance between the two action movies, *Batman Returns* and *The Avengers*, using the `money` and `feel` features only.  Assign it the name `action_distance`.\n",
        "\n",
        "**Note:** If you have a row, you can use `item` to get a value from a column by its name.  For example, if `r` is a row, then `r[\"Genre\"].item()` is the value in column `\"Genre\"` in row `r`.\n",
        "\n",
        "*Hint*: Remember the function `row_for_title`, redefined for you below. "
      ]
    },
    {
      "cell_type": "code",
      "metadata": {
        "id": "SSgg0oJ2l0uN"
      },
      "source": [
        "def row_for_title(title):\n",
        "    \"\"\"Return the row for a title\n",
        "    \n",
        "    \"\"\"\n",
        "    return movies[movies[\"Title\"]==title]"
      ],
      "execution_count": 31,
      "outputs": []
    },
    {
      "cell_type": "code",
      "metadata": {
        "id": "E5hketZPl0uN",
        "colab": {
          "base_uri": "https://localhost:8080/",
          "height": 0
        },
        "outputId": "83e89f13-9e18-434a-da12-9e703ff06816"
      },
      "source": [
        "batman = row_for_title(\"batman returns\") \n",
        "avengers = row_for_title(\"the avengers\") \n",
        "def calc_distance(wordA, wordB, mov1, mov2):\n",
        "  x_feature = wordA\n",
        "  y_feature = wordB\n",
        "  x_dist_sq = (mov1[x_feature].item() - mov2[x_feature].item())**2\n",
        "  y_dist_sq = (mov1[y_feature].item() - mov2[y_feature].item())**2\n",
        "  dist = (x_dist_sq + y_dist_sq) ** (0.5)\n",
        "  return dist\n",
        "action_distance = calc_distance('money', 'feel', batman, avengers)\n",
        "action_distance"
      ],
      "execution_count": 32,
      "outputs": [
        {
          "output_type": "execute_result",
          "data": {
            "text/plain": [
              "0.0029437356216700243"
            ]
          },
          "metadata": {},
          "execution_count": 32
        }
      ]
    },
    {
      "cell_type": "markdown",
      "metadata": {
        "id": "n9-wRKM3l0uO"
      },
      "source": [
        "Below, we've added a third training movie, *The Terminator*. Before, the point closest to *Batman Returns* was *Titanic*, a romance movie. However, now the closest point is *The Terminator*, an action movie."
      ]
    },
    {
      "cell_type": "code",
      "metadata": {
        "id": "4Z4FCFb6l0uO",
        "colab": {
          "base_uri": "https://localhost:8080/",
          "height": 515
        },
        "outputId": "c0072a43-384c-4962-f3ea-4a542c89d170"
      },
      "source": [
        "plt.figure(figsize=(12, 8))\n",
        "plt.xlim(-0.0005, 0.002)\n",
        "plt.ylim(-0.001, 0.006)\n",
        "plt.xlabel('money', fontsize=25)\n",
        "plt.ylabel('feel', fontsize=25)\n",
        "\n",
        "training = [\"the avengers\", \"titanic\", \"the terminator\"] \n",
        "plot_with_two_features(\"batman returns\", training, \"money\", \"feel\") "
      ],
      "execution_count": 33,
      "outputs": [
        {
          "output_type": "display_data",
          "data": {
            "image/png": "[encoded data removed]",
            "text/plain": [
              "<Figure size 864x576 with 1 Axes>"
            ]
          },
          "metadata": {
            "needs_background": "light"
          }
        }
      ]
    },
    {
      "cell_type": "markdown",
      "metadata": {
        "id": "4Ma8Xcj8l0uP"
      },
      "source": [
        "### Problem 2.2.b:\n",
        "\n",
        "Complete the function `distance_two_features` that computes the Euclidean distance between any two movies, using two features. The last two lines call your function to show that *Batman Returns* is closer to *The Terminator* than *The Avengers*. "
      ]
    },
    {
      "cell_type": "code",
      "metadata": {
        "id": "_fJpzyhzl0uP",
        "colab": {
          "base_uri": "https://localhost:8080/",
          "height": 0
        },
        "outputId": "ae459afe-2d42-4db1-e39d-416593e395c8"
      },
      "source": [
        "def distance_two_features(title0, title1, x_feature, y_feature):\n",
        "    \"\"\"Compute the distance between two movies with titles title0 and title1\n",
        "    \n",
        "    Only the features named x_feature and y_feature are used when computing the distance.\n",
        "    \"\"\"\n",
        "    row0 = row_for_title(title0)\n",
        "    row1 = row_for_title(title1)\n",
        "    x_dist_sq = (row1[x_feature].item() - row0[x_feature].item())**2\n",
        "    y_dist_sq = (row1[y_feature].item() - row0[y_feature].item())**2\n",
        "    dist = (x_dist_sq + y_dist_sq) ** (0.5)\n",
        "\n",
        "    return dist\n",
        "\n",
        "for movie in [\"the terminator\", \"the avengers\"]:\n",
        "    movie_distance = distance_two_features(movie, \"batman returns\", \"money\", \"feel\")\n",
        "    print(movie, 'distance:\\t', movie_distance)"
      ],
      "execution_count": 34,
      "outputs": [
        {
          "output_type": "stream",
          "name": "stdout",
          "text": [
            "the terminator distance:\t 0.0018531387547749904\n",
            "the avengers distance:\t 0.0029437356216700243\n"
          ]
        }
      ]
    },
    {
      "cell_type": "markdown",
      "metadata": {
        "id": "H42jUrtxl0uQ"
      },
      "source": [
        "### Problem 2.2.c:\n",
        "\n",
        "Define the function `distance_from_batman_returns` so that it works as described in its documentation.\n",
        "\n",
        "**Note:** Your solution should not use arithmetic operations directly. Instead, it should make use of existing functionality above!"
      ]
    },
    {
      "cell_type": "code",
      "metadata": {
        "id": "9gc7Wk5ul0uQ",
        "colab": {
          "base_uri": "https://localhost:8080/",
          "height": 0
        },
        "outputId": "71e18a9a-cf36-4301-beeb-7d3c58298408"
      },
      "source": [
        "def distance_from_batman_returns(title):\n",
        "    \"\"\"The distance between the given movie and \"batman returns\", based on the features \"money\" and \"feel\".\n",
        "    \n",
        "    This function takes a single argument:\n",
        "      title: A string, the name of a movie.\n",
        "    \"\"\"\n",
        "    dist_batmanret = distance_two_features(title, \"batman returns\", \"money\", \"feel\")\n",
        "    return dist_batmanret\n",
        "\n",
        "#for example, finding distance from \"the terminator\"\n",
        "distance_from_batman_returns(\"the terminator\")"
      ],
      "execution_count": 35,
      "outputs": [
        {
          "output_type": "execute_result",
          "data": {
            "text/plain": [
              "0.0018531387547749904"
            ]
          },
          "metadata": {},
          "execution_count": 35
        }
      ]
    },
    {
      "cell_type": "markdown",
      "metadata": {
        "id": "wNZeEJtel0uQ"
      },
      "source": [
        "### Problem 2.2.d:\n",
        "\n",
        "Using the features `\"money\"` and `\"feel\"`, what are the names and genres of the 7 movies in the **training set** closest to \"batman returns\"?  To answer this question, make a table named `close_movies` containing those 7 movies with columns `\"Title\"`, `\"Genre\"`, `\"money\"`, and `\"feel\"`, as well as a column called `\"distance from batman\"` that contains the distance from \"batman returns\".  The dataframe should be **sorted in ascending order by `distance from batman`**.\n",
        "\n",
        "*Hint*: You may find the function [`insert`](https://pandas.pydata.org/docs/reference/api/pandas.DataFrame.insert.html) useful."
      ]
    },
    {
      "cell_type": "code",
      "metadata": {
        "id": "6M9WiMUNl0uQ",
        "colab": {
          "base_uri": "https://localhost:8080/",
          "height": 402
        },
        "outputId": "5cd23fd4-7b43-4e89-9b6e-becaafe92609"
      },
      "source": [
        "# The sample solution took multiple lines.\n",
        "temp_movies_df = train_movies[[\"Title\", \"Genre\", \"money\", \"feel\"]]\n",
        "temp_movies_df['distance_from_batman'] = temp_movies_df.apply(lambda row: distance_from_batman_returns(row.Title), axis=1)\n",
        "temp_movies_df = temp_movies_df.sort_values(by = 'distance_from_batman')\n",
        "req_n_movies = 7\n",
        "close_movies = temp_movies_df.iloc[np.arange(0, req_n_movies)]\n",
        "close_movies"
      ],
      "execution_count": 36,
      "outputs": [
        {
          "output_type": "stream",
          "name": "stderr",
          "text": [
            "/usr/local/lib/python3.7/dist-packages/ipykernel_launcher.py:3: SettingWithCopyWarning:\n",
            "\n",
            "\n",
            "A value is trying to be set on a copy of a slice from a DataFrame.\n",
            "Try using .loc[row_indexer,col_indexer] = value instead\n",
            "\n",
            "See the caveats in the documentation: https://pandas.pydata.org/pandas-docs/stable/user_guide/indexing.html#returning-a-view-versus-a-copy\n",
            "\n"
          ]
        },
        {
          "output_type": "execute_result",
          "data": {
            "text/html": [
              "<div>\n",
              "<style scoped>\n",
              "    .dataframe tbody tr th:only-of-type {\n",
              "        vertical-align: middle;\n",
              "    }\n",
              "\n",
              "    .dataframe tbody tr th {\n",
              "        vertical-align: top;\n",
              "    }\n",
              "\n",
              "    .dataframe thead th {\n",
              "        text-align: right;\n",
              "    }\n",
              "</style>\n",
              "<table border=\"1\" class=\"dataframe\">\n",
              "  <thead>\n",
              "    <tr style=\"text-align: right;\">\n",
              "      <th></th>\n",
              "      <th>Title</th>\n",
              "      <th>Genre</th>\n",
              "      <th>money</th>\n",
              "      <th>feel</th>\n",
              "      <th>distance_from_batman</th>\n",
              "    </tr>\n",
              "  </thead>\n",
              "  <tbody>\n",
              "    <tr>\n",
              "      <th>61</th>\n",
              "      <td>the bridges of madison county</td>\n",
              "      <td>romance</td>\n",
              "      <td>0.000565</td>\n",
              "      <td>0.004333</td>\n",
              "      <td>0.000323</td>\n",
              "    </tr>\n",
              "    <tr>\n",
              "      <th>199</th>\n",
              "      <td>the fisher king</td>\n",
              "      <td>romance</td>\n",
              "      <td>0.000618</td>\n",
              "      <td>0.003504</td>\n",
              "      <td>0.000525</td>\n",
              "    </tr>\n",
              "    <tr>\n",
              "      <th>81</th>\n",
              "      <td>broadcast news</td>\n",
              "      <td>romance</td>\n",
              "      <td>0.000137</td>\n",
              "      <td>0.003553</td>\n",
              "      <td>0.000590</td>\n",
              "    </tr>\n",
              "    <tr>\n",
              "      <th>24</th>\n",
              "      <td>hellboy</td>\n",
              "      <td>action</td>\n",
              "      <td>0.000000</td>\n",
              "      <td>0.003350</td>\n",
              "      <td>0.000834</td>\n",
              "    </tr>\n",
              "    <tr>\n",
              "      <th>120</th>\n",
              "      <td>as good as it gets</td>\n",
              "      <td>romance</td>\n",
              "      <td>0.000523</td>\n",
              "      <td>0.003139</td>\n",
              "      <td>0.000878</td>\n",
              "    </tr>\n",
              "    <tr>\n",
              "      <th>193</th>\n",
              "      <td>spider-man</td>\n",
              "      <td>action</td>\n",
              "      <td>0.000347</td>\n",
              "      <td>0.003126</td>\n",
              "      <td>0.000903</td>\n",
              "    </tr>\n",
              "    <tr>\n",
              "      <th>111</th>\n",
              "      <td>harold and maude</td>\n",
              "      <td>romance</td>\n",
              "      <td>0.000000</td>\n",
              "      <td>0.003023</td>\n",
              "      <td>0.001112</td>\n",
              "    </tr>\n",
              "  </tbody>\n",
              "</table>\n",
              "</div>"
            ],
            "text/plain": [
              "                             Title    Genre  ...      feel  distance_from_batman\n",
              "61   the bridges of madison county  romance  ...  0.004333              0.000323\n",
              "199                the fisher king  romance  ...  0.003504              0.000525\n",
              "81                  broadcast news  romance  ...  0.003553              0.000590\n",
              "24                         hellboy   action  ...  0.003350              0.000834\n",
              "120             as good as it gets  romance  ...  0.003139              0.000878\n",
              "193                     spider-man   action  ...  0.003126              0.000903\n",
              "111               harold and maude  romance  ...  0.003023              0.001112\n",
              "\n",
              "[7 rows x 5 columns]"
            ]
          },
          "metadata": {},
          "execution_count": 36
        }
      ]
    },
    {
      "cell_type": "markdown",
      "metadata": {
        "id": "UhQaruJSl0uQ"
      },
      "source": [
        "### Problem 2.2.e:\n",
        "\n",
        "Next, we'll classify \"batman returns\" based on the genres of the closest movies. \n",
        "\n",
        "To do so, define the function `most_common` so that it works as described in its documentation below."
      ]
    },
    {
      "cell_type": "code",
      "metadata": {
        "id": "HCNazGKtl0uQ",
        "colab": {
          "base_uri": "https://localhost:8080/",
          "height": 0
        },
        "outputId": "24d4d873-c63e-46ef-910a-51a4df6a9a65"
      },
      "source": [
        "def most_common(label, dataframe):\n",
        "    \"\"\"The most common element in a column of a table.\n",
        "    \n",
        "    This function takes two arguments:\n",
        "      label: The label of a column, a string.\n",
        "      dataframe: A dataframe.\n",
        "     \n",
        "    It returns the most common value in that column of that table.\n",
        "    In case of a tie, it returns any one of the most common values\n",
        "    \"\"\"\n",
        "    genre_list = dataframe[label].to_list()\n",
        "    max_genre = max(genre_list, key = genre_list.count)\n",
        "    return max_genre\n",
        "\n",
        "# Calling most_common on your table of 7 nearest neighbors classifies\n",
        "# \"batman returns\" as a romance movie, 5 votes to 2. \n",
        "most_common('Genre', close_movies)"
      ],
      "execution_count": 37,
      "outputs": [
        {
          "output_type": "execute_result",
          "data": {
            "application/vnd.google.colaboratory.intrinsic+json": {
              "type": "string"
            },
            "text/plain": [
              "'romance'"
            ]
          },
          "metadata": {},
          "execution_count": 37
        }
      ]
    },
    {
      "cell_type": "markdown",
      "metadata": {
        "id": "4SAoqdcnl0uR"
      },
      "source": [
        "Congratulations, you've classified your first movie! However, we can see that the classifier doesn't work too well since it categorized *Batman Returns* as a romance movie. Let's see if we can do better!"
      ]
    },
    {
      "cell_type": "markdown",
      "metadata": {
        "id": "YHb25f-_l0uR"
      },
      "source": [
        "### Part 3. Features\n",
        "\n",
        "Now, we're going to extend our classifier to consider more than two features at a time.\n",
        "\n",
        "Euclidean distance still makes sense with more than two features. For `n` different features, we compute the difference between corresponding feature values for two movies, square each of the `n`  differences, sum up the resulting numbers, and take the square root of the sum."
      ]
    },
    {
      "cell_type": "markdown",
      "metadata": {
        "id": "UEDurIAZl0uR"
      },
      "source": [
        "### Problem 2.3.a:\n",
        "\n",
        "Write a function to compute the Euclidean distance between two **arrays** of features of *arbitrary* (but equal) length.  Use it to compute the distance between the first movie in the training set and the first movie in the test set, *using all of the features*.  (Remember that the first six columns of your tables are not features.)\n",
        "\n",
        "**Note:** To convert rows to arrays, use `np.array`. For example, if `df` was a dataframe, `np.array(df.iloc[i])` converts row i of `df` into an array."
      ]
    },
    {
      "cell_type": "code",
      "metadata": {
        "id": "2nvn5Pg7l0uR",
        "colab": {
          "base_uri": "https://localhost:8080/",
          "height": 0
        },
        "outputId": "ab9b35d0-3cbe-440a-e202-44d760d7f7f5"
      },
      "source": [
        "def distance(features1, features2):\n",
        "    \"\"\"The Euclidean distance between two arrays of feature values.\"\"\"\n",
        "    n = np.min([len(features1), len(features2)])\n",
        "    dist_sq = 0\n",
        "    for i in range(n):\n",
        "      dist_sq += (features1[i] - features2[i]) ** 2\n",
        "\n",
        "    return dist_sq ** 0.5\n",
        "\n",
        "train_mov1 = train_movies.iloc[0][6:1006].to_list()\n",
        "test_mov1 = test_movies.iloc[0][6:1006].to_list()\n",
        "\n",
        "distance_first_to_first = distance(train_mov1, test_mov1)\n",
        "distance_first_to_first"
      ],
      "execution_count": 38,
      "outputs": [
        {
          "output_type": "execute_result",
          "data": {
            "text/plain": [
              "0.04052576668373567"
            ]
          },
          "metadata": {},
          "execution_count": 38
        }
      ]
    },
    {
      "cell_type": "markdown",
      "metadata": {
        "id": "3fOarDH7l0uR"
      },
      "source": [
        "**Creating your own feature set**\n",
        "\n",
        "Unfortunately, using all of the features has some downsides.  One clear downside is *computational* -- computing Euclidean distances just takes a long time when we have lots of features.  You might have noticed that in the last question!\n",
        "\n",
        "So we're going to select just 20.  We'd like to choose features that are very *discriminative*. That is, features which lead us to correctly classify as much of the test set as possible.  This process of choosing features that will make a classifier work well is sometimes called *feature selection*, or more broadly *feature engineering*."
      ]
    },
    {
      "cell_type": "markdown",
      "metadata": {
        "id": "J9fS_8Uwl0uR"
      },
      "source": [
        "### Problem 2.3.b:\n",
        "\n",
        "In this question, we will help you get started on selecting more effective features for distinguishing romance from action movies. The plot below (generated for you) shows the average number of times each word occurs in a romance movie on the horizontal axis and the average number of times it occurs in an action movie on the vertical axis. "
      ]
    },
    {
      "cell_type": "markdown",
      "metadata": {
        "id": "G-KhCJkTl0uS"
      },
      "source": [
        "![alt text](https://raw.githubusercontent.com/YData123/sds265-fa21/main/assignments/assn1/word_plot.png \"Title\")"
      ]
    },
    {
      "cell_type": "markdown",
      "metadata": {
        "id": "XXqw7n2sl0uS"
      },
      "source": [
        "### Problem 2.3.c:\n",
        "\n",
        "Using the plot above, choose 20 common words that you think might let you distinguish between romance and action movies. Make sure to choose words that are frequent enough that every movie contains at least one of them. Don't just choose the 20 most frequent, though... you can do much better.\n",
        "\n",
        "You might want to come back to this question later to improve your list, once you've seen how to evaluate your classifier. "
      ]
    },
    {
      "cell_type": "code",
      "metadata": {
        "id": "1dQ2N24El0uS",
        "colab": {
          "base_uri": "https://localhost:8080/",
          "height": 0
        },
        "outputId": "8a32511d-5be1-4147-de3a-547c149a1b51"
      },
      "source": [
        "# Set my_20_features to a list of 20 features (strings that are column labels)\n",
        "\n",
        "my_20_features = ['run', 'world','job', 'play', 'idea', 'matter', 'room', 'school', 'war', 'mind', 'happi', 'shot', 'wife', 'head', 'turn', 'busi', 'move', 'knew', 'ship', 'mother']\n",
        "print(len(my_20_features))\n",
        "train_20 = train_movies[my_20_features]\n",
        "test_20 = test_movies[my_20_features]\n",
        "print(train_20)"
      ],
      "execution_count": 39,
      "outputs": [
        {
          "output_type": "stream",
          "name": "stdout",
          "text": [
            "20\n",
            "          run     world       job  ...      knew      ship    mother\n",
            "0    0.001082  0.000541  0.000541  ...  0.001082  0.000000  0.001622\n",
            "1    0.000705  0.000705  0.001058  ...  0.000353  0.000000  0.000000\n",
            "2    0.001186  0.000949  0.000474  ...  0.000000  0.002610  0.000000\n",
            "3    0.000989  0.000330  0.000000  ...  0.000000  0.000000  0.000000\n",
            "4    0.000521  0.000781  0.000000  ...  0.000781  0.000000  0.000260\n",
            "..        ...       ...       ...  ...       ...       ...       ...\n",
            "195  0.000306  0.000000  0.000000  ...  0.000306  0.003361  0.000000\n",
            "196  0.001899  0.000633  0.001583  ...  0.000000  0.000000  0.000633\n",
            "197  0.000824  0.000000  0.001647  ...  0.000549  0.000000  0.001098\n",
            "198  0.001134  0.001701  0.001134  ...  0.000378  0.000000  0.000945\n",
            "199  0.001031  0.000618  0.000824  ...  0.000412  0.000000  0.000412\n",
            "\n",
            "[200 rows x 20 columns]\n"
          ]
        }
      ]
    },
    {
      "cell_type": "markdown",
      "metadata": {
        "id": "-RzTjTbXl0uS"
      },
      "source": [
        "In two sentences or less, describe how you selected your features. "
      ]
    },
    {
      "cell_type": "markdown",
      "metadata": {
        "id": "wqD-qQeal0uS"
      },
      "source": [
        "*I tried to choose words which are present in both types of movies, but are not equally present in both kinds of movies. Graphically, I tried to select movies in the top quadrant, but not near the red curve*"
      ]
    },
    {
      "cell_type": "markdown",
      "metadata": {
        "id": "fo8RwAQFl0uS"
      },
      "source": [
        "Next, let's classify the first movie from our test set using these features.  You can examine the movie by running the cells below. Do you think it will be classified correctly?"
      ]
    },
    {
      "cell_type": "code",
      "metadata": {
        "id": "j_4iSc4Hl0uS",
        "colab": {
          "base_uri": "https://localhost:8080/",
          "height": 0
        },
        "outputId": "015f47ba-b662-4643-9fd9-47c36fcc29a5"
      },
      "source": [
        "print(\"Movie:\")\n",
        "print(test_movies.iloc[0,[0,1]])\n",
        "print(\"Features:\")\n",
        "print(test_20.iloc[0])"
      ],
      "execution_count": 40,
      "outputs": [
        {
          "output_type": "stream",
          "name": "stdout",
          "text": [
            "Movie:\n",
            "Title    the mummy\n",
            "Genre       action\n",
            "Name: 200, dtype: object\n",
            "Features:\n",
            "run       0.000000\n",
            "world     0.000321\n",
            "job       0.000321\n",
            "play      0.000642\n",
            "idea      0.000000\n",
            "matter    0.000321\n",
            "room      0.000642\n",
            "school    0.000000\n",
            "war       0.000000\n",
            "mind      0.000000\n",
            "happi     0.000000\n",
            "shot      0.000321\n",
            "wife      0.000000\n",
            "head      0.000000\n",
            "turn      0.000963\n",
            "busi      0.000000\n",
            "move      0.000000\n",
            "knew      0.000000\n",
            "ship      0.000000\n",
            "mother    0.000963\n",
            "Name: 200, dtype: float64\n"
          ]
        }
      ]
    },
    {
      "cell_type": "markdown",
      "metadata": {
        "id": "jJgoj-2pl0uT"
      },
      "source": [
        "As before, we want to look for the movies in the training set that are most like our test movie.  We will calculate the Euclidean distances from the test movie (using the 20 selected features) to all movies in the training set.  You could do this with a `for` loop, but to make it computationally faster, we have provided a function, `fast_distances`, to do this for you.  Read its documentation to make sure you understand what it does.  (You don't need to understand the code in its body unless you want to.)"
      ]
    },
    {
      "cell_type": "code",
      "metadata": {
        "id": "rjzaNDC1l0uT"
      },
      "source": [
        "# Just run this cell to define fast_distances.\n",
        "\n",
        "def fast_distances(test_row, train_dataframe):\n",
        "    \"\"\"An array of the distances between test_row and each row in train_rows.\n",
        "\n",
        "    Takes 2 arguments:\n",
        "      test_row: A row of a table containing features of one\n",
        "        test movie (e.g., test_20.iloc[0]).\n",
        "      train_table: A table of features (for example, the whole\n",
        "        table train_20).\"\"\"\n",
        "    assert len(train_dataframe.columns) < 50, \"Make sure you're not using all the features of the movies table.\"\n",
        "    counts_matrix = np.asmatrix(train_20.values)\n",
        "    diff = np.tile(test_row.values, [counts_matrix.shape[0], 1]) - counts_matrix\n",
        "    np.random.seed(0) # For tie breaking purposes\n",
        "    distances = np.squeeze(np.asarray(np.sqrt(np.square(diff).sum(1))))\n",
        "    eps = np.random.uniform(size=distances.shape)*1e-10 #Noise for tie break\n",
        "    distances = distances + eps\n",
        "    return distances"
      ],
      "execution_count": 41,
      "outputs": []
    },
    {
      "cell_type": "markdown",
      "metadata": {
        "id": "TO5CujEGl0uT"
      },
      "source": [
        "### Problem 2.3.d:\n",
        "\n",
        "Use the `fast_distances` function provided above to compute the distance from the first movie in the test set to all the movies in the training set, **using your set of 20 features**.  Make a new dataframe called `genre_and_distances` with one row for each movie in the training set and three columns:\n",
        "* The `\"Title\"` of the training movie\n",
        "* The `\"Genre\"` of the training movie\n",
        "* The `\"Distance\"` from the first movie in the test set \n",
        "\n",
        "Ensure that `genre_and_distances` is **sorted in increasing order by distance to the first test movie**.\n",
        "\n",
        "*Hint*: You may find the function [`sort_values`](https://pandas.pydata.org/pandas-docs/stable/reference/api/pandas.DataFrame.sort_values.html) useful."
      ]
    },
    {
      "cell_type": "code",
      "metadata": {
        "id": "BU3-paWRl0uT",
        "colab": {
          "base_uri": "https://localhost:8080/",
          "height": 0
        },
        "outputId": "e9a9852d-166e-4cab-80fd-a348339c8190"
      },
      "source": [
        "testmov_first = test_20.iloc[0]\n",
        "genre_and_distances = train_movies[['Title', 'Genre']]\n",
        "genre_and_distances['Distance'] = fast_distances(testmov_first, train_20).tolist()\n",
        "#genre_and_distances = fast_distances(testmov_first, train_20)\n",
        "genre_and_distances = genre_and_distances.sort_values(by = 'Distance')\n",
        "genre_and_distances"
      ],
      "execution_count": 42,
      "outputs": [
        {
          "output_type": "stream",
          "name": "stderr",
          "text": [
            "/usr/local/lib/python3.7/dist-packages/ipykernel_launcher.py:3: SettingWithCopyWarning:\n",
            "\n",
            "\n",
            "A value is trying to be set on a copy of a slice from a DataFrame.\n",
            "Try using .loc[row_indexer,col_indexer] = value instead\n",
            "\n",
            "See the caveats in the documentation: https://pandas.pydata.org/pandas-docs/stable/user_guide/indexing.html#returning-a-view-versus-a-copy\n",
            "\n"
          ]
        },
        {
          "output_type": "execute_result",
          "data": {
            "text/html": [
              "<div>\n",
              "<style scoped>\n",
              "    .dataframe tbody tr th:only-of-type {\n",
              "        vertical-align: middle;\n",
              "    }\n",
              "\n",
              "    .dataframe tbody tr th {\n",
              "        vertical-align: top;\n",
              "    }\n",
              "\n",
              "    .dataframe thead th {\n",
              "        text-align: right;\n",
              "    }\n",
              "</style>\n",
              "<table border=\"1\" class=\"dataframe\">\n",
              "  <thead>\n",
              "    <tr style=\"text-align: right;\">\n",
              "      <th></th>\n",
              "      <th>Title</th>\n",
              "      <th>Genre</th>\n",
              "      <th>Distance</th>\n",
              "    </tr>\n",
              "  </thead>\n",
              "  <tbody>\n",
              "    <tr>\n",
              "      <th>104</th>\n",
              "      <td>sideways</td>\n",
              "      <td>romance</td>\n",
              "      <td>0.001604</td>\n",
              "    </tr>\n",
              "    <tr>\n",
              "      <th>150</th>\n",
              "      <td>life as a house</td>\n",
              "      <td>romance</td>\n",
              "      <td>0.001731</td>\n",
              "    </tr>\n",
              "    <tr>\n",
              "      <th>70</th>\n",
              "      <td>what women want</td>\n",
              "      <td>romance</td>\n",
              "      <td>0.001758</td>\n",
              "    </tr>\n",
              "    <tr>\n",
              "      <th>94</th>\n",
              "      <td>asylum</td>\n",
              "      <td>romance</td>\n",
              "      <td>0.001855</td>\n",
              "    </tr>\n",
              "    <tr>\n",
              "      <th>151</th>\n",
              "      <td>an american werewolf in paris</td>\n",
              "      <td>romance</td>\n",
              "      <td>0.001870</td>\n",
              "    </tr>\n",
              "    <tr>\n",
              "      <th>...</th>\n",
              "      <td>...</td>\n",
              "      <td>...</td>\n",
              "      <td>...</td>\n",
              "    </tr>\n",
              "    <tr>\n",
              "      <th>47</th>\n",
              "      <td>star trek v: the final frontier</td>\n",
              "      <td>action</td>\n",
              "      <td>0.006758</td>\n",
              "    </tr>\n",
              "    <tr>\n",
              "      <th>10</th>\n",
              "      <td>shakespeare in love</td>\n",
              "      <td>romance</td>\n",
              "      <td>0.007070</td>\n",
              "    </tr>\n",
              "    <tr>\n",
              "      <th>71</th>\n",
              "      <td>feast</td>\n",
              "      <td>action</td>\n",
              "      <td>0.007326</td>\n",
              "    </tr>\n",
              "    <tr>\n",
              "      <th>110</th>\n",
              "      <td>the jazz singer</td>\n",
              "      <td>romance</td>\n",
              "      <td>0.009011</td>\n",
              "    </tr>\n",
              "    <tr>\n",
              "      <th>89</th>\n",
              "      <td>soldier</td>\n",
              "      <td>action</td>\n",
              "      <td>0.011011</td>\n",
              "    </tr>\n",
              "  </tbody>\n",
              "</table>\n",
              "<p>200 rows × 3 columns</p>\n",
              "</div>"
            ],
            "text/plain": [
              "                               Title    Genre  Distance\n",
              "104                         sideways  romance  0.001604\n",
              "150                  life as a house  romance  0.001731\n",
              "70                   what women want  romance  0.001758\n",
              "94                            asylum  romance  0.001855\n",
              "151    an american werewolf in paris  romance  0.001870\n",
              "..                               ...      ...       ...\n",
              "47   star trek v: the final frontier   action  0.006758\n",
              "10               shakespeare in love  romance  0.007070\n",
              "71                             feast   action  0.007326\n",
              "110                  the jazz singer  romance  0.009011\n",
              "89                           soldier   action  0.011011\n",
              "\n",
              "[200 rows x 3 columns]"
            ]
          },
          "metadata": {},
          "execution_count": 42
        }
      ]
    },
    {
      "cell_type": "markdown",
      "metadata": {
        "id": "Rx0hROFUl0uT"
      },
      "source": [
        "### Problem 2.3.e:\n",
        "\n",
        "Now compute the 5-nearest neighbors classification of the first movie in the test set.  That is, decide on its genre by finding the most common genre among its 5 nearest neighbors in the training set, according to the distances you've calculated.  Then check whether your classifier chose the right genre.  (Depending on the features you chose, your classifier might not get this movie right, and that's okay.)"
      ]
    },
    {
      "cell_type": "code",
      "metadata": {
        "id": "NZT4G50sl0uT",
        "colab": {
          "base_uri": "https://localhost:8080/",
          "height": 0
        },
        "outputId": "742c8689-3f6a-4017-985d-0800834e953e"
      },
      "source": [
        "# Set my_assigned_genre to the most common genre among these.\n",
        "req_neighbours = 5\n",
        "my_assigned_genre = most_common('Genre', genre_and_distances.iloc[0:req_neighbours])\n",
        "\n",
        "# Set my_assigned_genre_was_correct to True if my_assigned_genre\n",
        "# matches the actual genre of the first movie in the test set.\n",
        "my_assigned_genre_was_correct = (my_assigned_genre == test_movies.iloc[0]['Genre'])\n",
        "\n",
        "print(\"The assigned genre, {}, was{}correct.\".format(my_assigned_genre, \" \" if my_assigned_genre_was_correct else \" not \"))"
      ],
      "execution_count": 43,
      "outputs": [
        {
          "output_type": "stream",
          "name": "stdout",
          "text": [
            "The assigned genre, romance, was not correct.\n"
          ]
        }
      ]
    },
    {
      "cell_type": "markdown",
      "metadata": {
        "id": "o6jwHXSfl0uU"
      },
      "source": [
        "**A classifier function**\n",
        "\n",
        "Now we can write a single function that encapsulates the whole process of classification."
      ]
    },
    {
      "cell_type": "markdown",
      "metadata": {
        "id": "oME665fcl0uU"
      },
      "source": [
        "### Problem 2.3.f:\n",
        "\n",
        "Write a function called `classify`.  It should take the following four arguments:\n",
        "* A row of features for a movie to classify (e.g., `test_20.iloc[0]`).\n",
        "* A table with a column for each feature (e.g., `train_20`).\n",
        "* An array of classes that has as many items as the previous table has rows, and in the same order.\n",
        "* `k`, the number of neighbors to use in classification.\n",
        "\n",
        "It should return the class a `k`-nearest neighbor classifier picks for the given row of features (the string `'Romance'` or the string `'Action'`).\n",
        "\n",
        "*Hint:* You may find [`Counter().most_common()`](https://docs.python.org/3/library/collections.html#collections.Counter) helpful for finding the classification result."
      ]
    },
    {
      "cell_type": "code",
      "metadata": {
        "id": "g3wuFxRAl0uU"
      },
      "source": [
        "def classify(test_row, train_rows, train_labels, k):\n",
        "    \"\"\"Return the most common class among k nearest neigbors to test_row.\"\"\"\n",
        "    distances = fast_distances(test_row, train_rows)\n",
        "    genre_and_distances = train_movies[['Title', 'Genre']]\n",
        "    genre_and_distances['Distance'] = fast_distances(test_row, train_rows).tolist()\n",
        "    #genre_and_distances = fast_distances(testmov_first, train_20)\n",
        "    genre_and_distances = genre_and_distances.sort_values(by = 'Distance')\n",
        "    my_assigned_genre = most_common('Genre', genre_and_distances.iloc[0:k])\n",
        "    \n",
        "    return my_assigned_genre"
      ],
      "execution_count": 44,
      "outputs": []
    },
    {
      "cell_type": "markdown",
      "metadata": {
        "id": "QG9Nz3jbl0uU"
      },
      "source": [
        "### Problem 2.3.g:\n",
        "\n",
        "Assign `king_kong_genre` to the genre predicted by your classifier for the movie \"king kong\" in the test set, using **11 neighbors** and using your 20 features."
      ]
    },
    {
      "cell_type": "code",
      "metadata": {
        "id": "sGL5p4ghl0uU",
        "colab": {
          "base_uri": "https://localhost:8080/",
          "height": 0
        },
        "outputId": "fb20005b-0e56-4d50-cec0-cc86f2b99736"
      },
      "source": [
        "# The sample solution first defined a row called king_kong_features.\n",
        "king_kong_features = test_movies[test_movies['Title'] == 'king kong'][my_20_features]\n",
        "king_kong_genre = classify(king_kong_features, train_20, 1, 11)\n",
        "king_kong_genre"
      ],
      "execution_count": 45,
      "outputs": [
        {
          "output_type": "stream",
          "name": "stderr",
          "text": [
            "/usr/local/lib/python3.7/dist-packages/ipykernel_launcher.py:5: SettingWithCopyWarning:\n",
            "\n",
            "\n",
            "A value is trying to be set on a copy of a slice from a DataFrame.\n",
            "Try using .loc[row_indexer,col_indexer] = value instead\n",
            "\n",
            "See the caveats in the documentation: https://pandas.pydata.org/pandas-docs/stable/user_guide/indexing.html#returning-a-view-versus-a-copy\n",
            "\n"
          ]
        },
        {
          "output_type": "execute_result",
          "data": {
            "application/vnd.google.colaboratory.intrinsic+json": {
              "type": "string"
            },
            "text/plain": [
              "'action'"
            ]
          },
          "metadata": {},
          "execution_count": 45
        }
      ]
    },
    {
      "cell_type": "markdown",
      "metadata": {
        "id": "o_f_vtgTl0uU"
      },
      "source": [
        "Finally, when we evaluate our classifier, it will be useful to have a classification function that is specialized to use a fixed training set and a fixed value of `k`."
      ]
    },
    {
      "cell_type": "markdown",
      "metadata": {
        "id": "nRfrljrSl0uV"
      },
      "source": [
        "### Problem 2.3.h:\n",
        "\n",
        "Create a classification function that takes as its argument a row containing your 20 features and classifies that row using the 11-nearest neighbors algorithm with `train_20` as its training set."
      ]
    },
    {
      "cell_type": "code",
      "metadata": {
        "id": "9eno_udBl0uW",
        "colab": {
          "base_uri": "https://localhost:8080/",
          "height": 171
        },
        "outputId": "84d6b164-cb46-4703-b161-a7473c104d7d"
      },
      "source": [
        "def classify_feature_row(row):\n",
        "    assigned_genre = classify(row, train_20, 1, 11)\n",
        "\n",
        "    return assigned_genre\n",
        "\n",
        "# When you're done, this should produce 'Romance' or 'Action'.\n",
        "classify_feature_row(test_20.iloc[0])"
      ],
      "execution_count": 46,
      "outputs": [
        {
          "output_type": "stream",
          "name": "stderr",
          "text": [
            "/usr/local/lib/python3.7/dist-packages/ipykernel_launcher.py:5: SettingWithCopyWarning:\n",
            "\n",
            "\n",
            "A value is trying to be set on a copy of a slice from a DataFrame.\n",
            "Try using .loc[row_indexer,col_indexer] = value instead\n",
            "\n",
            "See the caveats in the documentation: https://pandas.pydata.org/pandas-docs/stable/user_guide/indexing.html#returning-a-view-versus-a-copy\n",
            "\n"
          ]
        },
        {
          "output_type": "execute_result",
          "data": {
            "application/vnd.google.colaboratory.intrinsic+json": {
              "type": "string"
            },
            "text/plain": [
              "'romance'"
            ]
          },
          "metadata": {},
          "execution_count": 46
        }
      ]
    },
    {
      "cell_type": "markdown",
      "metadata": {
        "id": "24a0D-iKl0uW"
      },
      "source": [
        "### Part 4: Evaluating your classifier\n",
        "\n",
        "Now that it's easy to use the classifier, let's see how accurate it is on the whole test set.\n",
        "\n",
        "### Problem 2.4.a:\n",
        "\n",
        "Use `classify_feature_row` and [`pandas.DataFrame.apply`](https://pandas.pydata.org/pandas-docs/stable/reference/api/pandas.DataFrame.apply.html) (or a loop) to classify every movie in the test set.  Assign these guesses as an array to `test_guesses`.  **Then**, compute the proportion of correct classifications. "
      ]
    },
    {
      "cell_type": "code",
      "metadata": {
        "id": "Ka2fOGZkl0uW",
        "colab": {
          "base_uri": "https://localhost:8080/",
          "height": 0
        },
        "outputId": "c56e515f-9dff-47d0-b41d-ac688b70e42d"
      },
      "source": [
        "#temp_df.iloc[0:20]\n",
        "test_guesses = []\n",
        "correct_counter = 0\n",
        "boolean_val = []\n",
        "for i in range(len(test_20)):\n",
        "  assigned_genre = classify_feature_row(test_20.iloc[i])  \n",
        "  actual_genre = test_movies.iloc[i]['Genre']\n",
        "  test_guesses.append(assigned_genre)\n",
        "  check_genre = (assigned_genre == actual_genre)\n",
        "  boolean_val.append(check_genre)\n",
        "  if check_genre:\n",
        "    correct_counter += 1\n",
        "\n",
        "proportion_correct = correct_counter/len(test_20)\n",
        "proportion_correct"
      ],
      "execution_count": 47,
      "outputs": [
        {
          "output_type": "stream",
          "name": "stderr",
          "text": [
            "/usr/local/lib/python3.7/dist-packages/ipykernel_launcher.py:5: SettingWithCopyWarning:\n",
            "\n",
            "\n",
            "A value is trying to be set on a copy of a slice from a DataFrame.\n",
            "Try using .loc[row_indexer,col_indexer] = value instead\n",
            "\n",
            "See the caveats in the documentation: https://pandas.pydata.org/pandas-docs/stable/user_guide/indexing.html#returning-a-view-versus-a-copy\n",
            "\n"
          ]
        },
        {
          "output_type": "execute_result",
          "data": {
            "text/plain": [
              "0.6388888888888888"
            ]
          },
          "metadata": {},
          "execution_count": 47
        }
      ]
    },
    {
      "cell_type": "markdown",
      "metadata": {
        "id": "W1i52Xeil0uX"
      },
      "source": [
        "### Problem 2.4.b:\n",
        "\n",
        "An important part of evaluating your classifiers is figuring out where they make mistakes. Assign the name `test_movie_correctness` to a dataframe with three columns, `'Title'`, `'Genre'`, and `'Was correct'`. The last column should contain `True` or `False` depending on whether or not the movie was classified correctly."
      ]
    },
    {
      "cell_type": "code",
      "metadata": {
        "id": "0p_YSg3yl0uX",
        "colab": {
          "base_uri": "https://localhost:8080/",
          "height": 1301
        },
        "outputId": "369c33f7-da2a-4ab4-ef5f-9821494a22a0"
      },
      "source": [
        "test_movie_correctness = test_movies[['Title', 'Genre']]\n",
        "test_movie_correctness['Was correct'] = boolean_val\n",
        "test_movie_correctness.sort_values('Was correct')"
      ],
      "execution_count": 48,
      "outputs": [
        {
          "output_type": "stream",
          "name": "stderr",
          "text": [
            "/usr/local/lib/python3.7/dist-packages/ipykernel_launcher.py:2: SettingWithCopyWarning:\n",
            "\n",
            "\n",
            "A value is trying to be set on a copy of a slice from a DataFrame.\n",
            "Try using .loc[row_indexer,col_indexer] = value instead\n",
            "\n",
            "See the caveats in the documentation: https://pandas.pydata.org/pandas-docs/stable/user_guide/indexing.html#returning-a-view-versus-a-copy\n",
            "\n"
          ]
        },
        {
          "output_type": "execute_result",
          "data": {
            "text/html": [
              "<div>\n",
              "<style scoped>\n",
              "    .dataframe tbody tr th:only-of-type {\n",
              "        vertical-align: middle;\n",
              "    }\n",
              "\n",
              "    .dataframe tbody tr th {\n",
              "        vertical-align: top;\n",
              "    }\n",
              "\n",
              "    .dataframe thead th {\n",
              "        text-align: right;\n",
              "    }\n",
              "</style>\n",
              "<table border=\"1\" class=\"dataframe\">\n",
              "  <thead>\n",
              "    <tr style=\"text-align: right;\">\n",
              "      <th></th>\n",
              "      <th>Title</th>\n",
              "      <th>Genre</th>\n",
              "      <th>Was correct</th>\n",
              "    </tr>\n",
              "  </thead>\n",
              "  <tbody>\n",
              "    <tr>\n",
              "      <th>200</th>\n",
              "      <td>the mummy</td>\n",
              "      <td>action</td>\n",
              "      <td>False</td>\n",
              "    </tr>\n",
              "    <tr>\n",
              "      <th>232</th>\n",
              "      <td>logan's run</td>\n",
              "      <td>action</td>\n",
              "      <td>False</td>\n",
              "    </tr>\n",
              "    <tr>\n",
              "      <th>231</th>\n",
              "      <td>legend</td>\n",
              "      <td>romance</td>\n",
              "      <td>False</td>\n",
              "    </tr>\n",
              "    <tr>\n",
              "      <th>225</th>\n",
              "      <td>rear window</td>\n",
              "      <td>romance</td>\n",
              "      <td>False</td>\n",
              "    </tr>\n",
              "    <tr>\n",
              "      <th>224</th>\n",
              "      <td>an officer and a gentleman</td>\n",
              "      <td>romance</td>\n",
              "      <td>False</td>\n",
              "    </tr>\n",
              "    <tr>\n",
              "      <th>221</th>\n",
              "      <td>dune</td>\n",
              "      <td>action</td>\n",
              "      <td>False</td>\n",
              "    </tr>\n",
              "    <tr>\n",
              "      <th>220</th>\n",
              "      <td>the negotiator</td>\n",
              "      <td>action</td>\n",
              "      <td>False</td>\n",
              "    </tr>\n",
              "    <tr>\n",
              "      <th>216</th>\n",
              "      <td>top gun</td>\n",
              "      <td>romance</td>\n",
              "      <td>False</td>\n",
              "    </tr>\n",
              "    <tr>\n",
              "      <th>213</th>\n",
              "      <td>blade ii</td>\n",
              "      <td>action</td>\n",
              "      <td>False</td>\n",
              "    </tr>\n",
              "    <tr>\n",
              "      <th>217</th>\n",
              "      <td>crime spree</td>\n",
              "      <td>action</td>\n",
              "      <td>False</td>\n",
              "    </tr>\n",
              "    <tr>\n",
              "      <th>235</th>\n",
              "      <td>batman returns</td>\n",
              "      <td>action</td>\n",
              "      <td>False</td>\n",
              "    </tr>\n",
              "    <tr>\n",
              "      <th>204</th>\n",
              "      <td>the bourne supremacy</td>\n",
              "      <td>action</td>\n",
              "      <td>False</td>\n",
              "    </tr>\n",
              "    <tr>\n",
              "      <th>209</th>\n",
              "      <td>badlands</td>\n",
              "      <td>romance</td>\n",
              "      <td>False</td>\n",
              "    </tr>\n",
              "    <tr>\n",
              "      <th>233</th>\n",
              "      <td>solaris</td>\n",
              "      <td>romance</td>\n",
              "      <td>True</td>\n",
              "    </tr>\n",
              "    <tr>\n",
              "      <th>201</th>\n",
              "      <td>x-men</td>\n",
              "      <td>action</td>\n",
              "      <td>True</td>\n",
              "    </tr>\n",
              "    <tr>\n",
              "      <th>202</th>\n",
              "      <td>men in black</td>\n",
              "      <td>action</td>\n",
              "      <td>True</td>\n",
              "    </tr>\n",
              "    <tr>\n",
              "      <th>230</th>\n",
              "      <td>48 hrs.</td>\n",
              "      <td>action</td>\n",
              "      <td>True</td>\n",
              "    </tr>\n",
              "    <tr>\n",
              "      <th>229</th>\n",
              "      <td>independence day</td>\n",
              "      <td>action</td>\n",
              "      <td>True</td>\n",
              "    </tr>\n",
              "    <tr>\n",
              "      <th>228</th>\n",
              "      <td>my girl 2</td>\n",
              "      <td>romance</td>\n",
              "      <td>True</td>\n",
              "    </tr>\n",
              "    <tr>\n",
              "      <th>227</th>\n",
              "      <td>the bourne identity</td>\n",
              "      <td>action</td>\n",
              "      <td>True</td>\n",
              "    </tr>\n",
              "    <tr>\n",
              "      <th>226</th>\n",
              "      <td>the apartment</td>\n",
              "      <td>romance</td>\n",
              "      <td>True</td>\n",
              "    </tr>\n",
              "    <tr>\n",
              "      <th>203</th>\n",
              "      <td>witness</td>\n",
              "      <td>romance</td>\n",
              "      <td>True</td>\n",
              "    </tr>\n",
              "    <tr>\n",
              "      <th>223</th>\n",
              "      <td>blade</td>\n",
              "      <td>action</td>\n",
              "      <td>True</td>\n",
              "    </tr>\n",
              "    <tr>\n",
              "      <th>210</th>\n",
              "      <td>starship troopers</td>\n",
              "      <td>action</td>\n",
              "      <td>True</td>\n",
              "    </tr>\n",
              "    <tr>\n",
              "      <th>206</th>\n",
              "      <td>king kong</td>\n",
              "      <td>action</td>\n",
              "      <td>True</td>\n",
              "    </tr>\n",
              "    <tr>\n",
              "      <th>219</th>\n",
              "      <td>the cider house rules</td>\n",
              "      <td>romance</td>\n",
              "      <td>True</td>\n",
              "    </tr>\n",
              "    <tr>\n",
              "      <th>218</th>\n",
              "      <td>the majestic</td>\n",
              "      <td>romance</td>\n",
              "      <td>True</td>\n",
              "    </tr>\n",
              "    <tr>\n",
              "      <th>234</th>\n",
              "      <td>american outlaws</td>\n",
              "      <td>action</td>\n",
              "      <td>True</td>\n",
              "    </tr>\n",
              "    <tr>\n",
              "      <th>207</th>\n",
              "      <td>body of evidence</td>\n",
              "      <td>romance</td>\n",
              "      <td>True</td>\n",
              "    </tr>\n",
              "    <tr>\n",
              "      <th>215</th>\n",
              "      <td>the fantastic four</td>\n",
              "      <td>action</td>\n",
              "      <td>True</td>\n",
              "    </tr>\n",
              "    <tr>\n",
              "      <th>214</th>\n",
              "      <td>mr. deeds goes to town</td>\n",
              "      <td>romance</td>\n",
              "      <td>True</td>\n",
              "    </tr>\n",
              "    <tr>\n",
              "      <th>208</th>\n",
              "      <td>the hudsucker proxy</td>\n",
              "      <td>romance</td>\n",
              "      <td>True</td>\n",
              "    </tr>\n",
              "    <tr>\n",
              "      <th>212</th>\n",
              "      <td>cruel intentions</td>\n",
              "      <td>romance</td>\n",
              "      <td>True</td>\n",
              "    </tr>\n",
              "    <tr>\n",
              "      <th>211</th>\n",
              "      <td>star wars</td>\n",
              "      <td>action</td>\n",
              "      <td>True</td>\n",
              "    </tr>\n",
              "    <tr>\n",
              "      <th>205</th>\n",
              "      <td>sleepless in seattle</td>\n",
              "      <td>romance</td>\n",
              "      <td>True</td>\n",
              "    </tr>\n",
              "    <tr>\n",
              "      <th>222</th>\n",
              "      <td>superman iv: the quest for peace</td>\n",
              "      <td>action</td>\n",
              "      <td>True</td>\n",
              "    </tr>\n",
              "  </tbody>\n",
              "</table>\n",
              "</div>"
            ],
            "text/plain": [
              "                                Title    Genre  Was correct\n",
              "200                         the mummy   action        False\n",
              "232                       logan's run   action        False\n",
              "231                            legend  romance        False\n",
              "225                       rear window  romance        False\n",
              "224        an officer and a gentleman  romance        False\n",
              "221                              dune   action        False\n",
              "220                    the negotiator   action        False\n",
              "216                           top gun  romance        False\n",
              "213                          blade ii   action        False\n",
              "217                       crime spree   action        False\n",
              "235                    batman returns   action        False\n",
              "204              the bourne supremacy   action        False\n",
              "209                          badlands  romance        False\n",
              "233                           solaris  romance         True\n",
              "201                             x-men   action         True\n",
              "202                      men in black   action         True\n",
              "230                           48 hrs.   action         True\n",
              "229                  independence day   action         True\n",
              "228                         my girl 2  romance         True\n",
              "227               the bourne identity   action         True\n",
              "226                     the apartment  romance         True\n",
              "203                           witness  romance         True\n",
              "223                             blade   action         True\n",
              "210                 starship troopers   action         True\n",
              "206                         king kong   action         True\n",
              "219             the cider house rules  romance         True\n",
              "218                      the majestic  romance         True\n",
              "234                  american outlaws   action         True\n",
              "207                  body of evidence  romance         True\n",
              "215                the fantastic four   action         True\n",
              "214            mr. deeds goes to town  romance         True\n",
              "208               the hudsucker proxy  romance         True\n",
              "212                  cruel intentions  romance         True\n",
              "211                         star wars   action         True\n",
              "205              sleepless in seattle  romance         True\n",
              "222  superman iv: the quest for peace   action         True"
            ]
          },
          "metadata": {},
          "execution_count": 48
        }
      ]
    },
    {
      "cell_type": "markdown",
      "metadata": {
        "id": "OMNoHJ7il0uX"
      },
      "source": [
        "### Problem 2.4.c:\n",
        "\n",
        "Do you see a pattern in the mistakes that your classifier makes? In two sentences or less, describe any patterns you see in the results or any other interesting findings from the table above. If you need some help, try looking up the movies that your classifier got wrong on Wikipedia."
      ]
    },
    {
      "cell_type": "markdown",
      "metadata": {
        "id": "cP3giJrul0uX"
      },
      "source": [
        "*Write your answer here, replacing this text.*"
      ]
    },
    {
      "cell_type": "markdown",
      "metadata": {
        "id": "QcBrUOSCl0uX"
      },
      "source": [
        "At this point, you've gone through one cycle of classifier design.  Let's summarize the steps:\n",
        "1. From available data, select test and training sets.\n",
        "2. Choose an algorithm you're going to use for classification.\n",
        "3. Identify some features.\n",
        "4. Define a classifier function using your features and the training set.\n",
        "5. Evaluate its performance (the proportion of correct classifications) on the test set."
      ]
    }
  ]
}